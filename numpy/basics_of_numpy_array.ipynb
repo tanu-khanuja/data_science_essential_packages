{
 "cells": [
  {
   "cell_type": "markdown",
   "metadata": {},
   "source": [
    "Numerical Python (NumPy)\n",
    "\n",
    "- No matter what the data are, the first step in making them analyzable will be to transform them into arrays of numbers.\n",
    "\n",
    "- In some ways, NumPy arrays are like Python’s built-in list type, but NumPy arrays provide much more efficient storage and data operations as the arrays grow larger in size. NumPy arrays form the core of nearly the entire ecosystem of data science tools in Python.\n",
    "\n",
    "- backbone of many other scientific libraries, such as SciPy, Pandas, and TensorFlow.\n",
    "\n",
    "Why is NumPy efficient?\n",
    "\n",
    "- Memory Efficiency: NumPy arrays are more compact than Python lists, using less memory for the same data.\n",
    "\n",
    "- Speed: Operations on NumPy arrays are much faster than equivalent operations on Python lists due to optimized C and Fortran code running behind the scenes.\n",
    "\n",
    "- Convenience: NumPy provides many functions to perform common mathematical operations on arrays, making it easier to manipulate and process large datasets.\n"
   ]
  },
  {
   "cell_type": "code",
   "execution_count": 23,
   "metadata": {},
   "outputs": [
    {
     "data": {
      "text/plain": [
       "'2.0.1'"
      ]
     },
     "execution_count": 23,
     "metadata": {},
     "output_type": "execute_result"
    }
   ],
   "source": [
    "# Version check \n",
    "import numpy as np\n",
    "np.__version__"
   ]
  },
  {
   "cell_type": "markdown",
   "metadata": {},
   "source": [
    "\n",
    "\n",
    "\n",
    "\n",
    "\n",
    "3. Slicing of arrays\n",
    "- Getting and setting smaller subarrays within a larger array\n",
    "\n",
    "4. Reshaping of arrays\n",
    "- Changing the shape of a given array\n",
    "\n",
    "5. Joining and splitting of arrays\n",
    "- Combining multiple arrays into one, and splitting one array into many"
   ]
  },
  {
   "cell_type": "markdown",
   "metadata": {},
   "source": [
    "# 1. Attributes of arrays\n",
    "- Determining the size, shape, memory consumption, and data types of arrays."
   ]
  },
  {
   "cell_type": "code",
   "execution_count": 24,
   "metadata": {},
   "outputs": [
    {
     "name": "stdout",
     "output_type": "stream",
     "text": [
      "x1=array([5, 0, 3, 3, 7, 9])\n",
      "x2=array([[3, 5, 2, 4],\n",
      "       [7, 6, 8, 8],\n",
      "       [1, 6, 7, 7]])\n",
      "x3=array([[[8, 1, 5, 9, 8],\n",
      "        [9, 4, 3, 0, 3],\n",
      "        [5, 0, 2, 3, 8],\n",
      "        [1, 3, 3, 3, 7]],\n",
      "\n",
      "       [[0, 1, 9, 9, 0],\n",
      "        [4, 7, 3, 2, 7],\n",
      "        [2, 0, 0, 4, 5],\n",
      "        [5, 6, 8, 4, 1]],\n",
      "\n",
      "       [[4, 9, 8, 1, 1],\n",
      "        [7, 9, 9, 3, 6],\n",
      "        [7, 2, 0, 3, 5],\n",
      "        [9, 4, 4, 6, 4]]])\n"
     ]
    }
   ],
   "source": [
    "# Generate a random array\n",
    "\n",
    "import numpy as np\n",
    "np.random.seed(0)   # Seed numpy random number generator to ensure,\n",
    "                    # same random numbers are generated every time this code runs.\n",
    "\n",
    "x1= np.random.randint(10, size=6)   # One dimensional array of length 6\n",
    "print(f\"{x1=}\")\n",
    "\n",
    "x2= np.random.randint(10, size=(3,4))  # Two dimensional array \n",
    "print(f\"{x2=}\")\n",
    "\n",
    "x3= np.random.randint(10, size=(3,4,5))  # Three dimensional array\n",
    "print(f\"{x3=}\")\n"
   ]
  },
  {
   "cell_type": "code",
   "execution_count": 25,
   "metadata": {},
   "outputs": [
    {
     "name": "stdout",
     "output_type": "stream",
     "text": [
      "x1.ndim=1, x2.ndim=2, x3.ndim=3\n"
     ]
    }
   ],
   "source": [
    "# .ndim gives number of dimensions\n",
    "\n",
    "print(f\"{x1.ndim=}, {x2.ndim=}, {x3.ndim=}\")\n"
   ]
  },
  {
   "cell_type": "code",
   "execution_count": 26,
   "metadata": {},
   "outputs": [
    {
     "name": "stdout",
     "output_type": "stream",
     "text": [
      "x1.shape=(6,), x2.shape=(3, 4), x3.shape=(3, 4, 5)\n"
     ]
    }
   ],
   "source": [
    "# .shape gives shape array\n",
    "print(f\"{x1.shape=}, {x2.shape=}, {x3.shape=}\")"
   ]
  },
  {
   "cell_type": "code",
   "execution_count": 27,
   "metadata": {},
   "outputs": [
    {
     "name": "stdout",
     "output_type": "stream",
     "text": [
      "x1.size=6, x2.size=12, x3.size=60\n"
     ]
    }
   ],
   "source": [
    "# .size gives total number of elements\n",
    "print(f\"{x1.size=}, {x2.size=}, {x3.size=}\")"
   ]
  },
  {
   "cell_type": "code",
   "execution_count": 28,
   "metadata": {},
   "outputs": [
    {
     "name": "stdout",
     "output_type": "stream",
     "text": [
      "x1.dtype=dtype('int64')\n"
     ]
    }
   ],
   "source": [
    "# .dtype gives data type of an array\n",
    "print(f\"{x1.dtype=}\")"
   ]
  },
  {
   "cell_type": "code",
   "execution_count": 29,
   "metadata": {},
   "outputs": [
    {
     "name": "stdout",
     "output_type": "stream",
     "text": [
      "x3.itemsize=8\n"
     ]
    }
   ],
   "source": [
    "# .itemsize, which lists the size (in bytes) of each array element,\n",
    "print(f\"{x3.itemsize=}\")  # each element size is 8 bytes"
   ]
  },
  {
   "cell_type": "code",
   "execution_count": 30,
   "metadata": {},
   "outputs": [
    {
     "name": "stdout",
     "output_type": "stream",
     "text": [
      "x1.nbytes=48\n"
     ]
    }
   ],
   "source": [
    "#  .nbytes, which lists the total size (in bytes) of the array:\n",
    "print(f\"{x1.nbytes=}\")  # 6 elements x 8 bytes = 48 bytes"
   ]
  },
  {
   "cell_type": "markdown",
   "metadata": {},
   "source": [
    "# 2. Indexing of arrays\n",
    "- Getting and setting the value of individual array elements."
   ]
  },
  {
   "cell_type": "markdown",
   "metadata": {},
   "source": [
    "## One dimensional array"
   ]
  },
  {
   "cell_type": "code",
   "execution_count": 34,
   "metadata": {},
   "outputs": [
    {
     "name": "stdout",
     "output_type": "stream",
     "text": [
      "[5 0 3 3 7 9]\n"
     ]
    }
   ],
   "source": [
    "print(x1)"
   ]
  },
  {
   "cell_type": "markdown",
   "metadata": {},
   "source": [
    "## Two dimensional array"
   ]
  },
  {
   "cell_type": "code",
   "execution_count": 39,
   "metadata": {},
   "outputs": [
    {
     "name": "stdout",
     "output_type": "stream",
     "text": [
      "[[3 5 2 4]\n",
      " [7 6 8 8]\n",
      " [1 6 7 7]]\n"
     ]
    }
   ],
   "source": [
    "print(x2)"
   ]
  },
  {
   "cell_type": "code",
   "execution_count": 41,
   "metadata": {},
   "outputs": [
    {
     "name": "stdout",
     "output_type": "stream",
     "text": [
      "3\n"
     ]
    }
   ],
   "source": [
    "print(x2[0,0])"
   ]
  },
  {
   "cell_type": "code",
   "execution_count": 42,
   "metadata": {},
   "outputs": [
    {
     "name": "stdout",
     "output_type": "stream",
     "text": [
      "6\n"
     ]
    }
   ],
   "source": [
    "print(x2[-1,-3])"
   ]
  },
  {
   "cell_type": "code",
   "execution_count": 36,
   "metadata": {},
   "outputs": [
    {
     "name": "stdout",
     "output_type": "stream",
     "text": [
      "3\n"
     ]
    }
   ],
   "source": [
    "print(x1[-3])"
   ]
  },
  {
   "cell_type": "markdown",
   "metadata": {},
   "source": [
    "## Modify array values\n",
    "- Keep in mind that, unlike Python lists, NumPy arrays have a fixed type. \n",
    "- This means, for example, that if you attempt to insert a floating-point value to an integer array, the value will be silently truncated. Don’t be caught unaware by this behavior!"
   ]
  },
  {
   "cell_type": "code",
   "execution_count": 43,
   "metadata": {},
   "outputs": [
    {
     "data": {
      "text/plain": [
       "array([[3, 5, 2, 4],\n",
       "       [7, 6, 8, 8],\n",
       "       [1, 6, 7, 7]])"
      ]
     },
     "execution_count": 43,
     "metadata": {},
     "output_type": "execute_result"
    }
   ],
   "source": [
    "x2"
   ]
  },
  {
   "cell_type": "code",
   "execution_count": 45,
   "metadata": {},
   "outputs": [
    {
     "data": {
      "text/plain": [
       "array([[12,  5,  2,  4],\n",
       "       [ 7,  6,  8,  8],\n",
       "       [ 1,  6,  7,  7]])"
      ]
     },
     "execution_count": 45,
     "metadata": {},
     "output_type": "execute_result"
    }
   ],
   "source": [
    "x2[0,0] = 12  # Modify [0,0] value\n",
    "x2"
   ]
  },
  {
   "cell_type": "code",
   "execution_count": 46,
   "metadata": {},
   "outputs": [],
   "source": [
    "x2[0,0] = 5.1234  # Try replcing it with float value\n"
   ]
  },
  {
   "cell_type": "code",
   "execution_count": 48,
   "metadata": {},
   "outputs": [
    {
     "data": {
      "text/plain": [
       "array([[5, 5, 2, 4],\n",
       "       [7, 6, 8, 8],\n",
       "       [1, 6, 7, 7]])"
      ]
     },
     "execution_count": 48,
     "metadata": {},
     "output_type": "execute_result"
    }
   ],
   "source": [
    "x2  # See the truncated float to int 5"
   ]
  },
  {
   "cell_type": "markdown",
   "metadata": {},
   "source": [
    "# Array Slicing: Accessing Subarrays"
   ]
  },
  {
   "cell_type": "markdown",
   "metadata": {},
   "source": []
  }
 ],
 "metadata": {
  "kernelspec": {
   "display_name": "numpy",
   "language": "python",
   "name": "python3"
  },
  "language_info": {
   "codemirror_mode": {
    "name": "ipython",
    "version": 3
   },
   "file_extension": ".py",
   "mimetype": "text/x-python",
   "name": "python",
   "nbconvert_exporter": "python",
   "pygments_lexer": "ipython3",
   "version": "3.12.4"
  }
 },
 "nbformat": 4,
 "nbformat_minor": 2
}
