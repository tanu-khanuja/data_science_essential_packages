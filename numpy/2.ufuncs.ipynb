{
 "cells": [
  {
   "cell_type": "markdown",
   "metadata": {},
   "source": [
    "# 1. Universal Functions\n",
    "\n",
    "- Numpy is important in DS due to its vectorized operations using universal functions.\n",
    "- It can make a computation very fast or very slow.\n",
    "- Ufuncs are the functions which performs fast operations on each element of the array.\n",
    "- It makes repeated calculations an efficient one."
   ]
  },
  {
   "cell_type": "markdown",
   "metadata": {},
   "source": [
    "## (a) Slowness of loops\n",
    "- Because of dynamic and interpretated nature of python (where types are flexible), the machine code could not be compiled efficiently (which is done using C/Fortran behind Python interface).\n",
    "- To overcome this slowness challenge, some projects were developed like,\n",
    "  1. PyPy project\n",
    "  2. Cython Project\n",
    "  3. Numba Project\n",
    "But they have not reached the popularity/reach of CPython (which is default implementation of Python).\n",
    "\n",
    "- Python's slowness is visible especially where many small operations are performed repeatedly e.g. loops on elements of an array.\n",
    "\n",
    "### Example\n",
    "- Let's understand with example, we want to calculate reciprocal of an array elements using loop:"
   ]
  },
  {
   "cell_type": "code",
   "execution_count": 27,
   "metadata": {},
   "outputs": [],
   "source": [
    "import numpy as np\n",
    "from typing import Union\n",
    "from numpy.typing import NDArray \n",
    "np.random.seed(0)\n",
    "\n",
    "def compute_reciprocal(arr: NDArray[Union[np.int64, np.float64]]):\n",
    "    # print(np.empty(len(arr)))\n",
    "    output = np.empty(len(arr))\n",
    "    for i in range(len(arr)):\n",
    "        output[i] = 1/arr[i]\n",
    "    \n",
    "    return output\n"
   ]
  },
  {
   "cell_type": "code",
   "execution_count": 28,
   "metadata": {},
   "outputs": [
    {
     "name": "stdout",
     "output_type": "stream",
     "text": [
      "[0.16666667 1.         0.25       0.25       0.125     ]\n"
     ]
    },
    {
     "data": {
      "text/plain": [
       "array([6, 1, 4, 4, 8])"
      ]
     },
     "execution_count": 28,
     "metadata": {},
     "output_type": "execute_result"
    }
   ],
   "source": [
    "np.random.seed(0)\n",
    "arr = np.random.randint(1, 10, size=5)\n",
    "print(compute_reciprocal(arr))\n",
    "arr\n"
   ]
  },
  {
   "cell_type": "markdown",
   "metadata": {},
   "source": [
    "### Performance Check\n",
    "- For a big data, the time taken by above loop could be very big.\n",
    "- Let's check:\n"
   ]
  },
  {
   "cell_type": "code",
   "execution_count": 29,
   "metadata": {},
   "outputs": [
    {
     "name": "stdout",
     "output_type": "stream",
     "text": [
      "89.2 ms ± 2.1 ms per loop (mean ± std. dev. of 7 runs, 10 loops each)\n"
     ]
    }
   ],
   "source": [
    "big_arr = np.random.randint(1,100, size=1000000)\n",
    "%timeit compute_reciprocal(big_arr)"
   ]
  },
  {
   "cell_type": "markdown",
   "metadata": {},
   "source": [
    "- Its very absurd to see such a large time, when even todays cell phone also does billions of numerical operations per seconds.\n",
    "- Why this happens? Because CPython check type of elements before starting of each loop to calculate reciprocal.\n",
    "- **Thus We use ufuncs which are precompiled, and they do not check these dynamics.**"
   ]
  },
  {
   "cell_type": "markdown",
   "metadata": {},
   "source": [
    "# 2. Introducing Ufuncs\n",
    "- For many operations, Numpy has a convinient interface which is based on statically typed, compiled routines.\n",
    "- Any operation on array pushes the loop to this compiled layer under Numpy, where execution becomes very fast.\n",
    "- See with this example of reciprocal:"
   ]
  },
  {
   "cell_type": "code",
   "execution_count": 32,
   "metadata": {},
   "outputs": [
    {
     "name": "stdout",
     "output_type": "stream",
     "text": [
      "689 μs ± 9.27 μs per loop (mean ± std. dev. of 7 runs, 1,000 loops each)\n"
     ]
    }
   ],
   "source": [
    "# Reciprocal in numpy\n",
    "%timeit 1/big_arr "
   ]
  },
  {
   "cell_type": "markdown",
   "metadata": {},
   "source": [
    "- Unfuncs can be performed between arrays, scalar, 1D, multidim, between any combination."
   ]
  },
  {
   "cell_type": "code",
   "execution_count": 38,
   "metadata": {},
   "outputs": [
    {
     "data": {
      "text/plain": [
       "array([0.        , 0.5       , 0.66666667, 0.75      , 0.8       ,\n",
       "       0.83333333, 0.85714286, 0.875     , 0.88888889, 0.9       ])"
      ]
     },
     "execution_count": 38,
     "metadata": {},
     "output_type": "execute_result"
    }
   ],
   "source": [
    "np.arange(10)/np.arange(1,11)"
   ]
  },
  {
   "cell_type": "code",
   "execution_count": 46,
   "metadata": {},
   "outputs": [
    {
     "name": "stdout",
     "output_type": "stream",
     "text": [
      "x=array([[0, 1, 2],\n",
      "       [3, 4, 5],\n",
      "       [6, 7, 8]])\n",
      "2**x=array([[  1,   2,   4],\n",
      "       [  8,  16,  32],\n",
      "       [ 64, 128, 256]])\n"
     ]
    }
   ],
   "source": [
    "x = np.arange(9).reshape(3,3)\n",
    "print(f\"{x=}\")\n",
    "\n",
    "print(f\"{2**x=}\")"
   ]
  },
  {
   "cell_type": "markdown",
   "metadata": {},
   "source": [
    "- This is called **Vectorized operation**, ie, applying operations on all elements of an array simulataneously, not in loop.\n",
    "- **Wherever you see loop in python, check if that can be replced with vectorized operation.**"
   ]
  },
  {
   "cell_type": "markdown",
   "metadata": {},
   "source": [
    "# 3. Exploring Ufuncs\n",
    "- Universal Functions means which are statically defined in Numpy package.\n",
    "- These are of two types\n",
    "  1. Unary - operates on one value (e.g. reciprocal, exponential etc)\n",
    "  2. Binary - takes two values to operate on (e.g. addition)"
   ]
  },
  {
   "cell_type": "code",
   "execution_count": 55,
   "metadata": {},
   "outputs": [
    {
     "name": "stdout",
     "output_type": "stream",
     "text": [
      "x=array([0, 1, 2, 3])\n",
      "x+5=array([5, 6, 7, 8])\n",
      "x-5=array([-5, -4, -3, -2])\n",
      "x/2=array([0. , 0.5, 1. , 1.5])\n",
      "x//2=array([0, 0, 1, 1])\n",
      "x**2=array([0, 1, 4, 9])\n"
     ]
    }
   ],
   "source": [
    "x = np.arange(4)\n",
    "print(f\"{x=}\")\n",
    "print(f\"{x+5=}\")\n",
    "print(f\"{x-5=}\")\n",
    "print(f\"{x/2=}\")\n",
    "print(f\"{x//2=}\")  # Floor division\n",
    "print(f\"{x**2=}\")  # Square\n",
    "\n"
   ]
  },
  {
   "cell_type": "markdown",
   "metadata": {},
   "source": [
    "- Arithmatic ops are wrappers of UFuncs like:\n",
    "- + is wrapper of np.add()"
   ]
  },
  {
   "cell_type": "code",
   "execution_count": 56,
   "metadata": {},
   "outputs": [
    {
     "data": {
      "text/plain": [
       "array([2, 3, 4, 5])"
      ]
     },
     "execution_count": 56,
     "metadata": {},
     "output_type": "execute_result"
    }
   ],
   "source": [
    "np.add(x,2)"
   ]
  },
  {
   "cell_type": "code",
   "execution_count": 61,
   "metadata": {},
   "outputs": [
    {
     "name": "stdout",
     "output_type": "stream",
     "text": [
      "[2 1 0 1 2]\n"
     ]
    }
   ],
   "source": [
    "# Absolute value\n",
    "x = np.array([-2,-1,0,1,2])\n",
    "print(np.abs(x))"
   ]
  },
  {
   "cell_type": "code",
   "execution_count": 63,
   "metadata": {},
   "outputs": [
    {
     "data": {
      "text/plain": [
       "array([3.60555128, 1.41421356, 0.        , 1.        , 2.        ])"
      ]
     },
     "execution_count": 63,
     "metadata": {},
     "output_type": "execute_result"
    }
   ],
   "source": [
    "# Absolute of complex numbers\n",
    "x = np.array([-2+3j,-1+1j,0,1,2])\n",
    "np.abs(x)"
   ]
  },
  {
   "cell_type": "code",
   "execution_count": 70,
   "metadata": {},
   "outputs": [
    {
     "name": "stdout",
     "output_type": "stream",
     "text": [
      "theta=array([0.        , 1.04719755, 2.0943951 , 3.14159265])\n"
     ]
    },
    {
     "data": {
      "text/plain": [
       "array([0.00000000e+00, 8.66025404e-01, 8.66025404e-01, 1.22464680e-16])"
      ]
     },
     "execution_count": 70,
     "metadata": {},
     "output_type": "execute_result"
    }
   ],
   "source": [
    "# Trigonometrci funcs\n",
    "theta = np.linspace(0, np.pi, 4)\n",
    "print(f\"{theta=}\")\n",
    "np.sin(theta)"
   ]
  },
  {
   "cell_type": "code",
   "execution_count": 78,
   "metadata": {},
   "outputs": [
    {
     "data": {
      "text/plain": [
       "array([ 4, 16, 64])"
      ]
     },
     "execution_count": 78,
     "metadata": {},
     "output_type": "execute_result"
    }
   ],
   "source": [
    "# Exponent\n",
    "x = [1,2,3]\n",
    "np.exp(x)  # e^x\n",
    "np.exp2(x) # e^2x\n",
    "np.power(4,x)  #4^x"
   ]
  },
  {
   "cell_type": "markdown",
   "metadata": {},
   "source": [
    "## Specialized Funcs in Numpy\n",
    "\n",
    "- like hyperbolic trig funcs\n",
    "- bitwise arithmatic\n",
    "- comparison operators etc\n",
    "- scipy module provides much more specialized funcs.\n",
    "- Thus, always look documentation of these packages whenever want to perform any mathematical ops.\n"
   ]
  },
  {
   "cell_type": "markdown",
   "metadata": {},
   "source": [
    "## Advanced ufuncs Features\n",
    "\n",
    "### (a) Output specification - 'out='\n",
    "\n",
    "- We can store output of a operation in a specific array, which uses direct memory location that temporary arrays. "
   ]
  },
  {
   "cell_type": "code",
   "execution_count": 86,
   "metadata": {},
   "outputs": [
    {
     "data": {
      "text/plain": [
       "array([ 0., 10., 20., 30., 40.])"
      ]
     },
     "execution_count": 86,
     "metadata": {},
     "output_type": "execute_result"
    }
   ],
   "source": [
    "x = np.arange(5)\n",
    "y = np.empty(5)\n",
    "np.multiply(x,10, out=y)\n",
    "y"
   ]
  },
  {
   "cell_type": "code",
   "execution_count": 92,
   "metadata": {},
   "outputs": [
    {
     "data": {
      "text/plain": [
       "array([ 1.,  0.,  2.,  0.,  4.,  0.,  8.,  0., 16.,  0.])"
      ]
     },
     "execution_count": 92,
     "metadata": {},
     "output_type": "execute_result"
    }
   ],
   "source": [
    "x = [0,1,2,3,4]\n",
    "y = np.zeros(10)\n",
    "np.power(2,x, out=y[::2])   #index slicing- start:stop:step\n",
    "y"
   ]
  },
  {
   "cell_type": "markdown",
   "metadata": {},
   "source": [
    "### (b) Aggregates\n",
    "\n",
    "- In 1D array, to perform addition of elements\n",
    "\n",
    "```python\n",
    "- .reduce()\n",
    "- .accumulate()\n"
   ]
  },
  {
   "cell_type": "code",
   "execution_count": 98,
   "metadata": {},
   "outputs": [
    {
     "data": {
      "text/plain": [
       "np.int64(15)"
      ]
     },
     "execution_count": 98,
     "metadata": {},
     "output_type": "execute_result"
    }
   ],
   "source": [
    "x = np.arange(1,6)\n",
    "np.add.reduce(x)  # Gives final output"
   ]
  },
  {
   "cell_type": "code",
   "execution_count": 100,
   "metadata": {},
   "outputs": [
    {
     "data": {
      "text/plain": [
       "array([ 1,  3,  6, 10, 15])"
      ]
     },
     "execution_count": 100,
     "metadata": {},
     "output_type": "execute_result"
    }
   ],
   "source": [
    "np.add.accumulate(x)  # Stores intermediate results"
   ]
  },
  {
   "cell_type": "code",
   "execution_count": 106,
   "metadata": {},
   "outputs": [],
   "source": [
    "assert np.multiply.reduce(x) == 120\n",
    "assert list(np.multiply.accumulate(x))== [1,2,6,24,120]"
   ]
  },
  {
   "cell_type": "markdown",
   "metadata": {},
   "source": [
    "### (c) Outer Products\n",
    "- To get all possible pairs of two arrays.\n",
    "- Used to create multiplication table."
   ]
  },
  {
   "cell_type": "code",
   "execution_count": 109,
   "metadata": {},
   "outputs": [
    {
     "data": {
      "text/plain": [
       "array([[ 1,  2,  3,  4,  5],\n",
       "       [ 2,  4,  6,  8, 10],\n",
       "       [ 3,  6,  9, 12, 15],\n",
       "       [ 4,  8, 12, 16, 20],\n",
       "       [ 5, 10, 15, 20, 25]])"
      ]
     },
     "execution_count": 109,
     "metadata": {},
     "output_type": "execute_result"
    }
   ],
   "source": [
    "x = np.arange(1,6)\n",
    "np.multiply.outer(x,x)"
   ]
  },
  {
   "cell_type": "markdown",
   "metadata": {},
   "source": [
    "### (d) Broadcasting\n",
    "- Ufuncs are used to operate on arrays of different sizes and shapes, this is called broadcasting.\n",
    "- Discussed separately."
   ]
  },
  {
   "cell_type": "code",
   "execution_count": null,
   "metadata": {},
   "outputs": [],
   "source": [
    " "
   ]
  }
 ],
 "metadata": {
  "kernelspec": {
   "display_name": "libraries",
   "language": "python",
   "name": "python3"
  },
  "language_info": {
   "codemirror_mode": {
    "name": "ipython",
    "version": 3
   },
   "file_extension": ".py",
   "mimetype": "text/x-python",
   "name": "python",
   "nbconvert_exporter": "python",
   "pygments_lexer": "ipython3",
   "version": "3.12.5"
  }
 },
 "nbformat": 4,
 "nbformat_minor": 2
}
