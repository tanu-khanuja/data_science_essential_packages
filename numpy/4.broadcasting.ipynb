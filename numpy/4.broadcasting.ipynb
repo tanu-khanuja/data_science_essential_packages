{
 "cells": [
  {
   "cell_type": "markdown",
   "metadata": {},
   "source": [
    "# What is Broadcasting?\n",
    "\n",
    "- Broadcasting is set of rules which allows us to perform binary ufuncs on arrays with different sizes.\n",
    "- We can use these rules for any binary ufuncs from add, subtract to logaddexp etc."
   ]
  },
  {
   "cell_type": "markdown",
   "metadata": {},
   "source": [
    "## 1. Broadcasting Rules\n",
    "The rules:\n",
    "1. If shape of arrays do not match, then in attary with less dim pad 1 in left.\n",
    "2. Then, If shape of arrays doesn't match in any direction, then the 1 in shape is stretched to match with other arrays shape.\n",
    "3. If shape dim does not match in any array, and there is no 1 also in any shape, then error raises.\n",
    "\n",
    "Understand with examples."
   ]
  },
  {
   "cell_type": "code",
   "execution_count": 2,
   "metadata": {},
   "outputs": [
    {
     "data": {
      "text/plain": [
       "array([[1., 1., 1.],\n",
       "       [1., 1., 1.]])"
      ]
     },
     "execution_count": 2,
     "metadata": {},
     "output_type": "execute_result"
    }
   ],
   "source": [
    "# Example 1\n",
    "import numpy as np\n",
    "M = np.ones((2,3))\n",
    "M\n"
   ]
  },
  {
   "cell_type": "code",
   "execution_count": 3,
   "metadata": {},
   "outputs": [
    {
     "data": {
      "text/plain": [
       "array([0, 1, 2])"
      ]
     },
     "execution_count": 3,
     "metadata": {},
     "output_type": "execute_result"
    }
   ],
   "source": [
    "a = np.arange(3)\n",
    "a"
   ]
  },
  {
   "cell_type": "code",
   "execution_count": 4,
   "metadata": {},
   "outputs": [
    {
     "data": {
      "text/plain": [
       "array([[1., 2., 3.],\n",
       "       [1., 2., 3.]])"
      ]
     },
     "execution_count": 4,
     "metadata": {},
     "output_type": "execute_result"
    }
   ],
   "source": [
    "M+a"
   ]
  },
  {
   "cell_type": "markdown",
   "metadata": {},
   "source": [
    "How come it resulted in this?\n",
    "1. Shapes of arrays\n",
    "   - M.shape = (2,3)\n",
    "   - a.shape = (3,)\n",
    "   - apply rule 1, to smaller dim one add 1 to left: a.shape = (1,3)\n",
    "2. Now shapes of array becomes\n",
    "   - M.shape = (2,3)\n",
    "   - a.shape = (1,3)\n",
    "   - Again, they are not matching, apply rule 2, stretch 1 in a to match M: a.shape = (2,3)\n",
    "\n",
    "3. Now see, if shapes are same\n",
    "    - M.shape = (2,3) \n",
    "    - a.shape = (2,3)\n",
    "    - Yes, they have same shape, so now add them.\n",
    "  ```python\n",
    "                        M = [[1,1,1],[1,1,1]]\n",
    "                        \n",
    "                        a = [[0,1,2], [0,1,2]]\n",
    "                        \n",
    "                        M+a = [[1,2,3], [1,2,3]]"
   ]
  },
  {
   "cell_type": "code",
   "execution_count": 5,
   "metadata": {},
   "outputs": [
    {
     "data": {
      "text/plain": [
       "array([[0],\n",
       "       [1],\n",
       "       [2]])"
      ]
     },
     "execution_count": 5,
     "metadata": {},
     "output_type": "execute_result"
    }
   ],
   "source": [
    "# Exmaple 2\n",
    "a = np.arange(3).reshape((3,1))\n",
    "a"
   ]
  },
  {
   "cell_type": "code",
   "execution_count": 6,
   "metadata": {},
   "outputs": [
    {
     "data": {
      "text/plain": [
       "array([0, 1, 2])"
      ]
     },
     "execution_count": 6,
     "metadata": {},
     "output_type": "execute_result"
    }
   ],
   "source": [
    "b = np.arange(3)\n",
    "b"
   ]
  },
  {
   "cell_type": "code",
   "execution_count": 7,
   "metadata": {},
   "outputs": [
    {
     "data": {
      "text/plain": [
       "array([[0, 1, 2],\n",
       "       [1, 2, 3],\n",
       "       [2, 3, 4]])"
      ]
     },
     "execution_count": 7,
     "metadata": {},
     "output_type": "execute_result"
    }
   ],
   "source": [
    "a+b"
   ]
  },
  {
   "cell_type": "markdown",
   "metadata": {},
   "source": [
    "How come it resulted to this?\n",
    "1. Apply rule 1:\n",
    "   - a.shape = (3,1)\n",
    "   - b.shape = (3,)\n",
    "   - add 1 to left of b.shape: b.shape = (1,3)\n",
    "\n",
    "2. Apply rule 2: \n",
    "   - Strech shapes of arrays where 1 is there to match with each other.\n",
    "   - a.shape becomes (3,3)\n",
    "   - b.shape becomes (3,3)\n",
    "\n",
    "- Add them\n",
    "\n",
    "``` python\n",
    "   a = [[0,0,0], [1,1,1], [2,2,2]]\n",
    "   b = [[0,1,2], [0,1,2], [0,1,2]]\n",
    "   a+b = [[0,1,2], [1,2,3], [2,3,4]]"
   ]
  },
  {
   "cell_type": "code",
   "execution_count": 8,
   "metadata": {},
   "outputs": [
    {
     "data": {
      "text/plain": [
       "array([[1., 1.],\n",
       "       [1., 1.],\n",
       "       [1., 1.]])"
      ]
     },
     "execution_count": 8,
     "metadata": {},
     "output_type": "execute_result"
    }
   ],
   "source": [
    "# Example 3 (incompatible arrays)\n",
    "M = np.ones((3,2))\n",
    "M"
   ]
  },
  {
   "cell_type": "code",
   "execution_count": 9,
   "metadata": {},
   "outputs": [
    {
     "data": {
      "text/plain": [
       "array([0, 1, 2])"
      ]
     },
     "execution_count": 9,
     "metadata": {},
     "output_type": "execute_result"
    }
   ],
   "source": [
    "a = np.arange(3)\n",
    "a"
   ]
  },
  {
   "cell_type": "markdown",
   "metadata": {},
   "source": [
    "M.shape = (3,2)\n",
    "a.shape = (3,)\n",
    "\n",
    "rule 1:\n",
    "- M.shape = (3,2)\n",
    "- a.shape = (1,3)\n",
    "  \n",
    "rule 2:\n",
    "- M.shape = (3,2)\n",
    "- a.shape = (3,3)\n",
    "  \n",
    "rule 3:\n",
    "- Shapes of both arrays do not match, it will raise an error."
   ]
  },
  {
   "cell_type": "code",
   "execution_count": 10,
   "metadata": {},
   "outputs": [
    {
     "ename": "ValueError",
     "evalue": "operands could not be broadcast together with shapes (3,2) (3,) ",
     "output_type": "error",
     "traceback": [
      "\u001b[0;31m---------------------------------------------------------------------------\u001b[0m",
      "\u001b[0;31mValueError\u001b[0m                                Traceback (most recent call last)",
      "Cell \u001b[0;32mIn[10], line 1\u001b[0m\n\u001b[0;32m----> 1\u001b[0m \u001b[43mM\u001b[49m\u001b[38;5;241;43m+\u001b[39;49m\u001b[43ma\u001b[49m  \u001b[38;5;66;03m# Generate error\u001b[39;00m\n",
      "\u001b[0;31mValueError\u001b[0m: operands could not be broadcast together with shapes (3,2) (3,) "
     ]
    }
   ],
   "source": [
    "M+a  # Generate error"
   ]
  },
  {
   "cell_type": "markdown",
   "metadata": {},
   "source": [
    "- Remeber Numpy itself doesnt do such duplication actually, it is for understanding how broadcasting concept works."
   ]
  },
  {
   "cell_type": "markdown",
   "metadata": {},
   "source": [
    "## 2. Right side padding\n",
    "- If we want to pad 1 on right side instead of left side as per rule 1, we will use `np.newaxis`."
   ]
  },
  {
   "cell_type": "code",
   "execution_count": 11,
   "metadata": {},
   "outputs": [
    {
     "data": {
      "text/plain": [
       "array([[1., 1.],\n",
       "       [2., 2.],\n",
       "       [3., 3.]])"
      ]
     },
     "execution_count": 11,
     "metadata": {},
     "output_type": "execute_result"
    }
   ],
   "source": [
    "M + a[:, np.newaxis]"
   ]
  },
  {
   "cell_type": "markdown",
   "metadata": {},
   "source": [
    "# Broadcasting in practice\n",
    "1. Centering an array\n",
    "2. Plotting a 2D Function"
   ]
  },
  {
   "cell_type": "markdown",
   "metadata": {},
   "source": [
    "### (a) Centering an array\n",
    "- Let's perform centering of an array.\n",
    "- We have data of 3 features from 10 experiments.\n",
    "- We want to center the feature values across their mean."
   ]
  },
  {
   "cell_type": "code",
   "execution_count": 12,
   "metadata": {},
   "outputs": [
    {
     "data": {
      "text/plain": [
       "array([[0.5488135 , 0.71518937, 0.60276338],\n",
       "       [0.54488318, 0.4236548 , 0.64589411],\n",
       "       [0.43758721, 0.891773  , 0.96366276],\n",
       "       [0.38344152, 0.79172504, 0.52889492],\n",
       "       [0.56804456, 0.92559664, 0.07103606],\n",
       "       [0.0871293 , 0.0202184 , 0.83261985],\n",
       "       [0.77815675, 0.87001215, 0.97861834],\n",
       "       [0.79915856, 0.46147936, 0.78052918],\n",
       "       [0.11827443, 0.63992102, 0.14335329],\n",
       "       [0.94466892, 0.52184832, 0.41466194]])"
      ]
     },
     "execution_count": 12,
     "metadata": {},
     "output_type": "execute_result"
    }
   ],
   "source": [
    "np.random.seed(0)\n",
    "X = np.random.random((10,3))\n",
    "X"
   ]
  },
  {
   "cell_type": "code",
   "execution_count": 13,
   "metadata": {},
   "outputs": [
    {
     "data": {
      "text/plain": [
       "array([0.52101579, 0.62614181, 0.59620338])"
      ]
     },
     "execution_count": 13,
     "metadata": {},
     "output_type": "execute_result"
    }
   ],
   "source": [
    "# find columnwise mean i.e. collapse rows i.e. axis=0\n",
    "x_mean = np.mean(X, axis=0)\n",
    "x_mean"
   ]
  },
  {
   "cell_type": "code",
   "execution_count": 14,
   "metadata": {},
   "outputs": [
    {
     "data": {
      "text/plain": [
       "array([0.52101579, 0.62614181, 0.59620338])"
      ]
     },
     "execution_count": 14,
     "metadata": {},
     "output_type": "execute_result"
    }
   ],
   "source": [
    "# or we can also find it as:\n",
    "x_mean = X.mean(0)\n",
    "x_mean"
   ]
  },
  {
   "cell_type": "code",
   "execution_count": 15,
   "metadata": {},
   "outputs": [
    {
     "data": {
      "text/plain": [
       "array([[ 0.02779771,  0.08904756,  0.00655999],\n",
       "       [ 0.02386739, -0.20248701,  0.04969073],\n",
       "       [-0.08342858,  0.26563119,  0.36745938],\n",
       "       [-0.13757427,  0.16558323, -0.06730846],\n",
       "       [ 0.04702877,  0.29945483, -0.52516732],\n",
       "       [-0.43388649, -0.60592341,  0.23641646],\n",
       "       [ 0.25714096,  0.24387034,  0.38241496],\n",
       "       [ 0.27814277, -0.16466245,  0.18432579],\n",
       "       [-0.40274137,  0.01377921, -0.45285009],\n",
       "       [ 0.42365312, -0.10429349, -0.18154144]])"
      ]
     },
     "execution_count": 15,
     "metadata": {},
     "output_type": "execute_result"
    }
   ],
   "source": [
    "# Center X around mean\n",
    "# This is a broadcasting operation\n",
    "# Because shape of X and x_mean are not same\n",
    "\n",
    "X_centered = X-x_mean\n",
    "X_centered"
   ]
  },
  {
   "cell_type": "code",
   "execution_count": 16,
   "metadata": {},
   "outputs": [],
   "source": [
    "# Check if they are centered around 0\n",
    "# Mean should be 0\n",
    "\n",
    "assert X_centered.mean(0).sum() <0.00000001"
   ]
  },
  {
   "cell_type": "markdown",
   "metadata": {},
   "source": [
    "# (b) Plotting a 2D function\n"
   ]
  },
  {
   "cell_type": "code",
   "execution_count": 17,
   "metadata": {},
   "outputs": [
    {
     "data": {
      "text/plain": [
       "(50,)"
      ]
     },
     "execution_count": 17,
     "metadata": {},
     "output_type": "execute_result"
    }
   ],
   "source": [
    "x = np.linspace(0,5,50)\n",
    "x.shape  # It's a row of 50 elements"
   ]
  },
  {
   "cell_type": "code",
   "execution_count": 22,
   "metadata": {},
   "outputs": [
    {
     "data": {
      "text/plain": [
       "(50, 1)"
      ]
     },
     "execution_count": 22,
     "metadata": {},
     "output_type": "execute_result"
    }
   ],
   "source": [
    "y = np.linspace(0,5,50)[:, np.newaxis]\n",
    "y.shape   # We created a column of 50 elelemts, otherwise we cant perform multiplication i.e. boradcasting error raises."
   ]
  },
  {
   "cell_type": "code",
   "execution_count": 23,
   "metadata": {},
   "outputs": [],
   "source": [
    "z = np.sin(x) ** 10 + np.cos(10 + y * x) * np.cos(x)"
   ]
  },
  {
   "cell_type": "code",
   "execution_count": 24,
   "metadata": {},
   "outputs": [
    {
     "data": {
      "text/plain": [
       "Text(0.5, 1.0, 'Visualization of 2D array')"
      ]
     },
     "execution_count": 24,
     "metadata": {},
     "output_type": "execute_result"
    },
    {
     "data": {
      "image/png": "[encoded data removed]",
      "text/plain": [
       "<Figure size 640x480 with 2 Axes>"
      ]
     },
     "metadata": {},
     "output_type": "display_data"
    }
   ],
   "source": [
    "# Importing Matplotlib and plotting\n",
    "import matplotlib.pyplot as plt\n",
    "plt.imshow(z, origin='lower', extent=[0, 5, 0, 5], cmap='viridis')\n",
    "plt.colorbar()\n",
    "plt.title('Visualization of 2D array')"
   ]
  }
 ],
 "metadata": {
  "kernelspec": {
   "display_name": "libraries",
   "language": "python",
   "name": "python3"
  },
  "language_info": {
   "codemirror_mode": {
    "name": "ipython",
    "version": 3
   },
   "file_extension": ".py",
   "mimetype": "text/x-python",
   "name": "python",
   "nbconvert_exporter": "python",
   "pygments_lexer": "ipython3",
   "version": "3.12.5"
  }
 },
 "nbformat": 4,
 "nbformat_minor": 2
}
