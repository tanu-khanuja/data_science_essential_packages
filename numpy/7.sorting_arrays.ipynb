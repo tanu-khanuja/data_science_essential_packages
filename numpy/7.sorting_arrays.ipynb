{
 "cells": [
  {
   "cell_type": "markdown",
   "metadata": {},
   "source": [
    "- Algorithms to sort values in numpy arrays.\n",
    "- Many types of sorting algos in computer science like:\n",
    "  insertion sorts, selection sorts, merge sorts, quick sorts, bubble sorts, and many more."
   ]
  },
  {
   "cell_type": "markdown",
   "metadata": {},
   "source": [
    "# 1. Selection Sorting\n",
    "\n",
    "- Repeatedly finds the minimum value from a list and makes swaps until the list is sorted.\n",
    "- np.argmin(a); returns index of min value in array a."
   ]
  },
  {
   "cell_type": "code",
   "execution_count": 1,
   "metadata": {},
   "outputs": [],
   "source": [
    "# In python\n",
    "\n",
    "import numpy as np\n",
    "\n",
    "def selection_sort(x):\n",
    "    for i in range(len(x)):\n",
    "        swap = i + np.argmin(x[i:])  # Find index of minimum value in the remaining list\n",
    "        (x[i], x[swap]) = (x[swap], x[i])  # Swap the current element with the found minimum\n",
    "    return x"
   ]
  },
  {
   "cell_type": "code",
   "execution_count": 7,
   "metadata": {},
   "outputs": [
    {
     "name": "stdout",
     "output_type": "stream",
     "text": [
      "[1 2 3 4 5]\n"
     ]
    }
   ],
   "source": [
    "# In numpy\n",
    "x = np.array([2, 1, 4, 3, 5])\n",
    "print(selection_sort(x))"
   ]
  },
  {
   "cell_type": "markdown",
   "metadata": {},
   "source": [
    "Selection sort is simple but inefficient for large arrays.\n",
    "  - For a list of $N$ values, it requires $N$ loops, each performing approximately $~N$ comparisons to find the swap value.\n",
    "  - The average time complexity is $(O(N^2))$. This means if the number of items in the list is doubled, the execution time will increase by about a factor of four."
   ]
  },
  {
   "cell_type": "markdown",
   "metadata": {},
   "source": [
    "# 2. Bogosort: A Silly Sorting Algorithm\n",
    "\n",
    "- This sorting method relies on pure chance: it repeatedly applies a random shuffling of the array until the result happens to be sorted.\n",
    "- This algorithm has a very poor performance and should never be used for any real computation.\n",
    "\n",
    "    \n",
    "- Bogosort has an average time complexity of $(O(N \\times N!))$.\n",
    "- It relies entirely on random shuffling and can take an extremely long time to sort even small arrays.\n",
    "- Due to its inefficiency, it is not suitable for any practical use."
   ]
  },
  {
   "cell_type": "code",
   "execution_count": 8,
   "metadata": {},
   "outputs": [
    {
     "name": "stdout",
     "output_type": "stream",
     "text": [
      "[1 2 3 4 5]\n"
     ]
    }
   ],
   "source": [
    "\n",
    "def bogosort(x):\n",
    "    while np.any(x[:-1] > x[1:]):  # Check if the array is not sorted\n",
    "        np.random.shuffle(x)       # Randomly shuffle the array\n",
    "    return x\n",
    "\n",
    "x = np.array([2, 1, 4, 3, 5])\n",
    "print(bogosort(x))\n",
    "# Output: array([1, 2, 3, 4, 5])\n"
   ]
  },
  {
   "cell_type": "markdown",
   "metadata": {},
   "source": [
    "# 3. Efficient Sorting in Python\n",
    "\n",
    "- Built-in sorting algo in python that are much more effiencient in sorting than above mentioned ones.\n",
    "  \n",
    "        1. sort()\n",
    "        2. sorted()\n",
    "- But we will see the more efficient rooutines of numpy which work on numpy arrays."
   ]
  },
  {
   "cell_type": "markdown",
   "metadata": {},
   "source": [
    "# 4. Fast sorting in Numpy \n",
    "1. **np.sort(x)** - To quickly sort x without modifying x.\n",
    "2. **x.sort()** - To in-place sort the array x."
   ]
  },
  {
   "cell_type": "code",
   "execution_count": 3,
   "metadata": {},
   "outputs": [
    {
     "data": {
      "text/plain": [
       "array([1, 2, 3, 4, 5])"
      ]
     },
     "execution_count": 3,
     "metadata": {},
     "output_type": "execute_result"
    }
   ],
   "source": [
    "x = np.array([2,1,4,3,5])\n",
    "np.sort(x)"
   ]
  },
  {
   "cell_type": "code",
   "execution_count": 4,
   "metadata": {},
   "outputs": [
    {
     "data": {
      "text/plain": [
       "array([2, 1, 4, 3, 5])"
      ]
     },
     "execution_count": 4,
     "metadata": {},
     "output_type": "execute_result"
    }
   ],
   "source": [
    "x  # x didnt change"
   ]
  },
  {
   "cell_type": "code",
   "execution_count": 7,
   "metadata": {},
   "outputs": [
    {
     "data": {
      "text/plain": [
       "array([1, 2, 3, 4, 5])"
      ]
     },
     "execution_count": 7,
     "metadata": {},
     "output_type": "execute_result"
    }
   ],
   "source": [
    "x.sort()\n",
    "x   # x changed"
   ]
  },
  {
   "cell_type": "markdown",
   "metadata": {},
   "source": [
    "3. **np.argsort(x)** - Returns indices of sorted elements.\n",
    "- Used with fancy indexing."
   ]
  },
  {
   "cell_type": "code",
   "execution_count": 10,
   "metadata": {},
   "outputs": [
    {
     "data": {
      "text/plain": [
       "array([0, 2, 1, 4, 3])"
      ]
     },
     "execution_count": 10,
     "metadata": {},
     "output_type": "execute_result"
    }
   ],
   "source": [
    "x = np.array([10, 13, 12, 16, 15])\n",
    "i = np.argsort(x)\n",
    "i"
   ]
  },
  {
   "cell_type": "markdown",
   "metadata": {},
   "source": [
    "4. **np.sort(x, axis=)** - To sort along specific rows or columns.\n",
    "\n",
    "- It treats each row and column as independent array.\n",
    "- It ignores any relationship between rows and columns.\n",
    "   - axis=0  - Sort Column wise\n",
    "   - axis=1  - Sort row wise\n"
   ]
  },
  {
   "cell_type": "code",
   "execution_count": 12,
   "metadata": {},
   "outputs": [
    {
     "data": {
      "text/plain": [
       "array([[6, 3, 7, 4, 6, 9],\n",
       "       [2, 6, 7, 4, 3, 7],\n",
       "       [7, 2, 5, 4, 1, 7],\n",
       "       [5, 1, 4, 0, 9, 5]])"
      ]
     },
     "execution_count": 12,
     "metadata": {},
     "output_type": "execute_result"
    }
   ],
   "source": [
    "rand = np.random.RandomState(42)\n",
    "X = rand.randint(0,10, (4,6))\n",
    "X"
   ]
  },
  {
   "cell_type": "code",
   "execution_count": 13,
   "metadata": {},
   "outputs": [
    {
     "data": {
      "text/plain": [
       "array([[2, 1, 4, 0, 1, 5],\n",
       "       [5, 2, 5, 4, 3, 7],\n",
       "       [6, 3, 7, 4, 6, 7],\n",
       "       [7, 6, 7, 4, 9, 9]])"
      ]
     },
     "execution_count": 13,
     "metadata": {},
     "output_type": "execute_result"
    }
   ],
   "source": [
    "np.sort(X, axis=0)  # sort column wise"
   ]
  },
  {
   "cell_type": "code",
   "execution_count": 15,
   "metadata": {},
   "outputs": [
    {
     "data": {
      "text/plain": [
       "array([[3, 4, 6, 6, 7, 9],\n",
       "       [2, 3, 4, 6, 7, 7],\n",
       "       [1, 2, 4, 5, 7, 7],\n",
       "       [0, 1, 4, 5, 5, 9]])"
      ]
     },
     "execution_count": 15,
     "metadata": {},
     "output_type": "execute_result"
    }
   ],
   "source": [
    "np.sort(X, axis=1)  # Sort rows"
   ]
  },
  {
   "cell_type": "markdown",
   "metadata": {},
   "source": [
    "# 5. Partial Sorting: Partitioning\n",
    "- Sometimes we want only k smallest values in an array.\n",
    "\n",
    "``` python\n",
    "    np.partition(x, k)\n",
    "```\n",
    "\n"
   ]
  },
  {
   "cell_type": "code",
   "execution_count": 17,
   "metadata": {},
   "outputs": [
    {
     "data": {
      "text/plain": [
       "array([2, 1, 3, 4, 6, 5, 7])"
      ]
     },
     "execution_count": 17,
     "metadata": {},
     "output_type": "execute_result"
    }
   ],
   "source": [
    "x = np.array([7, 2, 3, 1, 6, 5, 4])\n",
    "np.partition(x,3)\n"
   ]
  },
  {
   "cell_type": "markdown",
   "metadata": {},
   "source": [
    "- Here. first 3 values are smallest but order of it can be arbitrary.\n",
    "\n",
    "- Similarly, partition can be used along rows or columns using axis argument."
   ]
  },
  {
   "cell_type": "code",
   "execution_count": 26,
   "metadata": {},
   "outputs": [
    {
     "data": {
      "text/plain": [
       "array([[ 6,  8,  0, 11,  7, 10, 18, 16],\n",
       "       [ 7,  2,  2,  0,  4,  9,  6,  8],\n",
       "       [ 6,  8,  7, 11,  1,  0, 15,  4],\n",
       "       [ 2, 11,  7,  2,  0,  2,  4, 14],\n",
       "       [13,  2,  0,  4, 13,  6,  8, 14],\n",
       "       [14,  9, 12, 18,  6, 16, 19,  3]])"
      ]
     },
     "execution_count": 26,
     "metadata": {},
     "output_type": "execute_result"
    }
   ],
   "source": [
    "x = rand.randint(0,20, (6,8))\n",
    "x"
   ]
  },
  {
   "cell_type": "code",
   "execution_count": 31,
   "metadata": {},
   "outputs": [
    {
     "data": {
      "text/plain": [
       "array([[ 2,  2,  0,  0,  0,  0,  6,  3],\n",
       "       [ 6,  8,  0,  2,  1,  2,  4,  4],\n",
       "       [ 6,  2,  2,  4,  4,  6,  8,  8],\n",
       "       [ 7,  8,  7, 11,  6,  9, 15, 14],\n",
       "       [13, 11,  7, 11, 13, 10, 18, 14],\n",
       "       [14,  9, 12, 18,  7, 16, 19, 16]])"
      ]
     },
     "execution_count": 31,
     "metadata": {},
     "output_type": "execute_result"
    }
   ],
   "source": [
    "np.partition(x, 3, axis=0)  # 3 sorted values of each column"
   ]
  },
  {
   "cell_type": "code",
   "execution_count": 32,
   "metadata": {},
   "outputs": [
    {
     "data": {
      "text/plain": [
       "array([[ 6,  0,  7,  8, 10, 11, 18, 16],\n",
       "       [ 2,  2,  0,  4,  6,  7,  9,  8],\n",
       "       [ 1,  4,  0,  6,  8,  7, 15, 11],\n",
       "       [ 0,  2,  2,  2, 11,  7,  4, 14],\n",
       "       [ 2,  0,  4,  6,  8, 13, 13, 14],\n",
       "       [ 3,  6,  9, 12, 14, 16, 19, 18]])"
      ]
     },
     "execution_count": 32,
     "metadata": {},
     "output_type": "execute_result"
    }
   ],
   "source": [
    "np.partition(x, 3, axis=1) # 3 sorted values of each row"
   ]
  },
  {
   "cell_type": "markdown",
   "metadata": {},
   "source": [
    "# 6. Example: k-Nearest Neighbours"
   ]
  },
  {
   "cell_type": "code",
   "execution_count": 53,
   "metadata": {},
   "outputs": [
    {
     "data": {
      "text/plain": [
       "array([[0.28484049, 0.03688695],\n",
       "       [0.60956433, 0.50267902],\n",
       "       [0.05147875, 0.27864646],\n",
       "       [0.90826589, 0.23956189],\n",
       "       [0.14489487, 0.48945276],\n",
       "       [0.98565045, 0.24205527],\n",
       "       [0.67213555, 0.76161962],\n",
       "       [0.23763754, 0.72821635],\n",
       "       [0.36778313, 0.63230583],\n",
       "       [0.63352971, 0.53577468]])"
      ]
     },
     "execution_count": 53,
     "metadata": {},
     "output_type": "execute_result"
    }
   ],
   "source": [
    "# 10 2D random points\n",
    "X = rand.rand(10,2)\n",
    "X"
   ]
  },
  {
   "cell_type": "code",
   "execution_count": 54,
   "metadata": {},
   "outputs": [
    {
     "data": {
      "text/plain": [
       "<matplotlib.collections.PathCollection at 0x10be8c860>"
      ]
     },
     "execution_count": 54,
     "metadata": {},
     "output_type": "execute_result"
    },
    {
     "data": {
      "image/png": "[encoded data removed]",
      "text/plain": [
       "<Figure size 640x480 with 1 Axes>"
      ]
     },
     "metadata": {},
     "output_type": "display_data"
    }
   ],
   "source": [
    "# Scatter plot\n",
    "\n",
    "import matplotlib.pyplot as plt\n",
    "import seaborn; seaborn.set_theme()\n",
    "\n",
    "plt.scatter(X[:,0], X[:, 1])\n"
   ]
  },
  {
   "cell_type": "code",
   "execution_count": 63,
   "metadata": {},
   "outputs": [
    {
     "data": {
      "text/plain": [
       "array([[0.        , 0.32240783, 0.11290537, 0.42973635, 0.22440059,\n",
       "        0.53322864, 0.6752349 , 0.48016446, 0.36140313, 0.37047314],\n",
       "       [0.32240783, 0.        , 0.36165011, 0.15845324, 0.21609264,\n",
       "        0.20936551, 0.07096539, 0.18919662, 0.07526126, 0.00166966],\n",
       "       [0.11290537, 0.36165011, 0.        , 0.7356118 , 0.05316587,\n",
       "        0.87401569, 0.61847792, 0.23676818, 0.22512341, 0.40489824],\n",
       "       [0.42973635, 0.15845324, 0.7356118 , 0.        , 0.64518075,\n",
       "        0.00599459, 0.3283018 , 0.68852555, 0.44636941, 0.16322198],\n",
       "       [0.22440059, 0.21609264, 0.05316587, 0.64518075, 0.        ,\n",
       "        0.76807547, 0.35205753, 0.06560925, 0.07008618, 0.24090973],\n",
       "       [0.53322864, 0.20936551, 0.87401569, 0.00599459, 0.76807547,\n",
       "        0.        , 0.3682387 , 0.79587591, 0.53405553, 0.21026011],\n",
       "       [0.6752349 , 0.07096539, 0.61847792, 0.3283018 , 0.35205753,\n",
       "        0.3682387 , 0.        , 0.18990429, 0.10935245, 0.05249634],\n",
       "       [0.48016446, 0.18919662, 0.23676818, 0.68852555, 0.06560925,\n",
       "        0.79587591, 0.18990429, 0.        , 0.0261367 , 0.1937644 ],\n",
       "       [0.36140313, 0.07526126, 0.22512341, 0.44636941, 0.07008618,\n",
       "        0.53405553, 0.10935245, 0.0261367 , 0.        , 0.07993951],\n",
       "       [0.37047314, 0.00166966, 0.40489824, 0.16322198, 0.24090973,\n",
       "        0.21026011, 0.05249634, 0.1937644 , 0.07993951, 0.        ]])"
      ]
     },
     "execution_count": 63,
     "metadata": {},
     "output_type": "execute_result"
    }
   ],
   "source": [
    "dist_sq = np.sum((X[:, np.newaxis, :] - X[np.newaxis, :, :]) **2, axis=-1)\n",
    "dist_sq"
   ]
  },
  {
   "cell_type": "markdown",
   "metadata": {},
   "source": [
    "- How this works?\n",
    "  - We have X, we want distance of each node with each node.\n",
    "  - node1 to node 1\n",
    "  - node1 to node 2 ...so on to node 10 (total 10 elements in a row)\n",
    "  - Such 10 rows.\n",
    "  - i.e. 10x10 matrix\n",
    "  - See:"
   ]
  },
  {
   "cell_type": "code",
   "execution_count": 64,
   "metadata": {},
   "outputs": [
    {
     "data": {
      "text/plain": [
       "(10, 2)"
      ]
     },
     "execution_count": 64,
     "metadata": {},
     "output_type": "execute_result"
    }
   ],
   "source": [
    "X.shape"
   ]
  },
  {
   "cell_type": "code",
   "execution_count": 65,
   "metadata": {},
   "outputs": [
    {
     "data": {
      "text/plain": [
       "array([[[0.28484049, 0.03688695]],\n",
       "\n",
       "       [[0.60956433, 0.50267902]],\n",
       "\n",
       "       [[0.05147875, 0.27864646]],\n",
       "\n",
       "       [[0.90826589, 0.23956189]],\n",
       "\n",
       "       [[0.14489487, 0.48945276]],\n",
       "\n",
       "       [[0.98565045, 0.24205527]],\n",
       "\n",
       "       [[0.67213555, 0.76161962]],\n",
       "\n",
       "       [[0.23763754, 0.72821635]],\n",
       "\n",
       "       [[0.36778313, 0.63230583]],\n",
       "\n",
       "       [[0.63352971, 0.53577468]]])"
      ]
     },
     "execution_count": 65,
     "metadata": {},
     "output_type": "execute_result"
    }
   ],
   "source": [
    "X[:, np.newaxis, :] # shape 10,1,2"
   ]
  },
  {
   "cell_type": "code",
   "execution_count": 66,
   "metadata": {},
   "outputs": [
    {
     "data": {
      "text/plain": [
       "array([[[0.28484049, 0.03688695],\n",
       "        [0.60956433, 0.50267902],\n",
       "        [0.05147875, 0.27864646],\n",
       "        [0.90826589, 0.23956189],\n",
       "        [0.14489487, 0.48945276],\n",
       "        [0.98565045, 0.24205527],\n",
       "        [0.67213555, 0.76161962],\n",
       "        [0.23763754, 0.72821635],\n",
       "        [0.36778313, 0.63230583],\n",
       "        [0.63352971, 0.53577468]]])"
      ]
     },
     "execution_count": 66,
     "metadata": {},
     "output_type": "execute_result"
    }
   ],
   "source": [
    "X[np.newaxis, :, :] # shape 1, 10, 2"
   ]
  },
  {
   "cell_type": "markdown",
   "metadata": {},
   "source": [
    "- For each node out of 10 in array of shape(10,1,2), it will subtract all nodes from array of shape (1,10,2).\n",
    "- It will use broadcasting for this."
   ]
  },
  {
   "cell_type": "code",
   "execution_count": 67,
   "metadata": {},
   "outputs": [
    {
     "data": {
      "text/plain": [
       "array([[0.        , 0.32240783, 0.11290537, 0.42973635, 0.22440059,\n",
       "        0.53322864, 0.6752349 , 0.48016446, 0.36140313, 0.37047314],\n",
       "       [0.32240783, 0.        , 0.36165011, 0.15845324, 0.21609264,\n",
       "        0.20936551, 0.07096539, 0.18919662, 0.07526126, 0.00166966],\n",
       "       [0.11290537, 0.36165011, 0.        , 0.7356118 , 0.05316587,\n",
       "        0.87401569, 0.61847792, 0.23676818, 0.22512341, 0.40489824],\n",
       "       [0.42973635, 0.15845324, 0.7356118 , 0.        , 0.64518075,\n",
       "        0.00599459, 0.3283018 , 0.68852555, 0.44636941, 0.16322198],\n",
       "       [0.22440059, 0.21609264, 0.05316587, 0.64518075, 0.        ,\n",
       "        0.76807547, 0.35205753, 0.06560925, 0.07008618, 0.24090973],\n",
       "       [0.53322864, 0.20936551, 0.87401569, 0.00599459, 0.76807547,\n",
       "        0.        , 0.3682387 , 0.79587591, 0.53405553, 0.21026011],\n",
       "       [0.6752349 , 0.07096539, 0.61847792, 0.3283018 , 0.35205753,\n",
       "        0.3682387 , 0.        , 0.18990429, 0.10935245, 0.05249634],\n",
       "       [0.48016446, 0.18919662, 0.23676818, 0.68852555, 0.06560925,\n",
       "        0.79587591, 0.18990429, 0.        , 0.0261367 , 0.1937644 ],\n",
       "       [0.36140313, 0.07526126, 0.22512341, 0.44636941, 0.07008618,\n",
       "        0.53405553, 0.10935245, 0.0261367 , 0.        , 0.07993951],\n",
       "       [0.37047314, 0.00166966, 0.40489824, 0.16322198, 0.24090973,\n",
       "        0.21026011, 0.05249634, 0.1937644 , 0.07993951, 0.        ]])"
      ]
     },
     "execution_count": 67,
     "metadata": {},
     "output_type": "execute_result"
    }
   ],
   "source": [
    "dist_sq"
   ]
  },
  {
   "cell_type": "code",
   "execution_count": 69,
   "metadata": {},
   "outputs": [
    {
     "data": {
      "text/plain": [
       "array([0., 0., 0., 0., 0., 0., 0., 0., 0., 0.])"
      ]
     },
     "execution_count": 69,
     "metadata": {},
     "output_type": "execute_result"
    }
   ],
   "source": [
    "dist_sq.diagonal()  # Represent distance between same nodes."
   ]
  },
  {
   "cell_type": "code",
   "execution_count": 71,
   "metadata": {},
   "outputs": [
    {
     "data": {
      "text/plain": [
       "array([[0, 2, 4, 1, 8, 9, 3, 7, 5, 6],\n",
       "       [1, 9, 6, 8, 3, 7, 5, 4, 0, 2],\n",
       "       [2, 4, 0, 8, 7, 1, 9, 6, 3, 5],\n",
       "       [3, 5, 1, 9, 6, 0, 8, 4, 7, 2],\n",
       "       [4, 2, 7, 8, 1, 0, 9, 6, 3, 5],\n",
       "       [5, 3, 1, 9, 6, 0, 8, 4, 7, 2],\n",
       "       [6, 9, 1, 8, 7, 3, 4, 5, 2, 0],\n",
       "       [7, 8, 4, 1, 6, 9, 2, 0, 3, 5],\n",
       "       [8, 7, 4, 1, 9, 6, 2, 0, 3, 5],\n",
       "       [9, 1, 6, 8, 3, 7, 5, 4, 0, 2]])"
      ]
     },
     "execution_count": 71,
     "metadata": {},
     "output_type": "execute_result"
    }
   ],
   "source": [
    "nearest = np.argsort(dist_sq, axis=1)\n",
    "nearest "
   ]
  },
  {
   "cell_type": "code",
   "execution_count": 75,
   "metadata": {},
   "outputs": [
    {
     "data": {
      "text/plain": [
       "array([[2, 0, 4, 1, 8, 9, 3, 7, 5, 6],\n",
       "       [1, 9, 6, 8, 3, 5, 7, 4, 2, 0],\n",
       "       [2, 4, 0, 8, 7, 1, 9, 6, 5, 3],\n",
       "       [3, 5, 1, 9, 6, 0, 2, 7, 8, 4],\n",
       "       [4, 2, 7, 8, 1, 0, 6, 5, 3, 9],\n",
       "       [3, 5, 1, 9, 6, 0, 2, 7, 8, 4],\n",
       "       [1, 6, 9, 8, 3, 7, 4, 5, 2, 0],\n",
       "       [7, 8, 4, 1, 6, 9, 5, 3, 2, 0],\n",
       "       [8, 7, 4, 1, 9, 5, 6, 3, 2, 0],\n",
       "       [9, 1, 6, 8, 3, 5, 7, 4, 2, 0]])"
      ]
     },
     "execution_count": 75,
     "metadata": {},
     "output_type": "execute_result"
    }
   ],
   "source": [
    "K =2\n",
    "nearest_partition = np.argpartition(dist_sq, K+1, axis =1)\n",
    "nearest_partition"
   ]
  },
  {
   "cell_type": "code",
   "execution_count": 79,
   "metadata": {},
   "outputs": [
    {
     "data": {
      "image/png": "[encoded data removed]",
      "text/plain": [
       "<Figure size 640x480 with 1 Axes>"
      ]
     },
     "metadata": {},
     "output_type": "display_data"
    }
   ],
   "source": [
    "plt.scatter(X[:, 0], X[:, 1], s=100)\n",
    "# draw lines from each point to its two nearest neighbors\n",
    "K = 2\n",
    "for i in range(X.shape[0]):\n",
    "    for j in nearest_partition[i, :K+1]:\n",
    "        # plot a line from X[i] to X[j]\n",
    "        plt.plot(*zip(X[j], X[i]), color='black')\n"
   ]
  },
  {
   "cell_type": "markdown",
   "metadata": {},
   "source": [
    "- Each node has two lines to its nearest node.\n",
    "- Some has more lines because if A is B is nearest neighbour, it does not mean vice versa."
   ]
  },
  {
   "cell_type": "markdown",
   "metadata": {},
   "source": [
    "# Big-O Notation\n",
    "\n",
    "- Describes how an algorithm's runtime or resource use scales with input size.\n",
    "\n",
    "- Helps predict performance for large datasets, crucial in data science.\n",
    "\n",
    "Common Big-O Classifications:\n",
    "\n",
    "- O(1): Constant time, very fast, independent of input size.\n",
    "- O(N): Linear time, directly scales with input size.\n",
    "- O(N²): Quadratic time, performance degrades rapidly as input size increases.\n",
    "- O(log N): Logarithmic time, very efficient for large datasets.\n",
    "- O(N log N): Common in efficient sorting algorithms like quicksort and mergesort.\n",
    "\n",
    "Why It Matters:\n",
    "\n",
    "- Choosing algorithms with better scaling (e.g., O(N) over O(N²)) can significantly reduce computation time on large datasets.\n",
    "- Essential for optimizing machine learning models, data processing, and analysis pipelines.\n",
    "\n",
    "Real-World Relevance:\n",
    "\n",
    "- For small datasets, algorithms with higher Big-O might still be practical due to lower constant factors.\n",
    "- For large datasets, scaling differences (like O(N) vs. O(N²)) can be the difference between feasible and impractical computations.\n",
    "Practical Use:\n",
    "\n",
    "- Use Big-O to guide initial algorithm selection, but also consider practical factors like implementation, hardware, and actual run times.\n",
    "\n",
    "- In data science, prioritize algorithms with efficient scaling to handle growing datasets effectively.\n",
    "\n",
    "Limitations:\n",
    "- Big-O does not measure exact execution time; it only provides a general trend.\n",
    "- Other factors like system architecture and implementation quality can impact actual performance."
   ]
  },
  {
   "cell_type": "markdown",
   "metadata": {},
   "source": []
  }
 ],
 "metadata": {
  "kernelspec": {
   "display_name": "libraries",
   "language": "python",
   "name": "python3"
  },
  "language_info": {
   "codemirror_mode": {
    "name": "ipython",
    "version": 3
   },
   "file_extension": ".py",
   "mimetype": "text/x-python",
   "name": "python",
   "nbconvert_exporter": "python",
   "pygments_lexer": "ipython3",
   "version": "3.12.5"
  }
 },
 "nbformat": 4,
 "nbformat_minor": 2
}
