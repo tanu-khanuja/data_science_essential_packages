{
 "cells": [
  {
   "cell_type": "markdown",
   "metadata": {},
   "source": [
    "# Aggregation in Arrays\n",
    "- When We have big data, we find summary statistics, to summarize data.\n",
    "- Mean and SD are most common, other include sum, product, min, max etc.\n",
    "- Numpy has these fast built-in aggregation functions for arrays.\n",
    "- If we are working with numpy arrays then we should look for using numpy's version of aggregates only."
   ]
  },
  {
   "cell_type": "markdown",
   "metadata": {},
   "source": [
    "# Summing the values in an Array \n",
    "- Values of sum() in pyhton and np.sum() in numpy are mpre or less same.\n",
    "- But they are not same, np.sum() has other attributes and can be used with multidimensional arrays too."
   ]
  },
  {
   "cell_type": "code",
   "execution_count": 19,
   "metadata": {},
   "outputs": [
    {
     "data": {
      "text/plain": [
       "array([0.5488135 , 0.71518937, 0.60276338, ..., 0.08870192, 0.45256207,\n",
       "       0.17769845])"
      ]
     },
     "execution_count": 19,
     "metadata": {},
     "output_type": "execute_result"
    }
   ],
   "source": [
    "import numpy as np\n",
    "np.random.seed(0)\n",
    "\n",
    "L = np.random.random(100000000)\n",
    "L"
   ]
  },
  {
   "cell_type": "code",
   "execution_count": 20,
   "metadata": {},
   "outputs": [],
   "source": [
    "assert int(sum(L)) == int(np.sum(L)) # Same as python"
   ]
  },
  {
   "cell_type": "code",
   "execution_count": 21,
   "metadata": {},
   "outputs": [
    {
     "name": "stdout",
     "output_type": "stream",
     "text": [
      "3.44 s ± 30 ms per loop (mean ± std. dev. of 7 runs, 1 loop each)\n"
     ]
    }
   ],
   "source": [
    "# Difference is in computation time\n",
    "%timeit sum(L)"
   ]
  },
  {
   "cell_type": "code",
   "execution_count": 22,
   "metadata": {},
   "outputs": [
    {
     "name": "stdout",
     "output_type": "stream",
     "text": [
      "14.5 ms ± 830 μs per loop (mean ± std. dev. of 7 runs, 100 loops each)\n"
     ]
    }
   ],
   "source": [
    "%timeit np.sum(L)"
   ]
  },
  {
   "cell_type": "markdown",
   "metadata": {},
   "source": [
    "# Minimum and Maximum\n",
    "\n"
   ]
  },
  {
   "cell_type": "code",
   "execution_count": 25,
   "metadata": {},
   "outputs": [
    {
     "data": {
      "text/plain": [
       "(np.float64(1.0361921209955938e-08), np.float64(0.9999999925787235))"
      ]
     },
     "execution_count": 25,
     "metadata": {},
     "output_type": "execute_result"
    }
   ],
   "source": [
    "min(L), max(L)"
   ]
  },
  {
   "cell_type": "code",
   "execution_count": 27,
   "metadata": {},
   "outputs": [
    {
     "data": {
      "text/plain": [
       "(np.float64(1.0361921209955938e-08), np.float64(0.9999999925787235))"
      ]
     },
     "execution_count": 27,
     "metadata": {},
     "output_type": "execute_result"
    }
   ],
   "source": [
    "np.min(L), np.max(L)  # Same syntax but quick"
   ]
  },
  {
   "cell_type": "markdown",
   "metadata": {},
   "source": [
    "You can compare speeds."
   ]
  },
  {
   "cell_type": "markdown",
   "metadata": {},
   "source": [
    "# Multidimensional Aggregates"
   ]
  },
  {
   "cell_type": "markdown",
   "metadata": {},
   "source": [
    "- By default in multidimensional arrays also, numpy works on all elements together.\n",
    "- We can specify the axis to collapse\n",
    "  - e.g. to get sum of each column, collapse rows, i.e. collapse axis=0.\n",
    "  - to get sum of each row, collapse columns, i.e. collapse axis=1."
   ]
  },
  {
   "cell_type": "code",
   "execution_count": 36,
   "metadata": {},
   "outputs": [
    {
     "data": {
      "text/plain": [
       "array([[12,  5,  0],\n",
       "       [ 3, 11,  3],\n",
       "       [ 7,  9,  3],\n",
       "       [ 5,  2,  4],\n",
       "       [ 7,  6,  8]])"
      ]
     },
     "execution_count": 36,
     "metadata": {},
     "output_type": "execute_result"
    }
   ],
   "source": [
    "np.random.seed(0)\n",
    "x = np.random.randint(15, size=[5,3])\n",
    "x"
   ]
  },
  {
   "cell_type": "code",
   "execution_count": 37,
   "metadata": {},
   "outputs": [
    {
     "data": {
      "text/plain": [
       "np.int64(85)"
      ]
     },
     "execution_count": 37,
     "metadata": {},
     "output_type": "execute_result"
    }
   ],
   "source": [
    "# Aggregation on complete array\n",
    "np.sum(x)"
   ]
  },
  {
   "cell_type": "code",
   "execution_count": 38,
   "metadata": {},
   "outputs": [
    {
     "data": {
      "text/plain": [
       "array([34, 33, 18])"
      ]
     },
     "execution_count": 38,
     "metadata": {},
     "output_type": "execute_result"
    }
   ],
   "source": [
    "# Aggregation on columns\n",
    "np.sum(x, axis=0)"
   ]
  },
  {
   "cell_type": "code",
   "execution_count": 39,
   "metadata": {},
   "outputs": [
    {
     "data": {
      "text/plain": [
       "array([17, 17, 19, 11, 21])"
      ]
     },
     "execution_count": 39,
     "metadata": {},
     "output_type": "execute_result"
    }
   ],
   "source": [
    "# Aggregation on rows\n",
    "np.sum(x, axis=1)\n"
   ]
  },
  {
   "cell_type": "markdown",
   "metadata": {},
   "source": [
    "# Aggreagation with NaN values\n",
    "- If we use normal aggregation funcs like, np.mean, np.min etc it will not ignore NaN, instead return NaN as output.\n",
    "- For Ignoring NaN values we must use other aggregation functions - put nan before each aggregator name.\n",
    "``` python \n",
    "np.sum() -> np.nansum()\n",
    "np.min() -> np.nanmin()   etc.\n",
    "\n",
    "```\n"
   ]
  },
  {
   "cell_type": "code",
   "execution_count": 42,
   "metadata": {},
   "outputs": [
    {
     "data": {
      "text/plain": [
       "array([[ 1.,  2., nan,  4.],\n",
       "       [nan,  4.,  5.,  1.]])"
      ]
     },
     "execution_count": 42,
     "metadata": {},
     "output_type": "execute_result"
    }
   ],
   "source": [
    "# Example array with NaN values\n",
    "x = np.array([[1, 2, np.nan, 4], [np.nan, 4, 5, 1]])\n",
    "x"
   ]
  },
  {
   "cell_type": "code",
   "execution_count": 43,
   "metadata": {},
   "outputs": [
    {
     "name": "stdout",
     "output_type": "stream",
     "text": [
      "nan\n",
      "17.0\n"
     ]
    }
   ],
   "source": [
    "# Sum with NaN results in NaN\n",
    "print(np.sum(x))         # Output: nan\n",
    "print(np.nansum(x))      # Output: 7.0"
   ]
  },
  {
   "cell_type": "markdown",
   "metadata": {},
   "source": [
    "- List of useful aggregation functions and their nan-safe counterparts.\n",
    "\n",
    "\n",
    "| Function Name   | NaN-safe Version   | Description                             |\n",
    "|-----------------|--------------------|-----------------------------------------|\n",
    "| `np.sum`        | `np.nansum`        | Compute sum of elements                 |\n",
    "| `np.prod`       | `np.nanprod`       | Compute product of elements             |\n",
    "| `np.mean`       | `np.nanmean`       | Compute mean of elements                |\n",
    "| `np.std`        | `np.nanstd`        | Compute standard deviation              |\n",
    "| `np.var`        | `np.nanvar`        | Compute variance                        |\n",
    "| `np.min`        | `np.nanmin`        | Find minimum value                      |\n",
    "| `np.max`        | `np.nanmax`        | Find maximum value                      |\n",
    "| `np.argmin`     | `np.nanargmin`     | Find index of minimum value             |\n",
    "| `np.argmax`     | `np.nanargmax`     | Find index of maximum value             |\n",
    "| `np.median`     | `np.nanmedian`     | Compute median of elements              |\n",
    "| `np.percentile` | `np.nanpercentile` | Compute rank-based statistics of elements |\n",
    "| `np.any`        | N/A                | Evaluate whether any elements are true  |\n",
    "| `np.all`        | N/A                | Evaluate whether all elements are true  |\n"
   ]
  },
  {
   "cell_type": "markdown",
   "metadata": {},
   "source": [
    "# Example: What Is the Average Height of US Presidents?"
   ]
  },
  {
   "cell_type": "code",
   "execution_count": 47,
   "metadata": {},
   "outputs": [
    {
     "data": {
      "text/plain": [
       "array([189, 170, 189, 163, 183, 171, 185, 168, 173, 183, 173, 173, 175,\n",
       "       178, 183, 193, 178, 173, 174, 183, 183, 168, 170, 178, 182, 180,\n",
       "       183, 178, 182, 188, 175, 179, 183, 193, 182, 183, 177, 185, 188,\n",
       "       188, 182, 185, 191, 182])"
      ]
     },
     "execution_count": 47,
     "metadata": {},
     "output_type": "execute_result"
    }
   ],
   "source": [
    "import pandas as pd \n",
    "\n",
    "data = pd.read_csv('president_heights.csv')\n",
    "heights = np.array(data['height(cm)'])\n",
    "heights"
   ]
  },
  {
   "cell_type": "code",
   "execution_count": 57,
   "metadata": {},
   "outputs": [
    {
     "name": "stdout",
     "output_type": "stream",
     "text": [
      "heights.mean()=np.float64(180.04545454545453)\n",
      "heights.min()=np.int64(163)\n",
      "heights.max()=np.int64(193)\n",
      "heights.std()=np.float64(6.983599441335736)\n"
     ]
    }
   ],
   "source": [
    "# Summary statstics calculation\n",
    "print(f\"{heights.mean()=}\")\n",
    "print(f\"{heights.min()=}\")\n",
    "print(f\"{heights.max()=}\")\n",
    "print(f\"{heights.std()=}\")"
   ]
  },
  {
   "cell_type": "code",
   "execution_count": 64,
   "metadata": {},
   "outputs": [
    {
     "name": "stdout",
     "output_type": "stream",
     "text": [
      "np.percentile(heights, 25)=np.float64(174.75)\n",
      "np.median(heights)=np.float64(182.0)\n",
      "np.percentile(heights, 75)=np.float64(183.5)\n"
     ]
    }
   ],
   "source": [
    "# Find quantiles\n",
    "print(f\"{np.percentile(heights, 25)=}\")  # 1st quantile\n",
    "print(f\"{np.median(heights)=}\")            # 2nd quantile\n",
    "print(f\"{np.percentile(heights, 75)=}\")  # 3rd quantile"
   ]
  },
  {
   "cell_type": "code",
   "execution_count": 74,
   "metadata": {},
   "outputs": [
    {
     "data": {
      "text/plain": [
       "Text(0.5, 1.0, 'Height Distribution of US Presidents')"
      ]
     },
     "execution_count": 74,
     "metadata": {},
     "output_type": "execute_result"
    },
    {
     "data": {
      "image/png": "[encoded data removed]",
      "text/plain": [
       "<Figure size 640x480 with 1 Axes>"
      ]
     },
     "metadata": {},
     "output_type": "display_data"
    }
   ],
   "source": [
    "# Visual representation\n",
    "import matplotlib.pyplot as plt\n",
    "import seaborn; seaborn.set_theme() # set plot style\n",
    "\n",
    "plt.hist(heights)\n",
    "plt.xlabel('height(cm)')\n",
    "plt.ylabel('number of presidents')\n",
    "plt.title('Height Distribution of US Presidents')"
   ]
  }
 ],
 "metadata": {
  "kernelspec": {
   "display_name": "libraries",
   "language": "python",
   "name": "python3"
  },
  "language_info": {
   "codemirror_mode": {
    "name": "ipython",
    "version": 3
   },
   "file_extension": ".py",
   "mimetype": "text/x-python",
   "name": "python",
   "nbconvert_exporter": "python",
   "pygments_lexer": "ipython3",
   "version": "3.12.5"
  }
 },
 "nbformat": 4,
 "nbformat_minor": 2
}
