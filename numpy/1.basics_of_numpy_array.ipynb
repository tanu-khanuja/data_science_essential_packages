{
 "cells": [
  {
   "cell_type": "markdown",
   "metadata": {},
   "source": [
    "Starting with NumPy, let's understand what it is.\n",
    "\n",
    "NumPy is a library or a Python package used for various scientific computations. When the array size is large in Python, operating on them becomes very costly. NumPy provides arrays that are vectorized and perform operations on array elements simultaneously (rather than using loops like Python lists).\n",
    "\n",
    "\n",
    "**What is the difference between NumPy arrays and Python arrays?**\n",
    "\n",
    "1. NumPy arrays only store **homogeneous elements**. Thus, they store these elements in contiguous memory and do not require storing type information for each element.\n",
    "\n",
    "2. Due to their **vectorized** nature, NumPy arrays are much faster.\n",
    "\n",
    "3. The NumPy package provides many **mathematical functions** that can be easily applied to NumPy arrays.\n",
    "\n",
    "To understand the performance difference between NumPy arrays and Python arrays, let's take this example of adding 2 to each element of an array."
   ]
  },
  {
   "cell_type": "markdown",
   "metadata": {},
   "source": [
    "In Numpy:"
   ]
  },
  {
   "cell_type": "code",
   "execution_count": 1,
   "metadata": {},
   "outputs": [
    {
     "name": "stdout",
     "output_type": "stream",
     "text": [
      "[3 4 5]\n"
     ]
    }
   ],
   "source": [
    "import numpy as np\n",
    "a = np.array([1,2,3])\n",
    "b = a+2\n",
    "print(b)"
   ]
  },
  {
   "cell_type": "markdown",
   "metadata": {},
   "source": [
    "In Python:"
   ]
  },
  {
   "cell_type": "code",
   "execution_count": 2,
   "metadata": {},
   "outputs": [
    {
     "name": "stdout",
     "output_type": "stream",
     "text": [
      "[3, 4, 5]\n"
     ]
    }
   ],
   "source": [
    "a = [1,2,3]\n",
    "b = [i+2 for i in a]\n",
    "print(b)"
   ]
  },
  {
   "cell_type": "markdown",
   "metadata": {},
   "source": [
    "NumPy array operations are vectorized, i.e., NumPy applies operations to the whole array at once, without using Python loops. For example, adding 2 to a NumPy array directly adds 2 to each element of the array. Whereas, performing this operation in Python requires a loop, which makes it slower."
   ]
  },
  {
   "cell_type": "markdown",
   "metadata": {},
   "source": [
    "**So, is NumPy all about arrays?**\n",
    "\n",
    "Well… somewhat. We can say that `ndarray` (the core data structure of NumPy) is the backbone — most of NumPy revolves around creating, manipulating, and computing with these arrays.\n",
    "\n",
    "However, NumPy also offers several other useful features:\n",
    "\n",
    "1. **Mathematical functions** – Access to a wide range of functions such as trigonometry, statistics, and linear algebra.  \n",
    "2. **Random number generation** – Using `np.random` to generate random data for simulations and testing.  \n",
    "3. **Fourier transforms and signal processing** – Not heavily used in standard data science or ML workflows, but available if needed.  \n",
    "4. **File I/O** – Load and save data in formats like `.npy`, `.csv`, etc.  \n",
    "5. **Broadcasting** – A powerful way to perform operations on arrays of different shapes (very important in real-world use cases).\n",
    "\n",
    "Before using NumPy, it’s important to understand how it works and how to handle its arrays.  \n",
    "\n",
    "I will start by defining NumPy arrays.\n"
   ]
  },
  {
   "cell_type": "markdown",
   "metadata": {},
   "source": [
    "### 1. Defining Numpy arrays"
   ]
  },
  {
   "cell_type": "markdown",
   "metadata": {},
   "source": [
    "To define a Numpy array i can use: either the **python list/tuple**, OR **built-in numpy functions.**"
   ]
  },
  {
   "cell_type": "code",
   "execution_count": 3,
   "metadata": {},
   "outputs": [],
   "source": [
    "import numpy as np\n",
    "np.random.seed(0)  # Set seed for reproducibility"
   ]
  },
  {
   "cell_type": "markdown",
   "metadata": {},
   "source": [
    "1. ndarray from python list/tuple"
   ]
  },
  {
   "cell_type": "code",
   "execution_count": 4,
   "metadata": {},
   "outputs": [
    {
     "data": {
      "text/plain": [
       "array([1, 2, 3])"
      ]
     },
     "execution_count": 4,
     "metadata": {},
     "output_type": "execute_result"
    }
   ],
   "source": [
    "# From a python list or tuple\n",
    "a_from_list = np.array([1,2,3])\n",
    "a_from_list"
   ]
  },
  {
   "cell_type": "code",
   "execution_count": 5,
   "metadata": {},
   "outputs": [
    {
     "data": {
      "text/plain": [
       "array([1, 2, 3])"
      ]
     },
     "execution_count": 5,
     "metadata": {},
     "output_type": "execute_result"
    }
   ],
   "source": [
    "a_from_tuple = np.array((1,2,3))\n",
    "a_from_tuple"
   ]
  },
  {
   "cell_type": "markdown",
   "metadata": {},
   "source": [
    "2. ndarray using numpy functions, we can create:\n",
    "   1. all ones/zeroes arrays\n",
    "   2. all 'a' filled arrays\n",
    "   3. identity matrix\n",
    "   4. a range\n",
    "   5. a 'n' numbers between a and b (linspace)\n",
    "   6. random numbers"
   ]
  },
  {
   "cell_type": "code",
   "execution_count": 6,
   "metadata": {},
   "outputs": [
    {
     "data": {
      "text/plain": [
       "array([[1., 1., 1.],\n",
       "       [1., 1., 1.]])"
      ]
     },
     "execution_count": 6,
     "metadata": {},
     "output_type": "execute_result"
    }
   ],
   "source": [
    "np.ones((2,3)) # shape 2x3 array all filled with 1\n"
   ]
  },
  {
   "cell_type": "code",
   "execution_count": 7,
   "metadata": {},
   "outputs": [
    {
     "data": {
      "text/plain": [
       "array([[0., 0., 0.],\n",
       "       [0., 0., 0.]])"
      ]
     },
     "execution_count": 7,
     "metadata": {},
     "output_type": "execute_result"
    }
   ],
   "source": [
    "np.zeros((2,3)) # 2x3 array of zeros"
   ]
  },
  {
   "cell_type": "code",
   "execution_count": 8,
   "metadata": {},
   "outputs": [
    {
     "data": {
      "text/plain": [
       "array([[7, 7, 7],\n",
       "       [7, 7, 7]])"
      ]
     },
     "execution_count": 8,
     "metadata": {},
     "output_type": "execute_result"
    }
   ],
   "source": [
    "np.full((2,3), 7) # 2x3 array all filled with 7"
   ]
  },
  {
   "cell_type": "code",
   "execution_count": 9,
   "metadata": {},
   "outputs": [
    {
     "data": {
      "text/plain": [
       "array([[1., 0., 0.],\n",
       "       [0., 1., 0.],\n",
       "       [0., 0., 1.]])"
      ]
     },
     "execution_count": 9,
     "metadata": {},
     "output_type": "execute_result"
    }
   ],
   "source": [
    "np.eye(3) # identity matrix of shape 3x3"
   ]
  },
  {
   "cell_type": "code",
   "execution_count": 10,
   "metadata": {},
   "outputs": [
    {
     "data": {
      "text/plain": [
       "array([0, 2, 4, 6, 8])"
      ]
     },
     "execution_count": 10,
     "metadata": {},
     "output_type": "execute_result"
    }
   ],
   "source": [
    "np.arange(0,10,2)  # all values between 0 to 10 with step 2"
   ]
  },
  {
   "cell_type": "code",
   "execution_count": 11,
   "metadata": {},
   "outputs": [
    {
     "data": {
      "text/plain": [
       "array([ 0., 10.])"
      ]
     },
     "execution_count": 11,
     "metadata": {},
     "output_type": "execute_result"
    }
   ],
   "source": [
    "np.linspace(0,10,2) # 2 values between the range 0,10"
   ]
  },
  {
   "cell_type": "code",
   "execution_count": 12,
   "metadata": {},
   "outputs": [
    {
     "data": {
      "text/plain": [
       "array([[0.5488135 , 0.71518937, 0.60276338],\n",
       "       [0.54488318, 0.4236548 , 0.64589411]])"
      ]
     },
     "execution_count": 12,
     "metadata": {},
     "output_type": "execute_result"
    }
   ],
   "source": [
    "np.random.rand(2,3) # random floats between 0-1 in shape 2x3 array"
   ]
  },
  {
   "cell_type": "code",
   "execution_count": 13,
   "metadata": {},
   "outputs": [
    {
     "data": {
      "text/plain": [
       "array([[4, 7, 6, 8, 8],\n",
       "       [1, 6, 7, 7, 8]])"
      ]
     },
     "execution_count": 13,
     "metadata": {},
     "output_type": "execute_result"
    }
   ],
   "source": [
    "np.random.randint(0,10,(2,5)) # (2,5) random integers between 0-10"
   ]
  },
  {
   "cell_type": "markdown",
   "metadata": {},
   "source": [
    "We can create a 1D array and reshape it to 2D. \n",
    "For example, i created an array using arange:\n"
   ]
  },
  {
   "cell_type": "code",
   "execution_count": 14,
   "metadata": {},
   "outputs": [
    {
     "data": {
      "text/plain": [
       "array([0, 1, 2, 3, 4, 5, 6, 7, 8, 9])"
      ]
     },
     "execution_count": 14,
     "metadata": {},
     "output_type": "execute_result"
    }
   ],
   "source": [
    "np.arange(0,10) # 1D"
   ]
  },
  {
   "cell_type": "code",
   "execution_count": 15,
   "metadata": {},
   "outputs": [
    {
     "data": {
      "text/plain": [
       "array([[0, 1],\n",
       "       [2, 3],\n",
       "       [4, 5],\n",
       "       [6, 7],\n",
       "       [8, 9]])"
      ]
     },
     "execution_count": 15,
     "metadata": {},
     "output_type": "execute_result"
    }
   ],
   "source": [
    "np.arange(0,10).reshape(5,2) # convert 1d to 2d"
   ]
  },
  {
   "cell_type": "markdown",
   "metadata": {},
   "source": [
    "Otherwise, we can directly define the multidimensional arrays with random values, zeroes and ones."
   ]
  },
  {
   "cell_type": "code",
   "execution_count": 16,
   "metadata": {},
   "outputs": [],
   "source": [
    "# 1D array\n",
    "x1= np.random.randint(10, size=6)  # 1D array/tensor of 6 elements of values in range of 0 to 10\n",
    "\n",
    "# 2D array\n",
    "x2= np.random.randint(10, size=(3,4))  # 2D array/tensor of shape (3,4)\n",
    "\n",
    "#3D array\n",
    "x3 = np.random.randint(10, size=(3,4,5))  #3D array/tensor of shape (3,4,5)"
   ]
  },
  {
   "cell_type": "code",
   "execution_count": 17,
   "metadata": {},
   "outputs": [
    {
     "name": "stdout",
     "output_type": "stream",
     "text": [
      "x1=array([1, 5, 9, 8, 9, 4])\n",
      "x2=array([[3, 0, 3, 5],\n",
      "       [0, 2, 3, 8],\n",
      "       [1, 3, 3, 3]])\n",
      "x3=array([[[7, 0, 1, 9, 9],\n",
      "        [0, 4, 7, 3, 2],\n",
      "        [7, 2, 0, 0, 4],\n",
      "        [5, 5, 6, 8, 4]],\n",
      "\n",
      "       [[1, 4, 9, 8, 1],\n",
      "        [1, 7, 9, 9, 3],\n",
      "        [6, 7, 2, 0, 3],\n",
      "        [5, 9, 4, 4, 6]],\n",
      "\n",
      "       [[4, 4, 3, 4, 4],\n",
      "        [8, 4, 3, 7, 5],\n",
      "        [5, 0, 1, 5, 9],\n",
      "        [3, 0, 5, 0, 1]]])\n"
     ]
    }
   ],
   "source": [
    "print(f\"{x1=}\")\n",
    "print(f\"{x2=}\")\n",
    "print(f\"{x3=}\")"
   ]
  },
  {
   "cell_type": "markdown",
   "metadata": {},
   "source": [
    "### 2. Numpy array attributes\n",
    "\n",
    "What are attributes?\n",
    "\n",
    "When we simply talk about the OOP, the attributes are the variables associated with a class or object, which represent the object's state/data.\n",
    "\n",
    "But in Numpy when I say attribute, it means the properties of that array.\n",
    "For example- dimension, size, shape, datatype, byte size of single elements or complete array etc.\n",
    "\n",
    "To access these properties of a Numpy array, there are some in-built attributes:\n",
    "\n",
    "1. .ndim  (number of dimensions of array like 1D, 2D etc)\n",
    "2. .shape (Tuple with number size of array in each dimension, like shape of a tensor)\n",
    "3. .size  (Total number of elements in an array)\n",
    "4. .dtype (Data type of the array element- remember ndarray is always homogeneous)\n",
    "5. .itemsize (Number of bytes consumed by one element of the array)\n",
    "6. .nbytes ( total number of bytes consumed by the entire array)"
   ]
  },
  {
   "cell_type": "markdown",
   "metadata": {},
   "source": [
    "This is how these attributes are accessed:"
   ]
  },
  {
   "cell_type": "code",
   "execution_count": 18,
   "metadata": {},
   "outputs": [
    {
     "data": {
      "text/plain": [
       "array([[2, 4, 2, 0, 3, 2, 0, 7, 5, 9],\n",
       "       [0, 2, 7, 2, 9, 2, 3, 3, 2, 3],\n",
       "       [4, 1, 2, 9, 1, 4, 6, 8, 2, 3]])"
      ]
     },
     "execution_count": 18,
     "metadata": {},
     "output_type": "execute_result"
    }
   ],
   "source": [
    "# example ndarray\n",
    "\n",
    "x = np.random.randint(0,10, size=(3,10))\n",
    "x"
   ]
  },
  {
   "cell_type": "code",
   "execution_count": 19,
   "metadata": {},
   "outputs": [
    {
     "data": {
      "text/plain": [
       "2"
      ]
     },
     "execution_count": 19,
     "metadata": {},
     "output_type": "execute_result"
    }
   ],
   "source": [
    "x.ndim # 2 dimensional"
   ]
  },
  {
   "cell_type": "code",
   "execution_count": 20,
   "metadata": {},
   "outputs": [
    {
     "data": {
      "text/plain": [
       "(3, 10)"
      ]
     },
     "execution_count": 20,
     "metadata": {},
     "output_type": "execute_result"
    }
   ],
   "source": [
    "x.shape  # array shape"
   ]
  },
  {
   "cell_type": "code",
   "execution_count": 21,
   "metadata": {},
   "outputs": [
    {
     "data": {
      "text/plain": [
       "30"
      ]
     },
     "execution_count": 21,
     "metadata": {},
     "output_type": "execute_result"
    }
   ],
   "source": [
    "x.size # number of elements"
   ]
  },
  {
   "cell_type": "code",
   "execution_count": 22,
   "metadata": {},
   "outputs": [
    {
     "data": {
      "text/plain": [
       "dtype('int64')"
      ]
     },
     "execution_count": 22,
     "metadata": {},
     "output_type": "execute_result"
    }
   ],
   "source": [
    "x.dtype # element type"
   ]
  },
  {
   "cell_type": "code",
   "execution_count": 23,
   "metadata": {},
   "outputs": [
    {
     "data": {
      "text/plain": [
       "8"
      ]
     },
     "execution_count": 23,
     "metadata": {},
     "output_type": "execute_result"
    }
   ],
   "source": [
    "x.itemsize # byte size of each element"
   ]
  },
  {
   "cell_type": "code",
   "execution_count": 24,
   "metadata": {},
   "outputs": [
    {
     "data": {
      "text/plain": [
       "240"
      ]
     },
     "execution_count": 24,
     "metadata": {},
     "output_type": "execute_result"
    }
   ],
   "source": [
    "x.nbytes  # total bytes used by x"
   ]
  },
  {
   "cell_type": "markdown",
   "metadata": {},
   "source": [
    "### 3. Access Array Elements\n",
    "We created the array, and analyzed its properties. Now I will show you how to access the elements of ndarray.\n",
    "\n",
    "It is similar to how we access elements of a list in python, using square brackets `[]`. But syntax differs slightly:\n",
    "\n",
    "| **Operation** | **Python List** | **NumPy Array**         |\n",
    "|---------------|------------------|--------------------------|\n",
    "| Access 1D     | `a[2]`           | `a[2]`                   |\n",
    "| Access 2D     | `a[1][2]`        | `a[1, 2]` *(cleaner)*    |\n",
    "| Slicing       | `a[1:4]`         | `a[1:4]`                 |\n"
   ]
  },
  {
   "cell_type": "code",
   "execution_count": 25,
   "metadata": {},
   "outputs": [],
   "source": [
    "# 1D array elements\n",
    "\n",
    "x1 = np.array([5, 0, 3, 3, 7, 9])\n",
    "assert x1[0] == 5\n",
    "assert x1[-1] == 9\n",
    "assert x1[-2] == 7"
   ]
  },
  {
   "cell_type": "code",
   "execution_count": 26,
   "metadata": {},
   "outputs": [],
   "source": [
    "# Multidimensional array elements\n",
    "x2 = np.array([[3, 5, 2, 4],\n",
    "               [7, 6, 8, 8],\n",
    "               [1, 6, 7, 7]])\n",
    "\n",
    "assert x2[-1,0] == 1\n",
    "assert x2[-2,3] == 8\n"
   ]
  },
  {
   "cell_type": "markdown",
   "metadata": {},
   "source": [
    "- We can modify values of array using index."
   ]
  },
  {
   "cell_type": "code",
   "execution_count": 27,
   "metadata": {},
   "outputs": [
    {
     "data": {
      "text/plain": [
       "array([[[   7,    0,    1,    9,    9],\n",
       "        [   0,    4,    7,    3,    2],\n",
       "        [   7,    2,    0,    0,    4],\n",
       "        [   5,    5,    6,    8,    4]],\n",
       "\n",
       "       [[   1,    4,    9,    8,    1],\n",
       "        [   1,    7,    9,    9,    3],\n",
       "        [   6,    7,    2,    0,    3],\n",
       "        [   5,    9,    4,    4,    6]],\n",
       "\n",
       "       [[   4,    4,    3,    4,    4],\n",
       "        [   8,    4,    3,    7,    5],\n",
       "        [   5,    0,    1, 1000,    9],\n",
       "        [   3,    0,    5,    0,    1]]])"
      ]
     },
     "execution_count": 27,
     "metadata": {},
     "output_type": "execute_result"
    }
   ],
   "source": [
    "x3[2,2,3] = 1000\n",
    "x3"
   ]
  },
  {
   "cell_type": "markdown",
   "metadata": {},
   "source": [
    "**NOTE: Unlike python list, the datatype of numpy array is fixed. Means if we try to input float value in int64 type array, it will truncate the float value to int, without any WARNING.** \n",
    "\n",
    "See Example:"
   ]
  },
  {
   "cell_type": "code",
   "execution_count": 28,
   "metadata": {},
   "outputs": [
    {
     "data": {
      "text/plain": [
       "array([[[   7,    0,    1,    9,    9],\n",
       "        [   0,    4,    7,    3,    2],\n",
       "        [   7,    2,    0,    0,    4],\n",
       "        [   5,    5,    6,    8,    4]],\n",
       "\n",
       "       [[   1,    4,    9,    8,    1],\n",
       "        [   1,    7,    9,    9,    3],\n",
       "        [   6,    7,    2,    0,    3],\n",
       "        [   5,    9,    4,    4,    6]],\n",
       "\n",
       "       [[   4,    4,    3,    4,    4],\n",
       "        [   8,    4,    3,    7,    5],\n",
       "        [   5,    0,    1, 1000,    9],\n",
       "        [   3,    0,    5,    0,    1]]])"
      ]
     },
     "execution_count": 28,
     "metadata": {},
     "output_type": "execute_result"
    }
   ],
   "source": [
    "x3[2,2,3] = 1000.123\n",
    "x3"
   ]
  },
  {
   "cell_type": "markdown",
   "metadata": {},
   "source": [
    "### 4. Array Slicing\n",
    "- Similar to python lists. \n",
    "```python \n",
    "   Syntax: x[start:stop:step]"
   ]
  },
  {
   "cell_type": "code",
   "execution_count": 29,
   "metadata": {},
   "outputs": [
    {
     "data": {
      "text/plain": [
       "array([0, 1, 2, 3, 4, 5, 6, 7, 8, 9])"
      ]
     },
     "execution_count": 29,
     "metadata": {},
     "output_type": "execute_result"
    }
   ],
   "source": [
    "x = np.arange(10)  # Consider single entry as 0 to stop with default step 1\n",
    "x"
   ]
  },
  {
   "cell_type": "code",
   "execution_count": 30,
   "metadata": {},
   "outputs": [],
   "source": [
    "# 1. 1D Subarray\n",
    "\n",
    "assert list(x[:5]) == [0, 1, 2, 3, 4]\n",
    "assert list(x[5:]) == [5, 6, 7, 8, 9]\n",
    "assert list(x[4:7]) == [4,5,6]\n",
    "assert list(x[1:9:2]) == [1,3,5,7]\n",
    "assert list(x[1::3]) == [1,4,7]\n"
   ]
  },
  {
   "cell_type": "code",
   "execution_count": 31,
   "metadata": {},
   "outputs": [
    {
     "name": "stdout",
     "output_type": "stream",
     "text": [
      "[7 6 5 4 3 2]\n",
      "[]\n"
     ]
    }
   ],
   "source": [
    "# 2. Negative Step values -- Reverses the array\n",
    "\n",
    "assert list(x[:-1]) == [0, 1, 2, 3, 4, 5, 6, 7, 8]\n",
    "assert list(x[-3:1:-2]) == [7,5,3] \n",
    "\n",
    "# Try to understand start and step\n",
    "print(x[-3:1:-1])\n",
    "print(x[-3:1:1])\n"
   ]
  },
  {
   "cell_type": "code",
   "execution_count": 34,
   "metadata": {},
   "outputs": [
    {
     "data": {
      "text/plain": [
       "array([[ 3,  2, 11,  0],\n",
       "       [ 8,  8,  3,  8],\n",
       "       [10,  2,  8,  4]])"
      ]
     },
     "execution_count": 34,
     "metadata": {},
     "output_type": "execute_result"
    }
   ],
   "source": [
    "# 3. Multidim Subarrays - Similar, just separated by commas\n",
    "x2 = np.random.randint(12, size=(3,4))\n",
    "x2\n"
   ]
  },
  {
   "cell_type": "code",
   "execution_count": null,
   "metadata": {},
   "outputs": [
    {
     "data": {
      "text/plain": [
       "array([ 3,  2, 11,  0])"
      ]
     },
     "execution_count": 35,
     "metadata": {},
     "output_type": "execute_result"
    }
   ],
   "source": [
    "x2[0, :] # first row"
   ]
  },
  {
   "cell_type": "code",
   "execution_count": null,
   "metadata": {},
   "outputs": [
    {
     "data": {
      "text/plain": [
       "array([11,  3,  8])"
      ]
     },
     "execution_count": 36,
     "metadata": {},
     "output_type": "execute_result"
    }
   ],
   "source": [
    "x2[:, 2] # second column"
   ]
  },
  {
   "cell_type": "code",
   "execution_count": 37,
   "metadata": {},
   "outputs": [
    {
     "data": {
      "text/plain": [
       "array([[ 2, 11],\n",
       "       [ 8,  3]])"
      ]
     },
     "execution_count": 37,
     "metadata": {},
     "output_type": "execute_result"
    }
   ],
   "source": [
    "x2[0:2, 1:3] # row 0,1 and col 1,2"
   ]
  },
  {
   "cell_type": "markdown",
   "metadata": {},
   "source": [
    "### 5. SubArray copies - Important to note\n",
    "\n",
    "- Just like with 1D arrays, updating a subarray in a multi-dimensional NumPy array also updates the original array.  \n",
    "- This happens because slicing in NumPy returns a **view**, not a **copy**.\n",
    "\n",
    "- ✅  To modify the subarray **without affecting** the original array, create an explicit copy using:\n",
    "\n",
    "  ```python\n",
    "  sub = array[i:j, m:n].copy()\n",
    "```"
   ]
  },
  {
   "cell_type": "code",
   "execution_count": 38,
   "metadata": {},
   "outputs": [
    {
     "data": {
      "text/plain": [
       "array([[ 3,  2, 11,  0],\n",
       "       [ 8,  8,  3,  8],\n",
       "       [10,  2,  8,  4]])"
      ]
     },
     "execution_count": 38,
     "metadata": {},
     "output_type": "execute_result"
    }
   ],
   "source": [
    "x2"
   ]
  },
  {
   "cell_type": "code",
   "execution_count": 39,
   "metadata": {},
   "outputs": [
    {
     "data": {
      "text/plain": [
       "array([[1000,    2,   11,    0],\n",
       "       [   8,    8,    3,    8],\n",
       "       [  10,    2,    8,    4]])"
      ]
     },
     "execution_count": 39,
     "metadata": {},
     "output_type": "execute_result"
    }
   ],
   "source": [
    "# No-Copy views\n",
    "x2_sub = x2[:2, :2]  \n",
    "x2_sub[0,0] = 1000\n",
    "x2  # Original array changed through subarray"
   ]
  },
  {
   "cell_type": "code",
   "execution_count": 40,
   "metadata": {},
   "outputs": [
    {
     "data": {
      "text/plain": [
       "array([[ 5,  0,  3, 11],\n",
       "       [ 3,  7,  9,  3],\n",
       "       [ 5,  2,  4,  7]])"
      ]
     },
     "execution_count": 40,
     "metadata": {},
     "output_type": "execute_result"
    }
   ],
   "source": [
    "# If we don't want to change original array\n",
    "np.random.seed(0)\n",
    "x3 = np.random.randint(12, size=(3,4)) # Same x_2d\n",
    "x3_sub = x3[:2,:2].copy()\n",
    "x3_sub[0,0] = 1000  \n",
    "x3   # Didn't change original array"
   ]
  },
  {
   "cell_type": "markdown",
   "metadata": {},
   "source": [
    "### 6. Reshaping of Arrays\n",
    "We have already seen before how to create a multidimensional array from one-dimensional array in section 1 using reshape().\n",
    "There are multiple ways to reshape an ndarray.\n",
    "\n",
    "1. using `reshape()`\n",
    "\n",
    "- Always match the size of array and reshape size before converting, otherwise get error.\n",
    "\n"
   ]
  },
  {
   "cell_type": "code",
   "execution_count": 41,
   "metadata": {},
   "outputs": [
    {
     "data": {
      "text/plain": [
       "array([1, 2, 3, 4, 5, 6, 7, 8, 9])"
      ]
     },
     "execution_count": 41,
     "metadata": {},
     "output_type": "execute_result"
    }
   ],
   "source": [
    "# Create a 1D array\n",
    "grid = np.arange(1,10)\n",
    "assert grid.ndim == 1\n",
    "\n",
    "grid"
   ]
  },
  {
   "cell_type": "code",
   "execution_count": 42,
   "metadata": {},
   "outputs": [
    {
     "data": {
      "text/plain": [
       "array([[1, 2, 3],\n",
       "       [4, 5, 6],\n",
       "       [7, 8, 9]])"
      ]
     },
     "execution_count": 42,
     "metadata": {},
     "output_type": "execute_result"
    }
   ],
   "source": [
    "# Reshape to 2D\n",
    "grid = grid.reshape(3,3)\n",
    "assert grid.ndim == 2\n",
    "\n",
    "grid"
   ]
  },
  {
   "cell_type": "code",
   "execution_count": 43,
   "metadata": {},
   "outputs": [
    {
     "data": {
      "text/plain": [
       "array([1, 2, 3, 4, 5, 6, 7, 8, 9])"
      ]
     },
     "execution_count": 43,
     "metadata": {},
     "output_type": "execute_result"
    }
   ],
   "source": [
    "# Change to 1D\n",
    "grid = grid.reshape(9)\n",
    "assert grid.ndim == 1\n",
    "\n",
    "grid"
   ]
  },
  {
   "cell_type": "markdown",
   "metadata": {},
   "source": [
    "2. `squeeze()` - To remove axes whose dimensions are 1."
   ]
  },
  {
   "cell_type": "code",
   "execution_count": 44,
   "metadata": {},
   "outputs": [
    {
     "data": {
      "text/plain": [
       "array([[[1]],\n",
       "\n",
       "       [[2]],\n",
       "\n",
       "       [[3]]])"
      ]
     },
     "execution_count": 44,
     "metadata": {},
     "output_type": "execute_result"
    }
   ],
   "source": [
    "a = np.array([1,2,3]).reshape(3,1,1)\n",
    "a"
   ]
  },
  {
   "cell_type": "code",
   "execution_count": 45,
   "metadata": {},
   "outputs": [
    {
     "data": {
      "text/plain": [
       "(3,)"
      ]
     },
     "execution_count": 45,
     "metadata": {},
     "output_type": "execute_result"
    }
   ],
   "source": [
    "a_sq = a.squeeze() # removed all axes with dimension 1\n",
    "\n",
    "a_sq.shape"
   ]
  },
  {
   "cell_type": "markdown",
   "metadata": {},
   "source": [
    "3. use `exapnd_dim` to add new axis (which is unsqueeze in torch)"
   ]
  },
  {
   "cell_type": "code",
   "execution_count": 46,
   "metadata": {},
   "outputs": [
    {
     "data": {
      "text/plain": [
       "(3,)"
      ]
     },
     "execution_count": 46,
     "metadata": {},
     "output_type": "execute_result"
    }
   ],
   "source": [
    "a = np.array([1,2,3])\n",
    "a.shape"
   ]
  },
  {
   "cell_type": "code",
   "execution_count": 47,
   "metadata": {},
   "outputs": [
    {
     "data": {
      "text/plain": [
       "(3, 1)"
      ]
     },
     "execution_count": 47,
     "metadata": {},
     "output_type": "execute_result"
    }
   ],
   "source": [
    "b = np.expand_dims(a, axis =1) # add one axis in dim[1]\n",
    "b.shape "
   ]
  },
  {
   "cell_type": "markdown",
   "metadata": {},
   "source": [
    "4. add dimension using `np.newaxis` keyword\n",
    "\n",
    "- similar to `expand_dim` we can use np.newaxis to add a dim in row or in col."
   ]
  },
  {
   "cell_type": "code",
   "execution_count": 48,
   "metadata": {},
   "outputs": [
    {
     "data": {
      "text/plain": [
       "(3,)"
      ]
     },
     "execution_count": 48,
     "metadata": {},
     "output_type": "execute_result"
    }
   ],
   "source": [
    "# 1. Create a row vector using reshape\n",
    "\n",
    "x= np.array([1,2,3])\n",
    "x.shape # 3 elements"
   ]
  },
  {
   "cell_type": "code",
   "execution_count": 49,
   "metadata": {},
   "outputs": [
    {
     "data": {
      "text/plain": [
       "(1, 3)"
      ]
     },
     "execution_count": 49,
     "metadata": {},
     "output_type": "execute_result"
    }
   ],
   "source": [
    "# make it 1 row of elements\n",
    "x[np.newaxis, :].shape\n"
   ]
  },
  {
   "cell_type": "code",
   "execution_count": 50,
   "metadata": {},
   "outputs": [
    {
     "data": {
      "text/plain": [
       "(3, 1)"
      ]
     },
     "execution_count": 50,
     "metadata": {},
     "output_type": "execute_result"
    }
   ],
   "source": [
    "# make it 3 col of one element\n",
    "x[:, np.newaxis].shape"
   ]
  },
  {
   "cell_type": "markdown",
   "metadata": {},
   "source": [
    "# 7. Array Concatenation\n",
    "\n",
    "Till now we already learned how to define a ndarray, check its properties(using attributes), access/modify its elements and how to slice an array. Now we will learn how to combine multiple ndarrays. \n",
    "\n",
    "- For 1D array, concatenation will result in 1D array only\n",
    "- But For multidimensional array, concatenation can be performed in two ways:\n",
    "  1. row wise (i.e. vertical concatenation)\n",
    "  2. column  wise (i.e. horizontal concatenation)\n",
    "\n",
    "This table summarize all concatenation types.\n",
    "\n",
    "| Function            | Description                          | Adds Axis? |\n",
    "|---------------------|--------------------------------------|------------|\n",
    "| `np.concatenate()`  | Join along existing axis             | ❌         |\n",
    "| `np.vstack()`       | Stack vertically (row-wise)          | ❌ (axis=0) |\n",
    "| `np.hstack()`       | Stack horizontally (column-wise)     | ❌ (axis=1) |\n",
    "| `np.stack()`        | Stack along a **new axis**           | ✅         |\n",
    "| `np.column_stack()` | Stack 1D arrays as columns in 2D     | ✅         |\n",
    "\n",
    "\n"
   ]
  },
  {
   "cell_type": "markdown",
   "metadata": {},
   "source": [
    "**1D array**\n",
    "1. `np.concatenate` : join two arrays in existing axis."
   ]
  },
  {
   "cell_type": "code",
   "execution_count": 51,
   "metadata": {},
   "outputs": [
    {
     "data": {
      "text/plain": [
       "array([1, 2, 3, 4])"
      ]
     },
     "execution_count": 51,
     "metadata": {},
     "output_type": "execute_result"
    }
   ],
   "source": [
    "a = np.array([1,2])\n",
    "b = np.array([3,4])\n",
    "np.concatenate([a,b])"
   ]
  },
  {
   "cell_type": "markdown",
   "metadata": {},
   "source": [
    "**Multidimensional array**  \n",
    "2. `vstack` and `hstack`\n",
    "\n",
    "- vstack: stack two arrays in rows(axis = 0) \n",
    "- hstack: stcak two arrays in columns(axis=1)"
   ]
  },
  {
   "cell_type": "code",
   "execution_count": 52,
   "metadata": {},
   "outputs": [
    {
     "data": {
      "text/plain": [
       "array([[1, 2],\n",
       "       [3, 4]])"
      ]
     },
     "execution_count": 52,
     "metadata": {},
     "output_type": "execute_result"
    }
   ],
   "source": [
    "np.vstack([a,b]) "
   ]
  },
  {
   "cell_type": "code",
   "execution_count": 53,
   "metadata": {},
   "outputs": [
    {
     "data": {
      "text/plain": [
       "array([1, 2, 3, 4])"
      ]
     },
     "execution_count": 53,
     "metadata": {},
     "output_type": "execute_result"
    }
   ],
   "source": [
    "np.hstack([a,b])"
   ]
  },
  {
   "cell_type": "markdown",
   "metadata": {},
   "source": [
    "### 8. Array Splitting\n",
    "\n",
    "``` python\n",
    "- np.split\n",
    "- np.vsplit\n",
    "- np.hsplit\n",
    "- np.dsplit"
   ]
  },
  {
   "cell_type": "markdown",
   "metadata": {},
   "source": [
    "**1D array**\n",
    "\n",
    "`np.split`"
   ]
  },
  {
   "cell_type": "code",
   "execution_count": 54,
   "metadata": {},
   "outputs": [],
   "source": [
    "# 1. numpy.split(ary, indices_or_sections, axis=0)\n",
    "\n",
    "np.random.seed(0)\n",
    "x = np.array([5, 0, 3, 3, 7, 9, 3, 5, 2, 4])\n",
    "x1, x2, x3 = np.split(x,[2,6])              # Split at index 2 and 6\n",
    "assert list(x1) == [5,0]\n",
    "assert list(x2) == [3,3,7,9]\n",
    "assert list(x3) == [3,5,2,4]"
   ]
  },
  {
   "cell_type": "markdown",
   "metadata": {},
   "source": [
    "**Multidimensional Array**\n",
    "\n",
    "- vsplit is split with axis=0.\n",
    "- hsplit is split with axis=1.\n",
    "- dsplit is to split 3D array on third axis.\n",
    "``` python\n",
    "- np.vsplit\n",
    "- np.hsplit\n",
    "- no.dsplit"
   ]
  },
  {
   "cell_type": "code",
   "execution_count": 55,
   "metadata": {},
   "outputs": [
    {
     "data": {
      "text/plain": [
       "array([[ 5,  6,  7,  8],\n",
       "       [ 9, 10, 11, 12],\n",
       "       [13, 14, 15, 16],\n",
       "       [17, 18, 19, 20]])"
      ]
     },
     "execution_count": 55,
     "metadata": {},
     "output_type": "execute_result"
    }
   ],
   "source": [
    "grid = np.arange(5,21).reshape(4,4)\n",
    "grid"
   ]
  },
  {
   "cell_type": "code",
   "execution_count": 56,
   "metadata": {},
   "outputs": [
    {
     "data": {
      "text/plain": [
       "[array([[ 5,  6,  7,  8],\n",
       "        [ 9, 10, 11, 12],\n",
       "        [13, 14, 15, 16]]),\n",
       " array([[17, 18, 19, 20]])]"
      ]
     },
     "execution_count": 56,
     "metadata": {},
     "output_type": "execute_result"
    }
   ],
   "source": [
    "np.vsplit(grid, [3])  # Split at row index 3"
   ]
  },
  {
   "cell_type": "code",
   "execution_count": 57,
   "metadata": {},
   "outputs": [
    {
     "data": {
      "text/plain": [
       "[array([[ 5,  6,  7],\n",
       "        [ 9, 10, 11],\n",
       "        [13, 14, 15],\n",
       "        [17, 18, 19]]),\n",
       " array([[ 8],\n",
       "        [12],\n",
       "        [16],\n",
       "        [20]])]"
      ]
     },
     "execution_count": 57,
     "metadata": {},
     "output_type": "execute_result"
    }
   ],
   "source": [
    "np.hsplit(grid,[3])  # Split at column index 3"
   ]
  }
 ],
 "metadata": {
  "kernelspec": {
   "display_name": "libraries",
   "language": "python",
   "name": "python3"
  },
  "language_info": {
   "codemirror_mode": {
    "name": "ipython",
    "version": 3
   },
   "file_extension": ".py",
   "mimetype": "text/x-python",
   "name": "python",
   "nbconvert_exporter": "python",
   "pygments_lexer": "ipython3",
   "version": "3.12.5"
  }
 },
 "nbformat": 4,
 "nbformat_minor": 2
}
