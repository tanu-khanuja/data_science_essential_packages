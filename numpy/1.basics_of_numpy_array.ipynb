{
 "cells": [
  {
   "cell_type": "markdown",
   "metadata": {},
   "source": [
    "- We will see Numpy array manipulation -- Access data, subarrays, split, reshape, join arrays etc"
   ]
  },
  {
   "cell_type": "markdown",
   "metadata": {},
   "source": [
    "# Defining Numpy arrays"
   ]
  },
  {
   "cell_type": "code",
   "execution_count": 4,
   "metadata": {},
   "outputs": [
    {
     "data": {
      "text/plain": [
       "array([5, 0, 3, 3, 7])"
      ]
     },
     "execution_count": 4,
     "metadata": {},
     "output_type": "execute_result"
    }
   ],
   "source": [
    "import numpy as np\n",
    "np.random.seed(0)  # Set seed for reproducibility\n",
    "\n",
    "# 1. Random int array\n",
    "x_random = np.random.randint(10, size=5)\n",
    "\n",
    "x_random"
   ]
  },
  {
   "cell_type": "code",
   "execution_count": 5,
   "metadata": {},
   "outputs": [
    {
     "data": {
      "text/plain": [
       "array([10, 11, 12, 13, 14, 15, 16, 17, 18, 19])"
      ]
     },
     "execution_count": 5,
     "metadata": {},
     "output_type": "execute_result"
    }
   ],
   "source": [
    "# 2. Array from a given range\n",
    "\n",
    "x_range = np.arange(start=10, stop=20, step=1)\n",
    "x_range"
   ]
  },
  {
   "cell_type": "code",
   "execution_count": 3,
   "metadata": {},
   "outputs": [
    {
     "data": {
      "text/plain": [
       "array([0.4236548 , 0.64589411, 0.43758721, 0.891773  , 0.96366276,\n",
       "       0.38344152, 0.79172504, 0.52889492, 0.56804456, 0.92559664])"
      ]
     },
     "execution_count": 3,
     "metadata": {},
     "output_type": "execute_result"
    }
   ],
   "source": [
    "# Return random floats in the half-open interval [0.0, 1.0)\n",
    "\n",
    "x_float01 = np.random.random(10)\n",
    "x_float01"
   ]
  },
  {
   "cell_type": "markdown",
   "metadata": {},
   "source": [
    "# 1. Numpy array attributes\n",
    "\n",
    "- Attributes of numpy arrays to access information about the array.\n",
    "- e.g dimension, size, shape, datatype, byte size of single elements or complete array etc."
   ]
  },
  {
   "cell_type": "markdown",
   "metadata": {},
   "source": [
    "## (a) Define multidimensional numpy arrays\n",
    "Let's define multidimensional arrays of random integers in range(0, 10)"
   ]
  },
  {
   "cell_type": "code",
   "execution_count": 24,
   "metadata": {},
   "outputs": [],
   "source": [
    "import numpy as np\n",
    "np.random.seed(0)  # Set seed for reproducibility\n",
    "\n",
    "# 1D array\n",
    "x1= np.random.randint(10, size=6)  # 1D array/tensor of 6 elements of values in range of 0 to 10\n",
    "\n",
    "# 2D array\n",
    "x2= np.random.randint(10, size=(3,4))  # 2D array/tensor of shape (3,4)\n",
    "\n",
    "#3D array\n",
    "x3 = np.random.randint(10, size=(3,4,5))  #3D array/tensor of shape (3,4,5)"
   ]
  },
  {
   "cell_type": "code",
   "execution_count": 25,
   "metadata": {},
   "outputs": [
    {
     "name": "stdout",
     "output_type": "stream",
     "text": [
      "x1=array([5, 0, 3, 3, 7, 9])\n",
      "x2=array([[3, 5, 2, 4],\n",
      "       [7, 6, 8, 8],\n",
      "       [1, 6, 7, 7]])\n",
      "x3=array([[[8, 1, 5, 9, 8],\n",
      "        [9, 4, 3, 0, 3],\n",
      "        [5, 0, 2, 3, 8],\n",
      "        [1, 3, 3, 3, 7]],\n",
      "\n",
      "       [[0, 1, 9, 9, 0],\n",
      "        [4, 7, 3, 2, 7],\n",
      "        [2, 0, 0, 4, 5],\n",
      "        [5, 6, 8, 4, 1]],\n",
      "\n",
      "       [[4, 9, 8, 1, 1],\n",
      "        [7, 9, 9, 3, 6],\n",
      "        [7, 2, 0, 3, 5],\n",
      "        [9, 4, 4, 6, 4]]])\n"
     ]
    }
   ],
   "source": [
    "print(f\"{x1=}\")\n",
    "print(f\"{x2=}\")\n",
    "print(f\"{x3=}\")"
   ]
  },
  {
   "cell_type": "markdown",
   "metadata": {},
   "source": [
    "## (b) Access Array Attributes\n",
    "\n",
    "1. .ndim  (number of dimensions of array)\n",
    "2. .shape (Tuple with number size of array in each dimension, like shape of a tensor)\n",
    "3. .size  (Total number of elements in an array)\n",
    "4. .dtype\n",
    "5. .itemsize\n",
    "6. .nbytes"
   ]
  },
  {
   "cell_type": "code",
   "execution_count": 26,
   "metadata": {},
   "outputs": [
    {
     "name": "stdout",
     "output_type": "stream",
     "text": [
      "x1.ndim=1\n",
      "x1.shape=(6,)\n",
      "x1.size=6\n",
      "x1.dtype=dtype('int64')\n",
      "x1.itemsize=8\n",
      "x1.nbytes=48\n"
     ]
    }
   ],
   "source": [
    "# For x1\n",
    "print(f\"{x1.ndim=}\")     # Dimension of array\n",
    "print(f\"{x1.shape=}\")    # Shape of array- tuple of number of elements in each array\n",
    "print(f\"{x1.size=}\")     # Total number of Elements in array\n",
    "print(f\"{x1.dtype=}\")    # Data-type of elements\n",
    "print(f\"{x1.itemsize=}\") # Size of each element in bytes\n",
    "print(f\"{x1.nbytes=}\")   # Size of total array in bytes- 6x8 butes here.\n"
   ]
  },
  {
   "cell_type": "code",
   "execution_count": 27,
   "metadata": {},
   "outputs": [],
   "source": [
    "assert x2.ndim == 2\n",
    "assert x2.shape == (3,4)\n",
    "assert x2.size == 12\n",
    "assert x2.dtype == 'int64'\n",
    "assert x2.itemsize == 8\n",
    "assert x2.nbytes == 96"
   ]
  },
  {
   "cell_type": "code",
   "execution_count": 28,
   "metadata": {},
   "outputs": [
    {
     "data": {
      "text/plain": [
       "array([[[8, 1, 5, 9, 8],\n",
       "        [9, 4, 3, 0, 3],\n",
       "        [5, 0, 2, 3, 8],\n",
       "        [1, 3, 3, 3, 7]],\n",
       "\n",
       "       [[0, 1, 9, 9, 0],\n",
       "        [4, 7, 3, 2, 7],\n",
       "        [2, 0, 0, 4, 5],\n",
       "        [5, 6, 8, 4, 1]],\n",
       "\n",
       "       [[4, 9, 8, 1, 1],\n",
       "        [7, 9, 9, 3, 6],\n",
       "        [7, 2, 0, 3, 5],\n",
       "        [9, 4, 4, 6, 4]]])"
      ]
     },
     "execution_count": 28,
     "metadata": {},
     "output_type": "execute_result"
    }
   ],
   "source": [
    "x3"
   ]
  },
  {
   "cell_type": "code",
   "execution_count": 29,
   "metadata": {},
   "outputs": [],
   "source": [
    "assert x3.ndim == 3\n",
    "assert x3.shape == (3,4,5)\n",
    "assert x3.size == 60\n",
    "assert x3.dtype == 'int64'\n",
    "assert x3.itemsize == 8\n",
    "assert x3.nbytes == 480"
   ]
  },
  {
   "cell_type": "markdown",
   "metadata": {},
   "source": [
    "# 2. Access Array Elements\n",
    "- Similar to python list, use [i] to access ith element of numpy array.\n"
   ]
  },
  {
   "cell_type": "code",
   "execution_count": 30,
   "metadata": {},
   "outputs": [],
   "source": [
    "# 1D array elements\n",
    "\n",
    "x1 = np.array([5, 0, 3, 3, 7, 9])\n",
    "assert x1[0] == 5\n",
    "assert x1[-1] == 9\n",
    "assert x1[-2] == 7"
   ]
  },
  {
   "cell_type": "code",
   "execution_count": 31,
   "metadata": {},
   "outputs": [],
   "source": [
    "# Multidimensional array elements\n",
    "x2 = np.array([[3, 5, 2, 4],\n",
    "               [7, 6, 8, 8],\n",
    "               [1, 6, 7, 7]])\n",
    "\n",
    "\n",
    "assert x2[-1,0] == 1\n",
    "assert x2[-2,3] == 8\n"
   ]
  },
  {
   "cell_type": "markdown",
   "metadata": {},
   "source": [
    "- We can modify values of array using index."
   ]
  },
  {
   "cell_type": "code",
   "execution_count": 32,
   "metadata": {},
   "outputs": [
    {
     "data": {
      "text/plain": [
       "array([[[   8,    1,    5,    9,    8],\n",
       "        [   9,    4,    3,    0,    3],\n",
       "        [   5,    0,    2,    3,    8],\n",
       "        [   1,    3,    3,    3,    7]],\n",
       "\n",
       "       [[   0,    1,    9,    9,    0],\n",
       "        [   4,    7,    3,    2,    7],\n",
       "        [   2,    0,    0,    4,    5],\n",
       "        [   5,    6,    8,    4,    1]],\n",
       "\n",
       "       [[   4,    9,    8,    1,    1],\n",
       "        [   7,    9,    9,    3,    6],\n",
       "        [   7,    2,    0, 1000,    5],\n",
       "        [   9,    4,    4,    6,    4]]])"
      ]
     },
     "execution_count": 32,
     "metadata": {},
     "output_type": "execute_result"
    }
   ],
   "source": [
    "x3[2,2,3] = 1000\n",
    "x3"
   ]
  },
  {
   "cell_type": "markdown",
   "metadata": {},
   "source": [
    "**NOTE: Unlike python list, the datatype of numpy array is fixed. Means if we try to input float value in int64 type array, it will truncate the float value to int, without any WARNING.** See Example:"
   ]
  },
  {
   "cell_type": "code",
   "execution_count": 33,
   "metadata": {},
   "outputs": [
    {
     "data": {
      "text/plain": [
       "array([[[   8,    1,    5,    9,    8],\n",
       "        [   9,    4,    3,    0,    3],\n",
       "        [   5,    0,    2,    3,    8],\n",
       "        [   1,    3,    3,    3,    7]],\n",
       "\n",
       "       [[   0,    1,    9,    9,    0],\n",
       "        [   4,    7,    3,    2,    7],\n",
       "        [   2,    0,    0,    4,    5],\n",
       "        [   5,    6,    8,    4,    1]],\n",
       "\n",
       "       [[   4,    9,    8,    1,    1],\n",
       "        [   7,    9,    9,    3,    6],\n",
       "        [   7,    2,    0, 1000,    5],\n",
       "        [   9,    4,    4,    6,    4]]])"
      ]
     },
     "execution_count": 33,
     "metadata": {},
     "output_type": "execute_result"
    }
   ],
   "source": [
    "x3[2,2,3] = 1000.123\n",
    "x3"
   ]
  },
  {
   "cell_type": "markdown",
   "metadata": {},
   "source": [
    "# 3. Array Slicing\n",
    "- Similar to python lists. \n",
    "```python \n",
    "        Syntax: x[start:stop:step]"
   ]
  },
  {
   "cell_type": "code",
   "execution_count": 34,
   "metadata": {},
   "outputs": [
    {
     "data": {
      "text/plain": [
       "array([0, 1, 2, 3, 4, 5, 6, 7, 8, 9])"
      ]
     },
     "execution_count": 34,
     "metadata": {},
     "output_type": "execute_result"
    }
   ],
   "source": [
    "x = np.arange(10)  # Consider single entry as 0 to stop with default step 1\n",
    "x"
   ]
  },
  {
   "cell_type": "code",
   "execution_count": 35,
   "metadata": {},
   "outputs": [],
   "source": [
    "# 1. 1D Subarray\n",
    "\n",
    "assert list(x[:5]) == [0, 1, 2, 3, 4]\n",
    "assert list(x[5:]) == [5, 6, 7, 8, 9]\n",
    "assert list(x[4:7]) == [4,5,6]\n",
    "assert list(x[1:9:2]) == [1,3,5,7]\n",
    "assert list(x[1::3]) == [1,4,7]\n"
   ]
  },
  {
   "cell_type": "code",
   "execution_count": 36,
   "metadata": {},
   "outputs": [
    {
     "name": "stdout",
     "output_type": "stream",
     "text": [
      "[7 6 5 4 3 2]\n",
      "[]\n"
     ]
    }
   ],
   "source": [
    "# 2. Negative Step values -- Reverses the array\n",
    "\n",
    "assert list(x[:-1]) == [0, 1, 2, 3, 4, 5, 6, 7, 8]\n",
    "assert list(x[-3:1:-2]) == [7,5,3] \n",
    "\n",
    "# Try to understand start and step\n",
    "print(x[-3:1:-1])\n",
    "print(x[-3:1:1])\n"
   ]
  },
  {
   "cell_type": "code",
   "execution_count": 37,
   "metadata": {},
   "outputs": [
    {
     "data": {
      "text/plain": [
       "array([[ 5,  0,  3, 11],\n",
       "       [ 3,  7,  9,  3],\n",
       "       [ 5,  2,  4,  7]])"
      ]
     },
     "execution_count": 37,
     "metadata": {},
     "output_type": "execute_result"
    }
   ],
   "source": [
    "# 3. Multidim Subarrays - Similar, just only separated bu commas\n",
    "\n",
    "np.random.seed(0)\n",
    "x2 = np.random.randint(12, size=(3,4))\n",
    "x2\n"
   ]
  },
  {
   "cell_type": "code",
   "execution_count": 38,
   "metadata": {},
   "outputs": [],
   "source": [
    "assert list(x2[0,:]) == [ 5,  0,  3, 11]  # First row\n",
    "assert list(x2[:, 2]) == [3,9,4]  # Third column\n",
    "assert np.all(x2[0:2, 1:3] == np.array([[0,3],[7,9]]))  # np.all compares if all elements of both sides equal"
   ]
  },
  {
   "cell_type": "markdown",
   "metadata": {},
   "source": [
    "### SubArray copies - Important\n",
    "- Similar to 1D array we can update multidim subarrays and thus main array will also be updated.\n",
    "- But if we just want change subarray and not the original array, we can create using: \n",
    "  \n",
    "  ``` python\n",
    "        subarray[i:j, m:n].copy()"
   ]
  },
  {
   "cell_type": "code",
   "execution_count": 39,
   "metadata": {},
   "outputs": [
    {
     "data": {
      "text/plain": [
       "array([[ 5,  0,  3, 11],\n",
       "       [ 3,  7,  9,  3],\n",
       "       [ 5,  2,  4,  7]])"
      ]
     },
     "execution_count": 39,
     "metadata": {},
     "output_type": "execute_result"
    }
   ],
   "source": [
    "x2"
   ]
  },
  {
   "cell_type": "code",
   "execution_count": 43,
   "metadata": {},
   "outputs": [
    {
     "data": {
      "text/plain": [
       "array([[1000,    0,    3,   11],\n",
       "       [   3,    7,    9,    3],\n",
       "       [   5,    2,    4,    7]])"
      ]
     },
     "execution_count": 43,
     "metadata": {},
     "output_type": "execute_result"
    }
   ],
   "source": [
    "# No-Copy views\n",
    "x2_sub = x2[:2, :2]  \n",
    "x2_sub[0,0] = 1000\n",
    "x2  # Original array changed through subarray"
   ]
  },
  {
   "cell_type": "code",
   "execution_count": 48,
   "metadata": {},
   "outputs": [
    {
     "data": {
      "text/plain": [
       "array([[ 5,  0,  3, 11],\n",
       "       [ 3,  7,  9,  3],\n",
       "       [ 5,  2,  4,  7]])"
      ]
     },
     "execution_count": 48,
     "metadata": {},
     "output_type": "execute_result"
    }
   ],
   "source": [
    "# If we don't want to change original array\n",
    "np.random.seed(0)\n",
    "x3 = np.random.randint(12, size=(3,4)) # Same x_2d\n",
    "x3_sub = x3[:2,:2].copy()\n",
    "x3_sub[0,0] = 1000  \n",
    "x3   # Didn't change original array"
   ]
  },
  {
   "cell_type": "markdown",
   "metadata": {},
   "source": [
    "# 4. Reshaping of Arrays\n",
    "\n",
    "## (a) .reshape()\n",
    "- We can change dimension of an array in numpy using\n",
    "\n",
    "``` python\n",
    "                    .reshape()\n",
    "```\n",
    "\n",
    "- Always match the size of array and reshape size before converting, otherwise get error.\n",
    "\n"
   ]
  },
  {
   "cell_type": "code",
   "execution_count": 59,
   "metadata": {},
   "outputs": [
    {
     "data": {
      "text/plain": [
       "array([1, 2, 3, 4, 5, 6, 7, 8, 9])"
      ]
     },
     "execution_count": 59,
     "metadata": {},
     "output_type": "execute_result"
    }
   ],
   "source": [
    "# Create a 1D array\n",
    "grid = np.arange(1,10)\n",
    "assert grid.ndim == 1\n",
    "\n",
    "grid"
   ]
  },
  {
   "cell_type": "code",
   "execution_count": 65,
   "metadata": {},
   "outputs": [
    {
     "data": {
      "text/plain": [
       "array([[1, 2, 3],\n",
       "       [4, 5, 6],\n",
       "       [7, 8, 9]])"
      ]
     },
     "execution_count": 65,
     "metadata": {},
     "output_type": "execute_result"
    }
   ],
   "source": [
    "# Reshape to 2D\n",
    "grid = grid.reshape(3,3)\n",
    "assert grid.ndim == 2\n",
    "\n",
    "grid"
   ]
  },
  {
   "cell_type": "code",
   "execution_count": 66,
   "metadata": {},
   "outputs": [
    {
     "data": {
      "text/plain": [
       "array([1, 2, 3, 4, 5, 6, 7, 8, 9])"
      ]
     },
     "execution_count": 66,
     "metadata": {},
     "output_type": "execute_result"
    }
   ],
   "source": [
    "# Change to 1D\n",
    "grid = grid.reshape(9)\n",
    "assert grid.ndim == 1\n",
    "\n",
    "grid"
   ]
  },
  {
   "cell_type": "markdown",
   "metadata": {},
   "source": [
    "## (b) newaxis keyword"
   ]
  },
  {
   "cell_type": "code",
   "execution_count": 68,
   "metadata": {},
   "outputs": [
    {
     "data": {
      "text/plain": [
       "array([[1, 2, 3]])"
      ]
     },
     "execution_count": 68,
     "metadata": {},
     "output_type": "execute_result"
    }
   ],
   "source": [
    "# 1. Create a row vector using reshape\n",
    "\n",
    "x= np.array([1,2,3])\n",
    "x.reshape(1,3) "
   ]
  },
  {
   "cell_type": "code",
   "execution_count": 69,
   "metadata": {},
   "outputs": [
    {
     "data": {
      "text/plain": [
       "array([[1, 2, 3]])"
      ]
     },
     "execution_count": 69,
     "metadata": {},
     "output_type": "execute_result"
    }
   ],
   "source": [
    "# Using newaxis\n",
    "x[np.newaxis, :]"
   ]
  },
  {
   "cell_type": "code",
   "execution_count": 70,
   "metadata": {},
   "outputs": [
    {
     "data": {
      "text/plain": [
       "array([[1],\n",
       "       [2],\n",
       "       [3]])"
      ]
     },
     "execution_count": 70,
     "metadata": {},
     "output_type": "execute_result"
    }
   ],
   "source": [
    "# 2. Create a column vector using reshape\n",
    "x.reshape(3,1)"
   ]
  },
  {
   "cell_type": "code",
   "execution_count": 71,
   "metadata": {},
   "outputs": [
    {
     "data": {
      "text/plain": [
       "array([[1],\n",
       "       [2],\n",
       "       [3]])"
      ]
     },
     "execution_count": 71,
     "metadata": {},
     "output_type": "execute_result"
    }
   ],
   "source": [
    "# Using newaxis\n",
    "x[:, np.newaxis]"
   ]
  },
  {
   "cell_type": "markdown",
   "metadata": {},
   "source": [
    "# 5. Array Concatenation\n",
    "``` python\n",
    "- np.concatenate\n",
    "- np.vstack\n",
    "- np.hstack\n",
    "```\n",
    "\n",
    "- For 1D array, concatenation will result in 1D array only\n",
    "- But For multidimensional array, concatenation can be performed in two ways:\n",
    "  1. row wise (i.e. vertical concatenation)\n",
    "  2. column  wise (i.e. horizontal concatenation)"
   ]
  },
  {
   "cell_type": "markdown",
   "metadata": {},
   "source": [
    "## (a) 1D Array \n",
    "``` python\n",
    "- np.concatenate"
   ]
  },
  {
   "cell_type": "code",
   "execution_count": 78,
   "metadata": {},
   "outputs": [
    {
     "data": {
      "text/plain": [
       "array([1, 2, 3, 4, 1, 2, 3, 4])"
      ]
     },
     "execution_count": 78,
     "metadata": {},
     "output_type": "execute_result"
    }
   ],
   "source": [
    "x = np.array([1,2,3,4])\n",
    "np.concatenate([x,x])"
   ]
  },
  {
   "cell_type": "markdown",
   "metadata": {},
   "source": [
    "## (b) 2D Array\n",
    "- Use concatenate\n",
    "- Use vstack (same as concatenate with axis 0)\n",
    "- Use hstack (same as concatenate with axis 1)"
   ]
  },
  {
   "cell_type": "code",
   "execution_count": 84,
   "metadata": {},
   "outputs": [
    {
     "data": {
      "text/plain": [
       "array([[1, 2],\n",
       "       [3, 4],\n",
       "       [1, 2],\n",
       "       [3, 4]])"
      ]
     },
     "execution_count": 84,
     "metadata": {},
     "output_type": "execute_result"
    }
   ],
   "source": [
    "x1 = np.array([[1,2], [3,4]])\n",
    "np.concatenate([x1,x1])  #default axis=0 i.e. vertical stitching\n"
   ]
  },
  {
   "cell_type": "code",
   "execution_count": 83,
   "metadata": {},
   "outputs": [
    {
     "data": {
      "text/plain": [
       "array([[1, 2, 1, 2],\n",
       "       [3, 4, 3, 4]])"
      ]
     },
     "execution_count": 83,
     "metadata": {},
     "output_type": "execute_result"
    }
   ],
   "source": [
    "np.concatenate([x1,x1], axis=1)  # Horizontal stitching"
   ]
  },
  {
   "cell_type": "code",
   "execution_count": 87,
   "metadata": {},
   "outputs": [
    {
     "data": {
      "text/plain": [
       "array([[1, 2],\n",
       "       [3, 4],\n",
       "       [1, 2],\n",
       "       [3, 4]])"
      ]
     },
     "execution_count": 87,
     "metadata": {},
     "output_type": "execute_result"
    }
   ],
   "source": [
    "np.vstack([x1,x1])"
   ]
  },
  {
   "cell_type": "code",
   "execution_count": 88,
   "metadata": {},
   "outputs": [
    {
     "data": {
      "text/plain": [
       "array([[1, 2, 1, 2],\n",
       "       [3, 4, 3, 4]])"
      ]
     },
     "execution_count": 88,
     "metadata": {},
     "output_type": "execute_result"
    }
   ],
   "source": [
    "np.hstack([x1,x1])"
   ]
  },
  {
   "cell_type": "markdown",
   "metadata": {},
   "source": [
    "# 6. Array Splitting\n",
    "\n",
    "``` python\n",
    "- np.split\n",
    "- np.vsplit\n",
    "- np.hsplit\n",
    "- np.dsplit"
   ]
  },
  {
   "cell_type": "markdown",
   "metadata": {},
   "source": [
    "## (a) 1D array\n",
    "``` python\n",
    "- np.split"
   ]
  },
  {
   "cell_type": "code",
   "execution_count": 104,
   "metadata": {},
   "outputs": [],
   "source": [
    "# 1. numpy.split(ary, indices_or_sections, axis=0)\n",
    "\n",
    "np.random.seed(0)\n",
    "x = np.array([5, 0, 3, 3, 7, 9, 3, 5, 2, 4])\n",
    "x1, x2, x3 = np.split(x,[2,6])              # Split at index 2 and 6\n",
    "assert list(x1) == [5,0]\n",
    "assert list(x2) == [3,3,7,9]\n",
    "assert list(x3) == [3,5,2,4]"
   ]
  },
  {
   "cell_type": "markdown",
   "metadata": {},
   "source": [
    "# 2. Multidimensional Array\n",
    "\n",
    "- vsplit is split with axis=0.\n",
    "- hsplit is split with axis=1.\n",
    "- dpslit is to split 3D array on third axis.\n",
    "``` python\n",
    "- np.vsplit\n",
    "- np.hsplit\n",
    "- no.dsplit"
   ]
  },
  {
   "cell_type": "code",
   "execution_count": 113,
   "metadata": {},
   "outputs": [
    {
     "data": {
      "text/plain": [
       "array([[ 5,  6,  7,  8],\n",
       "       [ 9, 10, 11, 12],\n",
       "       [13, 14, 15, 16],\n",
       "       [17, 18, 19, 20]])"
      ]
     },
     "execution_count": 113,
     "metadata": {},
     "output_type": "execute_result"
    }
   ],
   "source": [
    "grid = np.arange(5,21).reshape(4,4)\n",
    "grid\n"
   ]
  },
  {
   "cell_type": "code",
   "execution_count": 114,
   "metadata": {},
   "outputs": [
    {
     "data": {
      "text/plain": [
       "[array([[ 5,  6,  7,  8],\n",
       "        [ 9, 10, 11, 12],\n",
       "        [13, 14, 15, 16]]),\n",
       " array([[17, 18, 19, 20]])]"
      ]
     },
     "execution_count": 114,
     "metadata": {},
     "output_type": "execute_result"
    }
   ],
   "source": [
    "np.vsplit(grid, [3])  # Split at row index 3"
   ]
  },
  {
   "cell_type": "code",
   "execution_count": 118,
   "metadata": {},
   "outputs": [
    {
     "data": {
      "text/plain": [
       "[array([[ 5,  6,  7],\n",
       "        [ 9, 10, 11],\n",
       "        [13, 14, 15],\n",
       "        [17, 18, 19]]),\n",
       " array([[ 8],\n",
       "        [12],\n",
       "        [16],\n",
       "        [20]])]"
      ]
     },
     "execution_count": 118,
     "metadata": {},
     "output_type": "execute_result"
    }
   ],
   "source": [
    "np.hsplit(grid,[3])  # Split at column index 3"
   ]
  }
 ],
 "metadata": {
  "kernelspec": {
   "display_name": "libraries",
   "language": "python",
   "name": "python3"
  },
  "language_info": {
   "codemirror_mode": {
    "name": "ipython",
    "version": 3
   },
   "file_extension": ".py",
   "mimetype": "text/x-python",
   "name": "python",
   "nbconvert_exporter": "python",
   "pygments_lexer": "ipython3",
   "version": "3.12.5"
  }
 },
 "nbformat": 4,
 "nbformat_minor": 2
}
