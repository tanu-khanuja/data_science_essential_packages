{
 "cells": [
  {
   "cell_type": "markdown",
   "metadata": {},
   "source": [
    "# Basics of Numpy arrays\n",
    "## 1. Create arrays\n",
    "1. np.random.randint()\n",
    "2. np.arange()\n",
    "3. np.random.random()\n",
    "\n",
    "## 2. Array attributes\n",
    "1. .ndim\n",
    "2. .shape\n",
    "3. .size\n",
    "4. dtype\n",
    "5. .itemsize\n",
    "6. .nbytes"
   ]
  }
 ],
 "metadata": {
  "language_info": {
   "name": "python"
  }
 },
 "nbformat": 4,
 "nbformat_minor": 2
}
