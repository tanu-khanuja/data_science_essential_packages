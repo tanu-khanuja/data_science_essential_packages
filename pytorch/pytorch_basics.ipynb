{
 "cells": [
  {
   "cell_type": "markdown",
   "metadata": {},
   "source": [
    "# PyTorch Basics\n",
    "\n",
    "### What is PyTorch?\n",
    "- A **tool for deep learning** made by Facebook in 2017.\n",
    "- **Based on** two older tools:\n",
    "  - **Torch** (2002): Early deep learning library in Lua.\n",
    "  - **Chainer** (2015): Made in Japan, allowed flexible model building.\n",
    "\n",
    "### Key Features\n",
    "- **Built-in tools** for handling text, images, and audio: `torchtext`, `torchvision`, `torchaudio`.\n",
    "- **Used by big companies**: Twitter, Uber, Salesforce, NVIDIA.\n",
    "- **Easy Transfer Learning**: Pre-trained models like ResNet available for quick use.\n",
    "\n",
    "### PyTorch vs. TensorFlow\n",
    "- **PyTorch**:\n",
    "  - Uses **dynamic, step-by-step code** (easier to read and debug).\n",
    "  - Flexible for making changes as you go.\n",
    "- **TensorFlow**:\n",
    "  - Uses **static graphs** (more complex setup, harder to change).\n",
    "  - Newer versions have **eager execution**, making it more PyTorch-like, but learning resources are limited.\n",
    "\n",
    "### Why PyTorch is Popular\n",
    "- **In Research**: Many research papers mention PyTorch because it’s flexible and easy for experiments.\n",
    "- **In Production**: Since version 1.0, it's stable and ready for real-world projects.\n",
    "\n",
    "### PyTorch vs. Keras\n",
    "- **Keras**:\n",
    "  - Simple, high-level library that makes model building easy.\n",
    "  - Built to work mainly with TensorFlow.\n",
    "- **PyTorch**:\n",
    "  - More **hands-on** than Keras (you write some routines yourself).\n",
    "  - Flexible and **Python-friendly** for custom model building.\n"
   ]
  }
 ],
 "metadata": {
  "language_info": {
   "name": "python"
  }
 },
 "nbformat": 4,
 "nbformat_minor": 2
}
