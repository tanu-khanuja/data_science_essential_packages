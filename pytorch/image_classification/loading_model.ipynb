{
 "cells": [
  {
   "cell_type": "code",
   "execution_count": 3,
   "metadata": {},
   "outputs": [],
   "source": [
    "import torch\n",
    "import torch.nn as nn"
   ]
  },
  {
   "cell_type": "code",
   "execution_count": null,
   "metadata": {},
   "outputs": [],
   "source": [
    "# Create the model structure\n",
    "\n",
    "class SimplenNet(nn.Module):\n",
    "    def __init__(self):\n",
    "        super(SimplenNet, self).__init__()\n",
    "        self.fc1 = nn.Linear(in_features=12288, out_features=84, bias=True)\n",
    "        self.fc2 = nn.Linear(in_features=84, out_features=50, bias=True)\n",
    "        self.fc3 = nn.Linear(in_features=50, out_features=2, bias=True)\n",
    "\n",
    "    def forward()"
   ]
  }
 ],
 "metadata": {
  "kernelspec": {
   "display_name": "libraries",
   "language": "python",
   "name": "python3"
  },
  "language_info": {
   "codemirror_mode": {
    "name": "ipython",
    "version": 3
   },
   "file_extension": ".py",
   "mimetype": "text/x-python",
   "name": "python",
   "nbconvert_exporter": "python",
   "pygments_lexer": "ipython3",
   "version": "3.12.5"
  }
 },
 "nbformat": 4,
 "nbformat_minor": 2
}
