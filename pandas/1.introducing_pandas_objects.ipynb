{
 "cells": [
  {
   "cell_type": "markdown",
   "id": "be75c813",
   "metadata": {},
   "source": [
    "# 1. Series object\n",
    "\n",
    "- 1-D array.\n",
    "- Data is indexed in this.\n",
    "- Can be easily created using array /list.\n",
    "- Index and Values can easily be accessed here.\n",
    "- Pandas series is more flexible than a Numpy array : **In Pandas we can use labels also to index a series but in numpy we cannot.**"
   ]
  },
  {
   "cell_type": "code",
   "execution_count": 2,
   "id": "27be85a0",
   "metadata": {},
   "outputs": [
    {
     "data": {
      "text/plain": [
       "0    0.25\n",
       "1    0.50\n",
       "2    0.75\n",
       "3    1.00\n",
       "dtype: float64"
      ]
     },
     "execution_count": 2,
     "metadata": {},
     "output_type": "execute_result"
    }
   ],
   "source": [
    "import pandas as pd\n",
    "\n",
    "# Series Object\n",
    "\n",
    "data = pd.Series([0.25, 0.5, 0.75, 1.0])\n",
    "data"
   ]
  },
  {
   "cell_type": "code",
   "execution_count": 3,
   "id": "694e71b3",
   "metadata": {},
   "outputs": [
    {
     "data": {
      "text/plain": [
       "array([0.25, 0.5 , 0.75, 1.  ])"
      ]
     },
     "execution_count": 3,
     "metadata": {},
     "output_type": "execute_result"
    }
   ],
   "source": [
    "# Access series attributes\n",
    "data.values"
   ]
  },
  {
   "cell_type": "code",
   "execution_count": 4,
   "id": "b2d0a9b6",
   "metadata": {},
   "outputs": [
    {
     "data": {
      "text/plain": [
       "RangeIndex(start=0, stop=4, step=1)"
      ]
     },
     "execution_count": 4,
     "metadata": {},
     "output_type": "execute_result"
    }
   ],
   "source": [
    "data.index"
   ]
  },
  {
   "cell_type": "code",
   "execution_count": 5,
   "id": "8d72f3ac-8e9e-407e-b900-7ea5b8a9ce71",
   "metadata": {},
   "outputs": [
    {
     "data": {
      "text/plain": [
       "np.float64(0.5)"
      ]
     },
     "execution_count": 5,
     "metadata": {},
     "output_type": "execute_result"
    }
   ],
   "source": [
    "data[1]  # Access value using index"
   ]
  },
  {
   "cell_type": "code",
   "execution_count": 6,
   "id": "db4cff8a-5c5e-4daa-83b5-38df10184d7f",
   "metadata": {},
   "outputs": [
    {
     "data": {
      "text/plain": [
       "1    0.50\n",
       "2    0.75\n",
       "dtype: float64"
      ]
     },
     "execution_count": 6,
     "metadata": {},
     "output_type": "execute_result"
    }
   ],
   "source": [
    "data[1:3]  # Access a range of values using index range"
   ]
  },
  {
   "cell_type": "markdown",
   "id": "40121918-a858-46fa-9faf-09b79796d026",
   "metadata": {},
   "source": [
    "## (a) As Generalized NumPy array\n",
    "- In numpy, indexing is implicit which is an integer index used to access values of array.\n",
    "- In pandas we explicitely define index which is associated to values.\n",
    "- Thus, pandas give more flexibility.\n",
    "- Even we can define string also as an index in pandas."
   ]
  },
  {
   "cell_type": "code",
   "execution_count": 7,
   "id": "a2469b0b-da81-4aa4-9874-3c9f05907f6b",
   "metadata": {},
   "outputs": [
    {
     "data": {
      "text/plain": [
       "a    0.25\n",
       "b    0.50\n",
       "c    0.75\n",
       "d    1.00\n",
       "dtype: float64"
      ]
     },
     "execution_count": 7,
     "metadata": {},
     "output_type": "execute_result"
    }
   ],
   "source": [
    "# Example of explicit indexing in pandas\n",
    "data = pd.Series([0.25, 0.5, 0.75, 1.0], index=['a', 'b', 'c', 'd'])\n",
    "data"
   ]
  },
  {
   "cell_type": "code",
   "execution_count": 8,
   "id": "287cacfd-dc75-49c1-bd8b-cea6cbbe7f2f",
   "metadata": {},
   "outputs": [
    {
     "data": {
      "text/plain": [
       "np.float64(0.5)"
      ]
     },
     "execution_count": 8,
     "metadata": {},
     "output_type": "execute_result"
    }
   ],
   "source": [
    "# Access values\n",
    "data['b']"
   ]
  },
  {
   "cell_type": "markdown",
   "id": "010648ab-3285-4b6d-880a-d438b47141d3",
   "metadata": {},
   "source": [
    "We can even use non sequential indexing. For example,"
   ]
  },
  {
   "cell_type": "code",
   "execution_count": 9,
   "id": "0708975a-8d0e-4b58-8709-94d11bf13c17",
   "metadata": {},
   "outputs": [
    {
     "data": {
      "text/plain": [
       "2    0.25\n",
       "5    0.50\n",
       "1    0.75\n",
       "3    1.00\n",
       "dtype: float64"
      ]
     },
     "execution_count": 9,
     "metadata": {},
     "output_type": "execute_result"
    }
   ],
   "source": [
    "data = pd.Series([0.25, 0.5, 0.75, 1.0], index = [2, 5, 1,3])\n",
    "data"
   ]
  },
  {
   "cell_type": "code",
   "execution_count": 10,
   "id": "68bab483-3796-4e2d-b825-1ab93b58012c",
   "metadata": {},
   "outputs": [
    {
     "data": {
      "text/plain": [
       "np.float64(0.75)"
      ]
     },
     "execution_count": 10,
     "metadata": {},
     "output_type": "execute_result"
    }
   ],
   "source": [
    "# Access values using index\n",
    "data[1]"
   ]
  },
  {
   "cell_type": "markdown",
   "id": "30356126-6740-406e-8eb0-e6be9a66243f",
   "metadata": {},
   "source": [
    "## (b) As Specialized Dictionary\n",
    "\n",
    "- In python we have dict with keys:values which are not typed (i.e. one dict can have heterogeous keys/value types)"
   ]
  },
  {
   "cell_type": "code",
   "execution_count": 11,
   "id": "0e9ad006-5706-435b-b589-6be6d29e1c34",
   "metadata": {},
   "outputs": [],
   "source": [
    "# Example\n",
    "my_dict1 = {1: 'apple', 'two': 2, (3, 4): [5, 6]}  # different key data types\n",
    "my_dict2 = {'a': 1, 'b': 'hello', 'c': [1, 2, 3]}  # different value data types"
   ]
  },
  {
   "cell_type": "markdown",
   "id": "3bb456a7-da86-47da-b126-c524b0f46817",
   "metadata": {},
   "source": [
    "- But in pandas series, the series is like dictionary with typed keys and typed values-- Means the keys types and values types are homogeneous.\n",
    "- The consistent datatypes make Series more efficient in processing, especially in large datasets.\n",
    "- Same is the case with numpy array vs python list - Numpy array have consistent datatypes, thus more efficient than Python lists.\n",
    "\n",
    "\n",
    "- We can make a pandas series directly from a dict:"
   ]
  },
  {
   "cell_type": "code",
   "execution_count": 12,
   "id": "ce8c6ac1-34ca-4ba9-8c9a-7cb939f7a416",
   "metadata": {},
   "outputs": [
    {
     "data": {
      "text/plain": [
       "California    38332521\n",
       "Texas         26448193\n",
       "New York      19651127\n",
       "Florida       19552860\n",
       "Illinois      12882135\n",
       "dtype: int64"
      ]
     },
     "execution_count": 12,
     "metadata": {},
     "output_type": "execute_result"
    }
   ],
   "source": [
    "population_dict = {'California': 38332521, 'Texas': 26448193, 'New York': 19651127, 'Florida': 19552860, 'Illinois': 12882135}\n",
    "population = pd.Series(population_dict)\n",
    "population  # int type series"
   ]
  },
  {
   "cell_type": "markdown",
   "id": "14b04e3c-5f38-4080-bd1e-e99eb4b555d1",
   "metadata": {},
   "source": [
    "- If our dict has heterogenous data, then series type will be 'object' type.\n",
    "- Since the 'object' dtype is not as optimized as more specific dtypes like 'int64' or 'float64', operations on such a Series may be slower and less memory-efficient."
   ]
  },
  {
   "cell_type": "code",
   "execution_count": 13,
   "id": "29a58f6c-9c87-41b1-b16a-6f9bbc3e871a",
   "metadata": {},
   "outputs": [
    {
     "data": {
      "text/plain": [
       "California           a\n",
       "Texas         26448193\n",
       "New York             d\n",
       "Florida       19552860\n",
       "Illinois      12882135\n",
       "dtype: object"
      ]
     },
     "execution_count": 13,
     "metadata": {},
     "output_type": "execute_result"
    }
   ],
   "source": [
    "# Example of object dtype\n",
    "population_dict = {'California': 'a', 'Texas': 26448193, 'New York':'d', 'Florida': 19552860, 'Illinois': 12882135}\n",
    "population = pd.Series(population_dict)\n",
    "population  # object dtype"
   ]
  },
  {
   "cell_type": "markdown",
   "id": "269f03c2-c6a9-4710-9a75-61bbec202ad6",
   "metadata": {},
   "source": [
    "- How this Series is more flexible than dictionary? -- We can access range of values in one go:"
   ]
  },
  {
   "cell_type": "code",
   "execution_count": 14,
   "id": "bc5118c6-b7e3-4f0c-a540-1ad17b4425a9",
   "metadata": {},
   "outputs": [
    {
     "data": {
      "text/plain": [
       "Texas       26448193\n",
       "New York           d\n",
       "Florida     19552860\n",
       "dtype: object"
      ]
     },
     "execution_count": 14,
     "metadata": {},
     "output_type": "execute_result"
    }
   ],
   "source": [
    "population['Texas':'Florida']"
   ]
  },
  {
   "cell_type": "markdown",
   "id": "5991483a-4446-464a-8fb5-6363ffbead69",
   "metadata": {},
   "source": [
    "## (c) Constructing a Series object\n",
    "`pd.Series(data, index=index)`\n",
    "\n",
    "- data can be a list, numpy array, dict, or scalar.\n",
    "- index is optional."
   ]
  },
  {
   "cell_type": "code",
   "execution_count": 15,
   "id": "a98b6c8e-b7d3-428e-b273-d3cddfa57f3b",
   "metadata": {},
   "outputs": [
    {
     "data": {
      "text/plain": [
       "0    9\n",
       "1    2\n",
       "2    3\n",
       "dtype: int64"
      ]
     },
     "execution_count": 15,
     "metadata": {},
     "output_type": "execute_result"
    }
   ],
   "source": [
    "# From list\n",
    "pd.Series([9,2,3])"
   ]
  },
  {
   "cell_type": "code",
   "execution_count": 16,
   "id": "8660a1f7-22e1-41d1-a458-fba990ad2852",
   "metadata": {},
   "outputs": [
    {
     "data": {
      "text/plain": [
       "1    5\n",
       "2    5\n",
       "3    5\n",
       "4    5\n",
       "9    5\n",
       "dtype: int64"
      ]
     },
     "execution_count": 16,
     "metadata": {},
     "output_type": "execute_result"
    }
   ],
   "source": [
    "# From scalar\n",
    "pd.Series(5, index=[1,2,3,4,9])"
   ]
  },
  {
   "cell_type": "code",
   "execution_count": 17,
   "id": "efddbbcf-a240-4308-ab62-5dafc83921e4",
   "metadata": {},
   "outputs": [
    {
     "data": {
      "text/plain": [
       "2    a\n",
       "1    b\n",
       "5    k\n",
       "dtype: object"
      ]
     },
     "execution_count": 17,
     "metadata": {},
     "output_type": "execute_result"
    }
   ],
   "source": [
    "# From Dict\n",
    "pd.Series({2:'a', 1:'b', 5: 'k'})"
   ]
  },
  {
   "cell_type": "markdown",
   "id": "14fcdca6",
   "metadata": {},
   "source": [
    "- Here dtype is object because values are string type.\n",
    "- In pandas, when a Series has string values, it assigns the data type object to represent them because there is no specific string dtype in pandas for Series; it uses the more general object dtype for heterogeneous or string data.\n",
    "- To provide string type, explicitly specify."
   ]
  },
  {
   "cell_type": "code",
   "execution_count": 18,
   "id": "81338db4",
   "metadata": {},
   "outputs": [
    {
     "data": {
      "text/plain": [
       "2    a\n",
       "1    b\n",
       "5    k\n",
       "dtype: string"
      ]
     },
     "execution_count": 18,
     "metadata": {},
     "output_type": "execute_result"
    }
   ],
   "source": [
    "pd.Series({2:'a', 1:'b', 5:'k'}, dtype='string')"
   ]
  },
  {
   "cell_type": "code",
   "execution_count": 47,
   "id": "bb2e4532-c5de-4c22-bc67-d1d15e7aef17",
   "metadata": {},
   "outputs": [
    {
     "data": {
      "text/plain": [
       "1      b\n",
       "5      k\n",
       "8    NaN\n",
       "dtype: object"
      ]
     },
     "execution_count": 47,
     "metadata": {},
     "output_type": "execute_result"
    }
   ],
   "source": [
    "# We can populate a series with only explicitly given index\n",
    "pd.Series({2:'a', 1:'b', 5: 'k'}, index=[1,5, 8])"
   ]
  },
  {
   "cell_type": "markdown",
   "id": "034f2e47-46e5-4684-9786-263f1f8c0660",
   "metadata": {},
   "source": [
    "# 2. Dataframe object\n",
    "- This is another fundamental structure in pandas.\n",
    "- Similar to Series object, we can see Dataframes also as generalization of Numpy array and specialization of python Dictionary."
   ]
  },
  {
   "cell_type": "markdown",
   "id": "811aec4d-9c59-47b0-8255-08b59a75fbb3",
   "metadata": {},
   "source": [
    "## (a) As Generalized NumPy array\n",
    "\n",
    "- Generalization of array means, in DataFrame you can organize multiple arrays/Series objects together, in columns.\n",
    "  \n",
    "- If series is analog of 1D array, then DataFrame is analog of 2D array.\n",
    "  \n",
    "- 2D array of flexible 'row indices' and 'column names'-- flexible means, index of rows and names of columns can be anything/customizable. It can have diverse data types. We can easily perform column/row reordering/add/remove operation etc.\n",
    "  \n",
    "- We can imagine Dataframe as aligned sequence of series obejcts-- Aligned means they have same index.(Assume each series as one column)\n",
    "  \n",
    "- Let's create a dataframe using two series data:"
   ]
  },
  {
   "cell_type": "code",
   "execution_count": 48,
   "id": "913dd99a-df31-456d-9dea-80622ff0464a",
   "metadata": {},
   "outputs": [
    {
     "data": {
      "text/html": [
       "<div>\n",
       "<style scoped>\n",
       "    .dataframe tbody tr th:only-of-type {\n",
       "        vertical-align: middle;\n",
       "    }\n",
       "\n",
       "    .dataframe tbody tr th {\n",
       "        vertical-align: top;\n",
       "    }\n",
       "\n",
       "    .dataframe thead th {\n",
       "        text-align: right;\n",
       "    }\n",
       "</style>\n",
       "<table border=\"1\" class=\"dataframe\">\n",
       "  <thead>\n",
       "    <tr style=\"text-align: right;\">\n",
       "      <th></th>\n",
       "      <th>population</th>\n",
       "      <th>area</th>\n",
       "    </tr>\n",
       "  </thead>\n",
       "  <tbody>\n",
       "    <tr>\n",
       "      <th>California</th>\n",
       "      <td>38332521</td>\n",
       "      <td>423967</td>\n",
       "    </tr>\n",
       "    <tr>\n",
       "      <th>Texas</th>\n",
       "      <td>26448193</td>\n",
       "      <td>695662</td>\n",
       "    </tr>\n",
       "    <tr>\n",
       "      <th>New York</th>\n",
       "      <td>19651127</td>\n",
       "      <td>141297</td>\n",
       "    </tr>\n",
       "    <tr>\n",
       "      <th>Florida</th>\n",
       "      <td>19552860</td>\n",
       "      <td>170312</td>\n",
       "    </tr>\n",
       "    <tr>\n",
       "      <th>Illinois</th>\n",
       "      <td>12882135</td>\n",
       "      <td>149995</td>\n",
       "    </tr>\n",
       "  </tbody>\n",
       "</table>\n",
       "</div>"
      ],
      "text/plain": [
       "            population    area\n",
       "California    38332521  423967\n",
       "Texas         26448193  695662\n",
       "New York      19651127  141297\n",
       "Florida       19552860  170312\n",
       "Illinois      12882135  149995"
      ]
     },
     "execution_count": 48,
     "metadata": {},
     "output_type": "execute_result"
    }
   ],
   "source": [
    "# Population series\n",
    "population = pd.Series({'California': 38332521, 'Texas': 26448193, 'New York': 19651127, 'Florida': 19552860, 'Illinois': 12882135})\n",
    "\n",
    "# Area series\n",
    "area = pd.Series({'California': 423967, 'Texas': 695662, 'New York': 141297, 'Florida': 170312, 'Illinois': 149995})\n",
    "\n",
    "# Create states df\n",
    "states = pd.DataFrame({'population':population, 'area': area})  # {column_name : series}\n",
    "states"
   ]
  },
  {
   "cell_type": "markdown",
   "id": "802abee4-14d5-4ec3-adbc-973d4419b498",
   "metadata": {},
   "source": [
    "## (b) DataFrame as Specialized Dictionary"
   ]
  },
  {
   "cell_type": "markdown",
   "id": "90217abf-d22f-4736-a772-4bebfeba12d1",
   "metadata": {},
   "source": [
    "- In dict we map key with a value.\n",
    "- In DF we map a column name with a series data."
   ]
  },
  {
   "cell_type": "code",
   "execution_count": 49,
   "id": "b53c869d-5884-4751-903e-83dce88b2630",
   "metadata": {},
   "outputs": [
    {
     "data": {
      "text/plain": [
       "California    38332521\n",
       "Texas         26448193\n",
       "New York      19651127\n",
       "Florida       19552860\n",
       "Illinois      12882135\n",
       "Name: population, dtype: int64"
      ]
     },
     "execution_count": 49,
     "metadata": {},
     "output_type": "execute_result"
    }
   ],
   "source": [
    "states['population']"
   ]
  },
  {
   "cell_type": "markdown",
   "id": "87547fee-57de-47f0-9bf9-69410c3f8d99",
   "metadata": {},
   "source": [
    "**Pay attention to remove confusion**\n",
    "- In a 2D Numpy array each array forms a row, thus accessing data[0] will give first row.\n",
    "- But in DF each Series forms a column, thus accessing the data['column_name'] will give first column."
   ]
  },
  {
   "cell_type": "code",
   "execution_count": 50,
   "id": "e2e2b52d-647d-4dd7-86fa-3ff31dc015c4",
   "metadata": {},
   "outputs": [
    {
     "data": {
      "text/plain": [
       "California    38332521\n",
       "Texas         26448193\n",
       "New York      19651127\n",
       "Florida       19552860\n",
       "Illinois      12882135\n",
       "Name: population, dtype: int64"
      ]
     },
     "execution_count": 50,
     "metadata": {},
     "output_type": "execute_result"
    }
   ],
   "source": [
    "states['population']  # access population column"
   ]
  },
  {
   "cell_type": "code",
   "execution_count": 51,
   "id": "1cb4662f-4de6-4e0b-8d88-2a92ec447489",
   "metadata": {},
   "outputs": [
    {
     "data": {
      "text/plain": [
       "np.int64(26448193)"
      ]
     },
     "execution_count": 51,
     "metadata": {},
     "output_type": "execute_result"
    }
   ],
   "source": [
    "states['population']['Texas']  # Access 'population' column the 'Texas' row "
   ]
  },
  {
   "cell_type": "markdown",
   "id": "59d2be66-586e-42ca-8c30-7ed8f13b1eea",
   "metadata": {},
   "source": [
    "## (c) Constructing DataFrame object\n",
    "- Can be constructed using Series object, List of dict, Dict of Series objects, 2D NumPy array, NumPy structures array."
   ]
  },
  {
   "cell_type": "code",
   "execution_count": 52,
   "id": "17935ee0-01bb-4a02-b9fe-e16738d3fec6",
   "metadata": {},
   "outputs": [
    {
     "data": {
      "text/html": [
       "<div>\n",
       "<style scoped>\n",
       "    .dataframe tbody tr th:only-of-type {\n",
       "        vertical-align: middle;\n",
       "    }\n",
       "\n",
       "    .dataframe tbody tr th {\n",
       "        vertical-align: top;\n",
       "    }\n",
       "\n",
       "    .dataframe thead th {\n",
       "        text-align: right;\n",
       "    }\n",
       "</style>\n",
       "<table border=\"1\" class=\"dataframe\">\n",
       "  <thead>\n",
       "    <tr style=\"text-align: right;\">\n",
       "      <th></th>\n",
       "      <th>numbers</th>\n",
       "    </tr>\n",
       "  </thead>\n",
       "  <tbody>\n",
       "    <tr>\n",
       "      <th>first</th>\n",
       "      <td>3</td>\n",
       "    </tr>\n",
       "    <tr>\n",
       "      <th>second</th>\n",
       "      <td>4</td>\n",
       "    </tr>\n",
       "    <tr>\n",
       "      <th>third</th>\n",
       "      <td>5</td>\n",
       "    </tr>\n",
       "    <tr>\n",
       "      <th>fourth</th>\n",
       "      <td>1</td>\n",
       "    </tr>\n",
       "  </tbody>\n",
       "</table>\n",
       "</div>"
      ],
      "text/plain": [
       "        numbers\n",
       "first         3\n",
       "second        4\n",
       "third         5\n",
       "fourth        1"
      ]
     },
     "execution_count": 52,
     "metadata": {},
     "output_type": "execute_result"
    }
   ],
   "source": [
    "# Using Series object\n",
    "pd.DataFrame([3,4,5,1], index=['first', 'second', 'third', 'fourth'], columns=['numbers']) # Column content, rows names, and column name"
   ]
  },
  {
   "cell_type": "code",
   "execution_count": 20,
   "id": "96141332",
   "metadata": {},
   "outputs": [
    {
     "data": {
      "text/html": [
       "<div>\n",
       "<style scoped>\n",
       "    .dataframe tbody tr th:only-of-type {\n",
       "        vertical-align: middle;\n",
       "    }\n",
       "\n",
       "    .dataframe tbody tr th {\n",
       "        vertical-align: top;\n",
       "    }\n",
       "\n",
       "    .dataframe thead th {\n",
       "        text-align: right;\n",
       "    }\n",
       "</style>\n",
       "<table border=\"1\" class=\"dataframe\">\n",
       "  <thead>\n",
       "    <tr style=\"text-align: right;\">\n",
       "      <th></th>\n",
       "      <th>first_col</th>\n",
       "      <th>second_col</th>\n",
       "    </tr>\n",
       "  </thead>\n",
       "  <tbody>\n",
       "    <tr>\n",
       "      <th>first</th>\n",
       "      <td>1</td>\n",
       "      <td>2</td>\n",
       "    </tr>\n",
       "    <tr>\n",
       "      <th>second</th>\n",
       "      <td>3</td>\n",
       "      <td>4</td>\n",
       "    </tr>\n",
       "  </tbody>\n",
       "</table>\n",
       "</div>"
      ],
      "text/plain": [
       "        first_col  second_col\n",
       "first           1           2\n",
       "second          3           4"
      ]
     },
     "execution_count": 20,
     "metadata": {},
     "output_type": "execute_result"
    }
   ],
   "source": [
    "pd.DataFrame([[1,2],[3,4]], index= ['first', 'second'], columns=['first_col', 'second_col'])"
   ]
  },
  {
   "cell_type": "code",
   "execution_count": 53,
   "id": "a0dfb123-738e-45fc-a8e9-8ff2ad4bb327",
   "metadata": {},
   "outputs": [
    {
     "data": {
      "text/html": [
       "<div>\n",
       "<style scoped>\n",
       "    .dataframe tbody tr th:only-of-type {\n",
       "        vertical-align: middle;\n",
       "    }\n",
       "\n",
       "    .dataframe tbody tr th {\n",
       "        vertical-align: top;\n",
       "    }\n",
       "\n",
       "    .dataframe thead th {\n",
       "        text-align: right;\n",
       "    }\n",
       "</style>\n",
       "<table border=\"1\" class=\"dataframe\">\n",
       "  <thead>\n",
       "    <tr style=\"text-align: right;\">\n",
       "      <th></th>\n",
       "      <th>a</th>\n",
       "      <th>b</th>\n",
       "      <th>c</th>\n",
       "    </tr>\n",
       "  </thead>\n",
       "  <tbody>\n",
       "    <tr>\n",
       "      <th>0</th>\n",
       "      <td>1</td>\n",
       "      <td>2</td>\n",
       "      <td>3</td>\n",
       "    </tr>\n",
       "    <tr>\n",
       "      <th>1</th>\n",
       "      <td>2</td>\n",
       "      <td>4</td>\n",
       "      <td>6</td>\n",
       "    </tr>\n",
       "    <tr>\n",
       "      <th>2</th>\n",
       "      <td>3</td>\n",
       "      <td>6</td>\n",
       "      <td>9</td>\n",
       "    </tr>\n",
       "    <tr>\n",
       "      <th>3</th>\n",
       "      <td>4</td>\n",
       "      <td>8</td>\n",
       "      <td>12</td>\n",
       "    </tr>\n",
       "  </tbody>\n",
       "</table>\n",
       "</div>"
      ],
      "text/plain": [
       "   a  b   c\n",
       "0  1  2   3\n",
       "1  2  4   6\n",
       "2  3  6   9\n",
       "3  4  8  12"
      ]
     },
     "execution_count": 53,
     "metadata": {},
     "output_type": "execute_result"
    }
   ],
   "source": [
    "# List of Dicts\n",
    "pd.DataFrame([{'a':i, 'b': 2*i, 'c': 3*i} for i in range(1,5)])"
   ]
  },
  {
   "cell_type": "code",
   "execution_count": 54,
   "id": "35aee222-7e2d-4eb4-8f2c-b4a6d5d86492",
   "metadata": {},
   "outputs": [
    {
     "data": {
      "text/html": [
       "<div>\n",
       "<style scoped>\n",
       "    .dataframe tbody tr th:only-of-type {\n",
       "        vertical-align: middle;\n",
       "    }\n",
       "\n",
       "    .dataframe tbody tr th {\n",
       "        vertical-align: top;\n",
       "    }\n",
       "\n",
       "    .dataframe thead th {\n",
       "        text-align: right;\n",
       "    }\n",
       "</style>\n",
       "<table border=\"1\" class=\"dataframe\">\n",
       "  <thead>\n",
       "    <tr style=\"text-align: right;\">\n",
       "      <th></th>\n",
       "      <th>population</th>\n",
       "      <th>area</th>\n",
       "    </tr>\n",
       "  </thead>\n",
       "  <tbody>\n",
       "    <tr>\n",
       "      <th>California</th>\n",
       "      <td>38332521</td>\n",
       "      <td>423967</td>\n",
       "    </tr>\n",
       "    <tr>\n",
       "      <th>Texas</th>\n",
       "      <td>26448193</td>\n",
       "      <td>695662</td>\n",
       "    </tr>\n",
       "    <tr>\n",
       "      <th>New York</th>\n",
       "      <td>19651127</td>\n",
       "      <td>141297</td>\n",
       "    </tr>\n",
       "    <tr>\n",
       "      <th>Florida</th>\n",
       "      <td>19552860</td>\n",
       "      <td>170312</td>\n",
       "    </tr>\n",
       "    <tr>\n",
       "      <th>Illinois</th>\n",
       "      <td>12882135</td>\n",
       "      <td>149995</td>\n",
       "    </tr>\n",
       "  </tbody>\n",
       "</table>\n",
       "</div>"
      ],
      "text/plain": [
       "            population    area\n",
       "California    38332521  423967\n",
       "Texas         26448193  695662\n",
       "New York      19651127  141297\n",
       "Florida       19552860  170312\n",
       "Illinois      12882135  149995"
      ]
     },
     "execution_count": 54,
     "metadata": {},
     "output_type": "execute_result"
    }
   ],
   "source": [
    "# Dict of Series objects\n",
    "pd.DataFrame({'population':population, 'area': area})"
   ]
  },
  {
   "cell_type": "code",
   "execution_count": 22,
   "id": "c5cf3d29-2fe1-4c54-95e1-e11991460574",
   "metadata": {},
   "outputs": [
    {
     "data": {
      "text/html": [
       "<div>\n",
       "<style scoped>\n",
       "    .dataframe tbody tr th:only-of-type {\n",
       "        vertical-align: middle;\n",
       "    }\n",
       "\n",
       "    .dataframe tbody tr th {\n",
       "        vertical-align: top;\n",
       "    }\n",
       "\n",
       "    .dataframe thead th {\n",
       "        text-align: right;\n",
       "    }\n",
       "</style>\n",
       "<table border=\"1\" class=\"dataframe\">\n",
       "  <thead>\n",
       "    <tr style=\"text-align: right;\">\n",
       "      <th></th>\n",
       "      <th>foo</th>\n",
       "      <th>bar</th>\n",
       "    </tr>\n",
       "  </thead>\n",
       "  <tbody>\n",
       "    <tr>\n",
       "      <th>a</th>\n",
       "      <td>0.013241</td>\n",
       "      <td>0.757791</td>\n",
       "    </tr>\n",
       "    <tr>\n",
       "      <th>b</th>\n",
       "      <td>0.026020</td>\n",
       "      <td>0.939068</td>\n",
       "    </tr>\n",
       "    <tr>\n",
       "      <th>c</th>\n",
       "      <td>0.051356</td>\n",
       "      <td>0.129692</td>\n",
       "    </tr>\n",
       "    <tr>\n",
       "      <th>d</th>\n",
       "      <td>0.503044</td>\n",
       "      <td>0.169080</td>\n",
       "    </tr>\n",
       "  </tbody>\n",
       "</table>\n",
       "</div>"
      ],
      "text/plain": [
       "        foo       bar\n",
       "a  0.013241  0.757791\n",
       "b  0.026020  0.939068\n",
       "c  0.051356  0.129692\n",
       "d  0.503044  0.169080"
      ]
     },
     "execution_count": 22,
     "metadata": {},
     "output_type": "execute_result"
    }
   ],
   "source": [
    "# From 2D NumPy array\n",
    "import numpy as np\n",
    "pd.DataFrame(np.random.rand(4,2), columns=['foo', 'bar'], index= ['a', 'b', 'c', 'd'])"
   ]
  },
  {
   "cell_type": "markdown",
   "id": "7e31d969",
   "metadata": {},
   "source": [
    "# 3. Index Object"
   ]
  },
  {
   "cell_type": "markdown",
   "id": "0adc0fe2",
   "metadata": {},
   "source": [
    "## (a) As Immutable Array\n",
    "- Once a Seriee/DF is created we cannot modify Index -- thus immutable.\n",
    "- Like slicing/indexing of a normal array, we can also do same with Pandas index objects.(But we cannot modify the index object values)"
   ]
  },
  {
   "cell_type": "code",
   "execution_count": 30,
   "id": "06a0b85e",
   "metadata": {},
   "outputs": [],
   "source": [
    "# Define Index object\n",
    "ind = pd.Index([2,3,5,7,11])"
   ]
  },
  {
   "cell_type": "code",
   "execution_count": 31,
   "id": "fa3b22e0",
   "metadata": {},
   "outputs": [
    {
     "name": "stdout",
     "output_type": "stream",
     "text": [
      "5\n",
      "Index([2, 5, 11], dtype='int64')\n"
     ]
    }
   ],
   "source": [
    "# Access Index object value\n",
    "print(ind[2])\n",
    "print(ind[::2])"
   ]
  },
  {
   "cell_type": "code",
   "execution_count": 32,
   "id": "4aa8f8b5",
   "metadata": {},
   "outputs": [
    {
     "ename": "TypeError",
     "evalue": "Index does not support mutable operations",
     "output_type": "error",
     "traceback": [
      "\u001b[0;31m---------------------------------------------------------------------------\u001b[0m",
      "\u001b[0;31mTypeError\u001b[0m                                 Traceback (most recent call last)",
      "Cell \u001b[0;32mIn[32], line 2\u001b[0m\n\u001b[1;32m      1\u001b[0m \u001b[38;5;66;03m# Try modify Index object values\u001b[39;00m\n\u001b[0;32m----> 2\u001b[0m \u001b[43mind\u001b[49m\u001b[43m[\u001b[49m\u001b[38;5;241;43m3\u001b[39;49m\u001b[43m]\u001b[49m \u001b[38;5;241m=\u001b[39m \u001b[38;5;241m2\u001b[39m   \u001b[38;5;66;03m# TypeError\u001b[39;00m\n",
      "File \u001b[0;32m/opt/anaconda3/envs/libraries/lib/python3.12/site-packages/pandas/core/indexes/base.py:5371\u001b[0m, in \u001b[0;36mIndex.__setitem__\u001b[0;34m(self, key, value)\u001b[0m\n\u001b[1;32m   5369\u001b[0m \u001b[38;5;129m@final\u001b[39m\n\u001b[1;32m   5370\u001b[0m \u001b[38;5;28;01mdef\u001b[39;00m \u001b[38;5;21m__setitem__\u001b[39m(\u001b[38;5;28mself\u001b[39m, key, value) \u001b[38;5;241m-\u001b[39m\u001b[38;5;241m>\u001b[39m \u001b[38;5;28;01mNone\u001b[39;00m:\n\u001b[0;32m-> 5371\u001b[0m     \u001b[38;5;28;01mraise\u001b[39;00m \u001b[38;5;167;01mTypeError\u001b[39;00m(\u001b[38;5;124m\"\u001b[39m\u001b[38;5;124mIndex does not support mutable operations\u001b[39m\u001b[38;5;124m\"\u001b[39m)\n",
      "\u001b[0;31mTypeError\u001b[0m: Index does not support mutable operations"
     ]
    }
   ],
   "source": [
    "# Try modify Index object values\n",
    "ind[3] = 2   # TypeError"
   ]
  },
  {
   "cell_type": "markdown",
   "id": "be264d6b",
   "metadata": {},
   "source": [
    "## (b) As Ordered Set\n",
    "\n",
    "- Pandas Index Objects are like an ordered set, which can also be multiset i.e. we can have repeated/duplicate values in index!\n",
    "- All valid operations with sets can be performed with index object as well."
   ]
  },
  {
   "cell_type": "code",
   "execution_count": 60,
   "id": "738521e8",
   "metadata": {},
   "outputs": [
    {
     "name": "stdout",
     "output_type": "stream",
     "text": [
      "Index([1, 2, 3, 4, 2, 7, 11], dtype='int64')\n"
     ]
    }
   ],
   "source": [
    "# Multiset index\n",
    "multi_index = pd.Index([1,2,3,4,2,7,11])\n",
    "print(multi_index)"
   ]
  },
  {
   "cell_type": "code",
   "execution_count": 61,
   "id": "499d89ad",
   "metadata": {},
   "outputs": [
    {
     "name": "stdout",
     "output_type": "stream",
     "text": [
      "Index([3, 5, 7], dtype='int64')\n",
      "Index([1, 2, 3, 5, 7, 9, 11], dtype='int64')\n",
      "Index([1, 2, 9, 11], dtype='int64')\n"
     ]
    }
   ],
   "source": [
    "# Set operations on index objects\n",
    "indA= pd.Index([1, 3, 5, 7, 9])\n",
    "indB= pd.Index([2, 3, 5, 7, 11])\n",
    "\n",
    "print(indA.intersection(indB))  # Intersection\n",
    "print(indA.union(indB))  # Union\n",
    "print(indA.symmetric_difference(indB))  # Symmetric difference\n"
   ]
  }
 ],
 "metadata": {
  "kernelspec": {
   "display_name": "Python 3 (ipykernel)",
   "language": "python",
   "name": "python3"
  },
  "language_info": {
   "codemirror_mode": {
    "name": "ipython",
    "version": 3
   },
   "file_extension": ".py",
   "mimetype": "text/x-python",
   "name": "python",
   "nbconvert_exporter": "python",
   "pygments_lexer": "ipython3",
   "version": "3.12.5"
  }
 },
 "nbformat": 4,
 "nbformat_minor": 5
}
