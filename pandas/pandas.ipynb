{
 "cells": [
  {
   "cell_type": "markdown",
   "id": "be75c813",
   "metadata": {},
   "source": [
    "# 1. Series object\n",
    "\n",
    "- 1-D array.\n",
    "- Data is indexed in this.\n",
    "- Can be easily created using array /list.\n",
    "- Index and Values can easily be accessed here.\n",
    "- Pandas series is more flexible than a Numpy array : In Pandas we can use labels also to index a series but in numpy we cannot."
   ]
  },
  {
   "cell_type": "code",
   "execution_count": 31,
   "id": "27be85a0",
   "metadata": {},
   "outputs": [
    {
     "data": {
      "text/plain": [
       "0    0.25\n",
       "1    0.50\n",
       "2    0.75\n",
       "3    1.00\n",
       "dtype: float64"
      ]
     },
     "execution_count": 31,
     "metadata": {},
     "output_type": "execute_result"
    }
   ],
   "source": [
    "import pandas as pd\n",
    "\n",
    "# Series Object\n",
    "\n",
    "data = pd.Series([0.25, 0.5, 0.75, 1.0])\n",
    "data"
   ]
  },
  {
   "cell_type": "code",
   "execution_count": 32,
   "id": "694e71b3",
   "metadata": {},
   "outputs": [
    {
     "data": {
      "text/plain": [
       "array([0.25, 0.5 , 0.75, 1.  ])"
      ]
     },
     "execution_count": 32,
     "metadata": {},
     "output_type": "execute_result"
    }
   ],
   "source": [
    "# Access series attributes\n",
    "data.values"
   ]
  },
  {
   "cell_type": "code",
   "execution_count": 33,
   "id": "b2d0a9b6",
   "metadata": {},
   "outputs": [
    {
     "data": {
      "text/plain": [
       "RangeIndex(start=0, stop=4, step=1)"
      ]
     },
     "execution_count": 33,
     "metadata": {},
     "output_type": "execute_result"
    }
   ],
   "source": [
    "data.index"
   ]
  },
  {
   "cell_type": "code",
   "execution_count": 34,
   "id": "8d72f3ac-8e9e-407e-b900-7ea5b8a9ce71",
   "metadata": {},
   "outputs": [
    {
     "data": {
      "text/plain": [
       "np.float64(0.5)"
      ]
     },
     "execution_count": 34,
     "metadata": {},
     "output_type": "execute_result"
    }
   ],
   "source": [
    "data[1]  # Access value using index"
   ]
  },
  {
   "cell_type": "code",
   "execution_count": 35,
   "id": "db4cff8a-5c5e-4daa-83b5-38df10184d7f",
   "metadata": {},
   "outputs": [
    {
     "data": {
      "text/plain": [
       "1    0.50\n",
       "2    0.75\n",
       "dtype: float64"
      ]
     },
     "execution_count": 35,
     "metadata": {},
     "output_type": "execute_result"
    }
   ],
   "source": [
    "data[1:3]  # Access a range of values using index range"
   ]
  },
  {
   "cell_type": "markdown",
   "id": "40121918-a858-46fa-9faf-09b79796d026",
   "metadata": {},
   "source": [
    "## (a) As Generalized NumPy array\n",
    "- In numpy, indexing is implicit which is an integer index used to access values of array.\n",
    "- In pandas we explicitely define index which is associated to values.\n",
    "- Thus, pandas give more flexibility.\n",
    "- Even we can define string also as an index in pandas."
   ]
  },
  {
   "cell_type": "code",
   "execution_count": 36,
   "id": "a2469b0b-da81-4aa4-9874-3c9f05907f6b",
   "metadata": {},
   "outputs": [
    {
     "data": {
      "text/plain": [
       "a    0.25\n",
       "b    0.50\n",
       "c    0.75\n",
       "d    1.00\n",
       "dtype: float64"
      ]
     },
     "execution_count": 36,
     "metadata": {},
     "output_type": "execute_result"
    }
   ],
   "source": [
    "# Example of explicit indexing in pandas\n",
    "data = pd.Series([0.25, 0.5, 0.75, 1.0], index=['a', 'b', 'c', 'd'])\n",
    "data"
   ]
  },
  {
   "cell_type": "code",
   "execution_count": 37,
   "id": "287cacfd-dc75-49c1-bd8b-cea6cbbe7f2f",
   "metadata": {},
   "outputs": [
    {
     "data": {
      "text/plain": [
       "np.float64(0.5)"
      ]
     },
     "execution_count": 37,
     "metadata": {},
     "output_type": "execute_result"
    }
   ],
   "source": [
    "# Access values\n",
    "data['b']"
   ]
  },
  {
   "cell_type": "markdown",
   "id": "010648ab-3285-4b6d-880a-d438b47141d3",
   "metadata": {},
   "source": [
    "We can even use non sequential indexing. For example,"
   ]
  },
  {
   "cell_type": "code",
   "execution_count": 38,
   "id": "0708975a-8d0e-4b58-8709-94d11bf13c17",
   "metadata": {},
   "outputs": [
    {
     "data": {
      "text/plain": [
       "2    0.25\n",
       "5    0.50\n",
       "1    0.75\n",
       "3    1.00\n",
       "dtype: float64"
      ]
     },
     "execution_count": 38,
     "metadata": {},
     "output_type": "execute_result"
    }
   ],
   "source": [
    "data = pd.Series([0.25, 0.5, 0.75, 1.0], index = [2, 5, 1,3])\n",
    "data"
   ]
  },
  {
   "cell_type": "code",
   "execution_count": 39,
   "id": "68bab483-3796-4e2d-b825-1ab93b58012c",
   "metadata": {},
   "outputs": [
    {
     "data": {
      "text/plain": [
       "np.float64(0.75)"
      ]
     },
     "execution_count": 39,
     "metadata": {},
     "output_type": "execute_result"
    }
   ],
   "source": [
    "# Access values using index\n",
    "data[1]"
   ]
  },
  {
   "cell_type": "markdown",
   "id": "30356126-6740-406e-8eb0-e6be9a66243f",
   "metadata": {},
   "source": [
    "## (b) As Specialized Dictionary\n",
    "\n",
    "- In python we have dict with keys:values which are not typed (i.e. one dict can have heterogeous keys/value types)"
   ]
  },
  {
   "cell_type": "code",
   "execution_count": 40,
   "id": "0e9ad006-5706-435b-b589-6be6d29e1c34",
   "metadata": {},
   "outputs": [],
   "source": [
    "# Example\n",
    "my_dict1 = {1: 'apple', 'two': 2, (3, 4): [5, 6]}  # different key data types\n",
    "my_dict2 = {'a': 1, 'b': 'hello', 'c': [1, 2, 3]}  # different value data types"
   ]
  },
  {
   "cell_type": "markdown",
   "id": "3bb456a7-da86-47da-b126-c524b0f46817",
   "metadata": {},
   "source": [
    "- But in pandas series, the series is like dictionary with typed keys and typed values-- Means the keys types and values types are homogeneous.\n",
    "- The consistent datatypes make Series more efficient in processing, especially in large datasets.\n",
    "- Same is the case with numpy array vs python list - Numpy array have consistent datatypes, thus more efficient than Python lists.\n",
    "\n",
    "\n",
    "- We can make a pandas series directly from a dict:"
   ]
  },
  {
   "cell_type": "code",
   "execution_count": 41,
   "id": "ce8c6ac1-34ca-4ba9-8c9a-7cb939f7a416",
   "metadata": {},
   "outputs": [
    {
     "data": {
      "text/plain": [
       "California    38332521\n",
       "Texas         26448193\n",
       "New York      19651127\n",
       "Florida       19552860\n",
       "Illinois      12882135\n",
       "dtype: int64"
      ]
     },
     "execution_count": 41,
     "metadata": {},
     "output_type": "execute_result"
    }
   ],
   "source": [
    "population_dict = {'California': 38332521, 'Texas': 26448193, 'New York': 19651127, 'Florida': 19552860, 'Illinois': 12882135}\n",
    "population = pd.Series(population_dict)\n",
    "population  # int type series"
   ]
  },
  {
   "cell_type": "markdown",
   "id": "14b04e3c-5f38-4080-bd1e-e99eb4b555d1",
   "metadata": {},
   "source": [
    "- If our dict has heterogenous data, then series type will be 'object' type.\n",
    "- Since the 'object' dtype is not as optimized as more specific dtypes like 'int64' or 'float64', operations on such a Series may be slower and less memory-efficient."
   ]
  },
  {
   "cell_type": "code",
   "execution_count": 42,
   "id": "29a58f6c-9c87-41b1-b16a-6f9bbc3e871a",
   "metadata": {},
   "outputs": [
    {
     "data": {
      "text/plain": [
       "California           a\n",
       "Texas         26448193\n",
       "New York             d\n",
       "Florida       19552860\n",
       "Illinois      12882135\n",
       "dtype: object"
      ]
     },
     "execution_count": 42,
     "metadata": {},
     "output_type": "execute_result"
    }
   ],
   "source": [
    "# Example of object dtype\n",
    "population_dict = {'California': 'a', 'Texas': 26448193, 'New York':'d', 'Florida': 19552860, 'Illinois': 12882135}\n",
    "population = pd.Series(population_dict)\n",
    "population  # object dtype"
   ]
  },
  {
   "cell_type": "markdown",
   "id": "269f03c2-c6a9-4710-9a75-61bbec202ad6",
   "metadata": {},
   "source": [
    "- How this Series is more flexible than dictionary? -- We can access range of values in one go:"
   ]
  },
  {
   "cell_type": "code",
   "execution_count": 43,
   "id": "bc5118c6-b7e3-4f0c-a540-1ad17b4425a9",
   "metadata": {},
   "outputs": [
    {
     "data": {
      "text/plain": [
       "Texas       26448193\n",
       "New York           d\n",
       "Florida     19552860\n",
       "dtype: object"
      ]
     },
     "execution_count": 43,
     "metadata": {},
     "output_type": "execute_result"
    }
   ],
   "source": [
    "population['Texas':'Florida']"
   ]
  },
  {
   "cell_type": "markdown",
   "id": "5991483a-4446-464a-8fb5-6363ffbead69",
   "metadata": {},
   "source": [
    "## (c) Constructing a Series object\n",
    "`pd.Series(data, index=index)`\n",
    "\n",
    "- data can be a list, numpy array, dict, or scalar.\n",
    "- index is optional."
   ]
  },
  {
   "cell_type": "code",
   "execution_count": 44,
   "id": "a98b6c8e-b7d3-428e-b273-d3cddfa57f3b",
   "metadata": {},
   "outputs": [
    {
     "data": {
      "text/plain": [
       "0    9\n",
       "1    2\n",
       "2    3\n",
       "dtype: int64"
      ]
     },
     "execution_count": 44,
     "metadata": {},
     "output_type": "execute_result"
    }
   ],
   "source": [
    "# From list\n",
    "pd.Series([9,2,3])"
   ]
  },
  {
   "cell_type": "code",
   "execution_count": 45,
   "id": "8660a1f7-22e1-41d1-a458-fba990ad2852",
   "metadata": {},
   "outputs": [
    {
     "data": {
      "text/plain": [
       "1    5\n",
       "2    5\n",
       "3    5\n",
       "4    5\n",
       "9    5\n",
       "dtype: int64"
      ]
     },
     "execution_count": 45,
     "metadata": {},
     "output_type": "execute_result"
    }
   ],
   "source": [
    "# From scalar\n",
    "pd.Series(5, index=[1,2,3,4,9])"
   ]
  },
  {
   "cell_type": "code",
   "execution_count": 46,
   "id": "efddbbcf-a240-4308-ab62-5dafc83921e4",
   "metadata": {},
   "outputs": [
    {
     "data": {
      "text/plain": [
       "2    a\n",
       "1    b\n",
       "5    k\n",
       "dtype: object"
      ]
     },
     "execution_count": 46,
     "metadata": {},
     "output_type": "execute_result"
    }
   ],
   "source": [
    "# From Dict\n",
    "pd.Series({2:'a', 1:'b', 5: 'k'})"
   ]
  },
  {
   "cell_type": "code",
   "execution_count": 47,
   "id": "bb2e4532-c5de-4c22-bc67-d1d15e7aef17",
   "metadata": {},
   "outputs": [
    {
     "data": {
      "text/plain": [
       "1      b\n",
       "5      k\n",
       "8    NaN\n",
       "dtype: object"
      ]
     },
     "execution_count": 47,
     "metadata": {},
     "output_type": "execute_result"
    }
   ],
   "source": [
    "# We can populate a series with only explicitly given index\n",
    "pd.Series({2:'a', 1:'b', 5: 'k'}, index=[1,5, 8])"
   ]
  },
  {
   "cell_type": "markdown",
   "id": "034f2e47-46e5-4684-9786-263f1f8c0660",
   "metadata": {},
   "source": [
    "# 2. Dataframe object\n",
    "- This is another fundamental structure in pandas.\n",
    "- Similar to Series object, we can see Dataframes also as generalization of Numpy array and specialization of python Dictionary."
   ]
  },
  {
   "cell_type": "markdown",
   "id": "811aec4d-9c59-47b0-8255-08b59a75fbb3",
   "metadata": {},
   "source": [
    "## (a) As Generalized NumPy array\n",
    "\n",
    "- Generalization of array means, in DataFrame you can organize multiple arrays/Series objects together, in columns.\n",
    "  \n",
    "- If series is analog of 1D array, then DataFrame is analog of 2D array.\n",
    "  \n",
    "- 2D array of flexible 'row indices' and 'column names'-- flexible means, index of rows and names of columns can be anything/customizable. It can have diverse data types. We can easily perform column/row reordering/add/remove operation etc.\n",
    "  \n",
    "- We can imagine Dataframe as aligned sequence of series obejcts-- Aligned means they have same index.(Assume each series as one column)\n",
    "  \n",
    "- Let's create a dataframe using two series data:"
   ]
  },
  {
   "cell_type": "code",
   "execution_count": 48,
   "id": "913dd99a-df31-456d-9dea-80622ff0464a",
   "metadata": {},
   "outputs": [
    {
     "data": {
      "text/html": [
       "<div>\n",
       "<style scoped>\n",
       "    .dataframe tbody tr th:only-of-type {\n",
       "        vertical-align: middle;\n",
       "    }\n",
       "\n",
       "    .dataframe tbody tr th {\n",
       "        vertical-align: top;\n",
       "    }\n",
       "\n",
       "    .dataframe thead th {\n",
       "        text-align: right;\n",
       "    }\n",
       "</style>\n",
       "<table border=\"1\" class=\"dataframe\">\n",
       "  <thead>\n",
       "    <tr style=\"text-align: right;\">\n",
       "      <th></th>\n",
       "      <th>population</th>\n",
       "      <th>area</th>\n",
       "    </tr>\n",
       "  </thead>\n",
       "  <tbody>\n",
       "    <tr>\n",
       "      <th>California</th>\n",
       "      <td>38332521</td>\n",
       "      <td>423967</td>\n",
       "    </tr>\n",
       "    <tr>\n",
       "      <th>Texas</th>\n",
       "      <td>26448193</td>\n",
       "      <td>695662</td>\n",
       "    </tr>\n",
       "    <tr>\n",
       "      <th>New York</th>\n",
       "      <td>19651127</td>\n",
       "      <td>141297</td>\n",
       "    </tr>\n",
       "    <tr>\n",
       "      <th>Florida</th>\n",
       "      <td>19552860</td>\n",
       "      <td>170312</td>\n",
       "    </tr>\n",
       "    <tr>\n",
       "      <th>Illinois</th>\n",
       "      <td>12882135</td>\n",
       "      <td>149995</td>\n",
       "    </tr>\n",
       "  </tbody>\n",
       "</table>\n",
       "</div>"
      ],
      "text/plain": [
       "            population    area\n",
       "California    38332521  423967\n",
       "Texas         26448193  695662\n",
       "New York      19651127  141297\n",
       "Florida       19552860  170312\n",
       "Illinois      12882135  149995"
      ]
     },
     "execution_count": 48,
     "metadata": {},
     "output_type": "execute_result"
    }
   ],
   "source": [
    "# Population series\n",
    "population = pd.Series({'California': 38332521, 'Texas': 26448193, 'New York': 19651127, 'Florida': 19552860, 'Illinois': 12882135})\n",
    "\n",
    "# Area series\n",
    "area = pd.Series({'California': 423967, 'Texas': 695662, 'New York': 141297, 'Florida': 170312, 'Illinois': 149995})\n",
    "\n",
    "# Create states df\n",
    "states = pd.DataFrame({'population':population, 'area': area})  # {column_name : series}\n",
    "states"
   ]
  },
  {
   "cell_type": "markdown",
   "id": "802abee4-14d5-4ec3-adbc-973d4419b498",
   "metadata": {},
   "source": [
    "## (b) DataFrame as Specialized Dictionary"
   ]
  },
  {
   "cell_type": "markdown",
   "id": "90217abf-d22f-4736-a772-4bebfeba12d1",
   "metadata": {},
   "source": [
    "- In dict we map key with a value.\n",
    "- In DF we map a column name with a series data."
   ]
  },
  {
   "cell_type": "code",
   "execution_count": 49,
   "id": "b53c869d-5884-4751-903e-83dce88b2630",
   "metadata": {},
   "outputs": [
    {
     "data": {
      "text/plain": [
       "California    38332521\n",
       "Texas         26448193\n",
       "New York      19651127\n",
       "Florida       19552860\n",
       "Illinois      12882135\n",
       "Name: population, dtype: int64"
      ]
     },
     "execution_count": 49,
     "metadata": {},
     "output_type": "execute_result"
    }
   ],
   "source": [
    "states['population']"
   ]
  },
  {
   "cell_type": "markdown",
   "id": "87547fee-57de-47f0-9bf9-69410c3f8d99",
   "metadata": {},
   "source": [
    "**Pay attention to remove confusion**\n",
    "- In a 2D Numpy array each array forms a row, thus accessing data[0] will give first row.\n",
    "- But in DF each Series forms a column, thus accessing the data['column_name'] will give first column."
   ]
  },
  {
   "cell_type": "code",
   "execution_count": 50,
   "id": "e2e2b52d-647d-4dd7-86fa-3ff31dc015c4",
   "metadata": {},
   "outputs": [
    {
     "data": {
      "text/plain": [
       "California    38332521\n",
       "Texas         26448193\n",
       "New York      19651127\n",
       "Florida       19552860\n",
       "Illinois      12882135\n",
       "Name: population, dtype: int64"
      ]
     },
     "execution_count": 50,
     "metadata": {},
     "output_type": "execute_result"
    }
   ],
   "source": [
    "states['population']  # access population column"
   ]
  },
  {
   "cell_type": "code",
   "execution_count": 51,
   "id": "1cb4662f-4de6-4e0b-8d88-2a92ec447489",
   "metadata": {},
   "outputs": [
    {
     "data": {
      "text/plain": [
       "np.int64(26448193)"
      ]
     },
     "execution_count": 51,
     "metadata": {},
     "output_type": "execute_result"
    }
   ],
   "source": [
    "states['population']['Texas']  # Access 'population' column the 'Texas' row "
   ]
  },
  {
   "cell_type": "markdown",
   "id": "59d2be66-586e-42ca-8c30-7ed8f13b1eea",
   "metadata": {},
   "source": [
    "## (c) Constructing DataFrame object\n",
    "- Can be constructed using Series object, List of dict, Dict of Series objects, 2D NumPy array, NumPy structures array."
   ]
  },
  {
   "cell_type": "code",
   "execution_count": 52,
   "id": "17935ee0-01bb-4a02-b9fe-e16738d3fec6",
   "metadata": {},
   "outputs": [
    {
     "data": {
      "text/html": [
       "<div>\n",
       "<style scoped>\n",
       "    .dataframe tbody tr th:only-of-type {\n",
       "        vertical-align: middle;\n",
       "    }\n",
       "\n",
       "    .dataframe tbody tr th {\n",
       "        vertical-align: top;\n",
       "    }\n",
       "\n",
       "    .dataframe thead th {\n",
       "        text-align: right;\n",
       "    }\n",
       "</style>\n",
       "<table border=\"1\" class=\"dataframe\">\n",
       "  <thead>\n",
       "    <tr style=\"text-align: right;\">\n",
       "      <th></th>\n",
       "      <th>numbers</th>\n",
       "    </tr>\n",
       "  </thead>\n",
       "  <tbody>\n",
       "    <tr>\n",
       "      <th>first</th>\n",
       "      <td>3</td>\n",
       "    </tr>\n",
       "    <tr>\n",
       "      <th>second</th>\n",
       "      <td>4</td>\n",
       "    </tr>\n",
       "    <tr>\n",
       "      <th>third</th>\n",
       "      <td>5</td>\n",
       "    </tr>\n",
       "    <tr>\n",
       "      <th>fourth</th>\n",
       "      <td>1</td>\n",
       "    </tr>\n",
       "  </tbody>\n",
       "</table>\n",
       "</div>"
      ],
      "text/plain": [
       "        numbers\n",
       "first         3\n",
       "second        4\n",
       "third         5\n",
       "fourth        1"
      ]
     },
     "execution_count": 52,
     "metadata": {},
     "output_type": "execute_result"
    }
   ],
   "source": [
    "# Using Series object\n",
    "pd.DataFrame([3,4,5,1], index=['first', 'second', 'third', 'fourth'], columns=['numbers']) # Column content, rows names, and column name"
   ]
  },
  {
   "cell_type": "code",
   "execution_count": 53,
   "id": "a0dfb123-738e-45fc-a8e9-8ff2ad4bb327",
   "metadata": {},
   "outputs": [
    {
     "data": {
      "text/html": [
       "<div>\n",
       "<style scoped>\n",
       "    .dataframe tbody tr th:only-of-type {\n",
       "        vertical-align: middle;\n",
       "    }\n",
       "\n",
       "    .dataframe tbody tr th {\n",
       "        vertical-align: top;\n",
       "    }\n",
       "\n",
       "    .dataframe thead th {\n",
       "        text-align: right;\n",
       "    }\n",
       "</style>\n",
       "<table border=\"1\" class=\"dataframe\">\n",
       "  <thead>\n",
       "    <tr style=\"text-align: right;\">\n",
       "      <th></th>\n",
       "      <th>a</th>\n",
       "      <th>b</th>\n",
       "      <th>c</th>\n",
       "    </tr>\n",
       "  </thead>\n",
       "  <tbody>\n",
       "    <tr>\n",
       "      <th>0</th>\n",
       "      <td>1</td>\n",
       "      <td>2</td>\n",
       "      <td>3</td>\n",
       "    </tr>\n",
       "    <tr>\n",
       "      <th>1</th>\n",
       "      <td>2</td>\n",
       "      <td>4</td>\n",
       "      <td>6</td>\n",
       "    </tr>\n",
       "    <tr>\n",
       "      <th>2</th>\n",
       "      <td>3</td>\n",
       "      <td>6</td>\n",
       "      <td>9</td>\n",
       "    </tr>\n",
       "    <tr>\n",
       "      <th>3</th>\n",
       "      <td>4</td>\n",
       "      <td>8</td>\n",
       "      <td>12</td>\n",
       "    </tr>\n",
       "  </tbody>\n",
       "</table>\n",
       "</div>"
      ],
      "text/plain": [
       "   a  b   c\n",
       "0  1  2   3\n",
       "1  2  4   6\n",
       "2  3  6   9\n",
       "3  4  8  12"
      ]
     },
     "execution_count": 53,
     "metadata": {},
     "output_type": "execute_result"
    }
   ],
   "source": [
    "# List of Dicts\n",
    "pd.DataFrame([{'a':i, 'b': 2*i, 'c': 3*i} for i in range(1,5)])"
   ]
  },
  {
   "cell_type": "code",
   "execution_count": 54,
   "id": "35aee222-7e2d-4eb4-8f2c-b4a6d5d86492",
   "metadata": {},
   "outputs": [
    {
     "data": {
      "text/html": [
       "<div>\n",
       "<style scoped>\n",
       "    .dataframe tbody tr th:only-of-type {\n",
       "        vertical-align: middle;\n",
       "    }\n",
       "\n",
       "    .dataframe tbody tr th {\n",
       "        vertical-align: top;\n",
       "    }\n",
       "\n",
       "    .dataframe thead th {\n",
       "        text-align: right;\n",
       "    }\n",
       "</style>\n",
       "<table border=\"1\" class=\"dataframe\">\n",
       "  <thead>\n",
       "    <tr style=\"text-align: right;\">\n",
       "      <th></th>\n",
       "      <th>population</th>\n",
       "      <th>area</th>\n",
       "    </tr>\n",
       "  </thead>\n",
       "  <tbody>\n",
       "    <tr>\n",
       "      <th>California</th>\n",
       "      <td>38332521</td>\n",
       "      <td>423967</td>\n",
       "    </tr>\n",
       "    <tr>\n",
       "      <th>Texas</th>\n",
       "      <td>26448193</td>\n",
       "      <td>695662</td>\n",
       "    </tr>\n",
       "    <tr>\n",
       "      <th>New York</th>\n",
       "      <td>19651127</td>\n",
       "      <td>141297</td>\n",
       "    </tr>\n",
       "    <tr>\n",
       "      <th>Florida</th>\n",
       "      <td>19552860</td>\n",
       "      <td>170312</td>\n",
       "    </tr>\n",
       "    <tr>\n",
       "      <th>Illinois</th>\n",
       "      <td>12882135</td>\n",
       "      <td>149995</td>\n",
       "    </tr>\n",
       "  </tbody>\n",
       "</table>\n",
       "</div>"
      ],
      "text/plain": [
       "            population    area\n",
       "California    38332521  423967\n",
       "Texas         26448193  695662\n",
       "New York      19651127  141297\n",
       "Florida       19552860  170312\n",
       "Illinois      12882135  149995"
      ]
     },
     "execution_count": 54,
     "metadata": {},
     "output_type": "execute_result"
    }
   ],
   "source": [
    "# Dict of Series objects\n",
    "pd.DataFrame({'population':population, 'area': area})"
   ]
  },
  {
   "cell_type": "code",
   "execution_count": 55,
   "id": "c5cf3d29-2fe1-4c54-95e1-e11991460574",
   "metadata": {},
   "outputs": [
    {
     "data": {
      "text/html": [
       "<div>\n",
       "<style scoped>\n",
       "    .dataframe tbody tr th:only-of-type {\n",
       "        vertical-align: middle;\n",
       "    }\n",
       "\n",
       "    .dataframe tbody tr th {\n",
       "        vertical-align: top;\n",
       "    }\n",
       "\n",
       "    .dataframe thead th {\n",
       "        text-align: right;\n",
       "    }\n",
       "</style>\n",
       "<table border=\"1\" class=\"dataframe\">\n",
       "  <thead>\n",
       "    <tr style=\"text-align: right;\">\n",
       "      <th></th>\n",
       "      <th>foo</th>\n",
       "      <th>bar</th>\n",
       "    </tr>\n",
       "  </thead>\n",
       "  <tbody>\n",
       "    <tr>\n",
       "      <th>a</th>\n",
       "      <td>0.118741</td>\n",
       "      <td>0.171121</td>\n",
       "    </tr>\n",
       "    <tr>\n",
       "      <th>b</th>\n",
       "      <td>0.174509</td>\n",
       "      <td>0.568145</td>\n",
       "    </tr>\n",
       "    <tr>\n",
       "      <th>c</th>\n",
       "      <td>0.404560</td>\n",
       "      <td>0.466251</td>\n",
       "    </tr>\n",
       "    <tr>\n",
       "      <th>d</th>\n",
       "      <td>0.725503</td>\n",
       "      <td>0.937247</td>\n",
       "    </tr>\n",
       "  </tbody>\n",
       "</table>\n",
       "</div>"
      ],
      "text/plain": [
       "        foo       bar\n",
       "a  0.118741  0.171121\n",
       "b  0.174509  0.568145\n",
       "c  0.404560  0.466251\n",
       "d  0.725503  0.937247"
      ]
     },
     "execution_count": 55,
     "metadata": {},
     "output_type": "execute_result"
    }
   ],
   "source": [
    "# From 2D NumPy array\n",
    "import numpy as np\n",
    "pd.DataFrame(np.random.rand(4,2), columns=['foo', 'bar'], index= ['a', 'b', 'c', 'd'])"
   ]
  },
  {
   "cell_type": "code",
   "execution_count": 56,
   "id": "328ee511-f7e9-4fa9-95d8-10004f9bb9e7",
   "metadata": {},
   "outputs": [
    {
     "data": {
      "text/html": [
       "<div>\n",
       "<style scoped>\n",
       "    .dataframe tbody tr th:only-of-type {\n",
       "        vertical-align: middle;\n",
       "    }\n",
       "\n",
       "    .dataframe tbody tr th {\n",
       "        vertical-align: top;\n",
       "    }\n",
       "\n",
       "    .dataframe thead th {\n",
       "        text-align: right;\n",
       "    }\n",
       "</style>\n",
       "<table border=\"1\" class=\"dataframe\">\n",
       "  <thead>\n",
       "    <tr style=\"text-align: right;\">\n",
       "      <th></th>\n",
       "      <th>A</th>\n",
       "      <th>B</th>\n",
       "    </tr>\n",
       "  </thead>\n",
       "  <tbody>\n",
       "    <tr>\n",
       "      <th>0</th>\n",
       "      <td>0</td>\n",
       "      <td>0.0</td>\n",
       "    </tr>\n",
       "    <tr>\n",
       "      <th>1</th>\n",
       "      <td>0</td>\n",
       "      <td>0.0</td>\n",
       "    </tr>\n",
       "    <tr>\n",
       "      <th>2</th>\n",
       "      <td>0</td>\n",
       "      <td>0.0</td>\n",
       "    </tr>\n",
       "  </tbody>\n",
       "</table>\n",
       "</div>"
      ],
      "text/plain": [
       "   A    B\n",
       "0  0  0.0\n",
       "1  0  0.0\n",
       "2  0  0.0"
      ]
     },
     "execution_count": 56,
     "metadata": {},
     "output_type": "execute_result"
    }
   ],
   "source": [
    "# From NumPy structured array\n",
    "A = np.zeros(3, dtype=[('A', 'i8'), ('B', 'f8')])  # i and f are dtypes\n",
    "pd.DataFrame(A)"
   ]
  },
  {
   "cell_type": "markdown",
   "id": "ff1925a3-3f55-4f65-9f60-fd84625fe645",
   "metadata": {},
   "source": [
    "# 3. Pandas Index Object\n",
    "- In each Series and DF objects, an explicit index is present.\n",
    "- This index is used as reference to access/modify data/values.\n",
    "- We can think of Index object as: 1. An immutable array 2. An ordered set"
   ]
  },
  {
   "cell_type": "markdown",
   "id": "0adc0fe2",
   "metadata": {},
   "source": [
    "## (a) As Immutable Array\n",
    "- Once a Seriee/DF is created we cannot modify Index -- thus immutable.\n",
    "- Like slicing/indexing of a normal array, we can also do same with Pandas index objects.(But we cannot modify the index object values)"
   ]
  },
  {
   "cell_type": "code",
   "execution_count": 57,
   "id": "06a0b85e",
   "metadata": {},
   "outputs": [],
   "source": [
    "# Define Index object\n",
    "ind = pd.Index([2,3,5,7,11])"
   ]
  },
  {
   "cell_type": "code",
   "execution_count": 58,
   "id": "fa3b22e0",
   "metadata": {},
   "outputs": [
    {
     "name": "stdout",
     "output_type": "stream",
     "text": [
      "5\n",
      "Index([2, 5, 11], dtype='int64')\n"
     ]
    }
   ],
   "source": [
    "# Access Index object value\n",
    "print(ind[2])\n",
    "print(ind[::2])"
   ]
  },
  {
   "cell_type": "code",
   "execution_count": 59,
   "id": "4aa8f8b5",
   "metadata": {},
   "outputs": [
    {
     "ename": "TypeError",
     "evalue": "Index does not support mutable operations",
     "output_type": "error",
     "traceback": [
      "\u001b[0;31m---------------------------------------------------------------------------\u001b[0m",
      "\u001b[0;31mTypeError\u001b[0m                                 Traceback (most recent call last)",
      "Cell \u001b[0;32mIn[59], line 2\u001b[0m\n\u001b[1;32m      1\u001b[0m \u001b[38;5;66;03m# Try modify Index object values\u001b[39;00m\n\u001b[0;32m----> 2\u001b[0m \u001b[43mind\u001b[49m\u001b[43m[\u001b[49m\u001b[38;5;241;43m3\u001b[39;49m\u001b[43m]\u001b[49m \u001b[38;5;241m=\u001b[39m \u001b[38;5;241m2\u001b[39m   \u001b[38;5;66;03m# TypeError\u001b[39;00m\n",
      "File \u001b[0;32m/opt/anaconda3/envs/libraries/lib/python3.12/site-packages/pandas/core/indexes/base.py:5371\u001b[0m, in \u001b[0;36mIndex.__setitem__\u001b[0;34m(self, key, value)\u001b[0m\n\u001b[1;32m   5369\u001b[0m \u001b[38;5;129m@final\u001b[39m\n\u001b[1;32m   5370\u001b[0m \u001b[38;5;28;01mdef\u001b[39;00m \u001b[38;5;21m__setitem__\u001b[39m(\u001b[38;5;28mself\u001b[39m, key, value) \u001b[38;5;241m-\u001b[39m\u001b[38;5;241m>\u001b[39m \u001b[38;5;28;01mNone\u001b[39;00m:\n\u001b[0;32m-> 5371\u001b[0m     \u001b[38;5;28;01mraise\u001b[39;00m \u001b[38;5;167;01mTypeError\u001b[39;00m(\u001b[38;5;124m\"\u001b[39m\u001b[38;5;124mIndex does not support mutable operations\u001b[39m\u001b[38;5;124m\"\u001b[39m)\n",
      "\u001b[0;31mTypeError\u001b[0m: Index does not support mutable operations"
     ]
    }
   ],
   "source": [
    "# Try modify Index object values\n",
    "ind[3] = 2   # TypeError"
   ]
  },
  {
   "cell_type": "markdown",
   "id": "be264d6b",
   "metadata": {},
   "source": [
    "## (b) As Ordered Set\n",
    "\n",
    "- Pandas Index Objects are like an ordered set, which can also be multiset i.e. we can have repeated/duplicate values in index!\n",
    "- All valid operations with sets can be performed with index object as well."
   ]
  },
  {
   "cell_type": "code",
   "execution_count": 60,
   "id": "738521e8",
   "metadata": {},
   "outputs": [
    {
     "name": "stdout",
     "output_type": "stream",
     "text": [
      "Index([1, 2, 3, 4, 2, 7, 11], dtype='int64')\n"
     ]
    }
   ],
   "source": [
    "# Multiset index\n",
    "multi_index = pd.Index([1,2,3,4,2,7,11])\n",
    "print(multi_index)"
   ]
  },
  {
   "cell_type": "code",
   "execution_count": 61,
   "id": "499d89ad",
   "metadata": {},
   "outputs": [
    {
     "name": "stdout",
     "output_type": "stream",
     "text": [
      "Index([3, 5, 7], dtype='int64')\n",
      "Index([1, 2, 3, 5, 7, 9, 11], dtype='int64')\n",
      "Index([1, 2, 9, 11], dtype='int64')\n"
     ]
    }
   ],
   "source": [
    "# Set operations on index objects\n",
    "indA= pd.Index([1, 3, 5, 7, 9])\n",
    "indB= pd.Index([2, 3, 5, 7, 11])\n",
    "\n",
    "print(indA.intersection(indB))  # Intersection\n",
    "print(indA.union(indB))  # Union\n",
    "print(indA.symmetric_difference(indB))  # Symmetric difference\n"
   ]
  },
  {
   "cell_type": "markdown",
   "id": "001b4adb",
   "metadata": {},
   "source": [
    "# 3. Data Indexing and Selection\n",
    "\n",
    "## (a) Data selection in Series\n",
    "\n",
    "  - We can access a Series data in two ways: \n",
    "  1. As a dict \n",
    "  2. As an array\n",
    "  "
   ]
  },
  {
   "cell_type": "markdown",
   "id": "0f043362",
   "metadata": {},
   "source": [
    "### Access Series as Dict"
   ]
  },
  {
   "cell_type": "code",
   "execution_count": 81,
   "id": "4fdaca9b",
   "metadata": {},
   "outputs": [
    {
     "name": "stdout",
     "output_type": "stream",
     "text": [
      "0.75\n",
      "True\n",
      "Index(['a', 'b', 'c', 'd'], dtype='object')\n",
      "[('a', 0.25), ('b', 0.5), ('c', 0.75), ('d', 1.0)]\n",
      "[0.25 0.5  0.75 1.  ]\n",
      "a    0.25\n",
      "b    0.50\n",
      "c    0.75\n",
      "d    1.00\n",
      "e    1.25\n",
      "dtype: float64\n"
     ]
    }
   ],
   "source": [
    "# Access Series as Dict\n",
    "\n",
    "data = pd.Series([0.25, 0.5, 0.75, 1.0], index=['a', 'b', 'c', 'd'])\n",
    "print(data['c'])  # Use index as keys\n",
    "print('c' in data)  # Check a key\n",
    "print(data.keys())  # Get all keys\n",
    "print(list(data.items()))  # Get all items\n",
    "print(data.values)  # Pay attention for values, we are not using values()\n",
    "data['e'] = 1.25 # Modify Series as Dict\n",
    "print(data)"
   ]
  },
  {
   "cell_type": "markdown",
   "id": "7861711f",
   "metadata": {},
   "source": [
    "### Access Series as 1D array\n",
    "- Series, extends its dict-like behaviour to an array-like too, therefore more flexible."
   ]
  },
  {
   "cell_type": "code",
   "execution_count": 82,
   "id": "5bc86618",
   "metadata": {},
   "outputs": [
    {
     "name": "stdout",
     "output_type": "stream",
     "text": [
      "a    0.25\n",
      "b    0.50\n",
      "c    0.75\n",
      "dtype: float64\n",
      "a    0.25\n",
      "b    0.50\n",
      "dtype: float64\n",
      "b    0.50\n",
      "c    0.75\n",
      "dtype: float64\n",
      "a    0.25\n",
      "e    1.25\n",
      "dtype: float64\n"
     ]
    }
   ],
   "source": [
    "# Access Series as 1D array\n",
    "print(data['a':'c'])  # Slicing with explicit index\n",
    "print(data[0:2])      # Slicing with implicit index\n",
    "print(data[(data>0.3) & (data<0.8)])  # Masking: uses boolean condition to select data\n",
    "print(data[['a','e']])  # Fancy Indexing: uses list of indices to select data"
   ]
  },
  {
   "cell_type": "markdown",
   "id": "245ba5e2",
   "metadata": {},
   "source": [
    "**Note: There can be confusion in slicing. In Implicit indexing final index is excluded, while in explicit indexing final index is included.**"
   ]
  },
  {
   "cell_type": "markdown",
   "id": "5a5432f4",
   "metadata": {},
   "source": [
    "### Indexers: loc, iloc, and ix\n",
    "\n",
    "- In case of integer explicit indexes, implicit and explicit index access can be very confusing.\n",
    "- Therefore, pandas provides special indexing attributes-- loc and iloc are attributes to handle indexing schemes.\n",
    "- 'loc' - To slice with EXPLICIT index.\n",
    "- 'iloc' - To slice with IMPLICIT index."
   ]
  },
  {
   "cell_type": "code",
   "execution_count": 83,
   "id": "9c309c6d",
   "metadata": {},
   "outputs": [
    {
     "data": {
      "text/html": [
       "<div>\n",
       "<style scoped>\n",
       "    .dataframe tbody tr th:only-of-type {\n",
       "        vertical-align: middle;\n",
       "    }\n",
       "\n",
       "    .dataframe tbody tr th {\n",
       "        vertical-align: top;\n",
       "    }\n",
       "\n",
       "    .dataframe thead th {\n",
       "        text-align: right;\n",
       "    }\n",
       "</style>\n",
       "<table border=\"1\" class=\"dataframe\">\n",
       "  <thead>\n",
       "    <tr style=\"text-align: right;\">\n",
       "      <th></th>\n",
       "      <th>index</th>\n",
       "      <th>0</th>\n",
       "    </tr>\n",
       "  </thead>\n",
       "  <tbody>\n",
       "    <tr>\n",
       "      <th>0</th>\n",
       "      <td>2</td>\n",
       "      <td>23</td>\n",
       "    </tr>\n",
       "    <tr>\n",
       "      <th>1</th>\n",
       "      <td>3</td>\n",
       "      <td>24</td>\n",
       "    </tr>\n",
       "    <tr>\n",
       "      <th>2</th>\n",
       "      <td>4</td>\n",
       "      <td>25</td>\n",
       "    </tr>\n",
       "    <tr>\n",
       "      <th>3</th>\n",
       "      <td>5</td>\n",
       "      <td>27</td>\n",
       "    </tr>\n",
       "    <tr>\n",
       "      <th>4</th>\n",
       "      <td>6</td>\n",
       "      <td>20</td>\n",
       "    </tr>\n",
       "  </tbody>\n",
       "</table>\n",
       "</div>"
      ],
      "text/plain": [
       "   index   0\n",
       "0      2  23\n",
       "1      3  24\n",
       "2      4  25\n",
       "3      5  27\n",
       "4      6  20"
      ]
     },
     "execution_count": 83,
     "metadata": {},
     "output_type": "execute_result"
    }
   ],
   "source": [
    "data = pd.Series([23, 24, 25, 27, 20], index=[2, 3, 4, 5, 6])\n",
    "data.reset_index()"
   ]
  },
  {
   "cell_type": "code",
   "execution_count": 84,
   "id": "4014959c",
   "metadata": {},
   "outputs": [
    {
     "name": "stdout",
     "output_type": "stream",
     "text": [
      "24\n",
      "27\n"
     ]
    }
   ],
   "source": [
    "# Explicit Indexing \n",
    "print(data.loc[3])  # Explicit index \n",
    "print(data.iloc[3]) # Implicit index"
   ]
  },
  {
   "cell_type": "markdown",
   "id": "1b92bc87",
   "metadata": {},
   "source": [
    "- 'ix' is a hybrid approach, which creates a standard indexing for a Series object. But again, this can lead to confusion. Thus, it is removed from recent updates of Pandas."
   ]
  },
  {
   "cell_type": "markdown",
   "id": "fdcaa9d3",
   "metadata": {},
   "source": [
    "## (b) Data Selection in DataFrame\n",
    "\n",
    "- DF is accessed in two ways:\n",
    "  1. As a dict.\n",
    "  2. As a 2 D array."
   ]
  },
  {
   "cell_type": "markdown",
   "id": "f20f2a56",
   "metadata": {},
   "source": [
    "### Access DF as Dict\n",
    "- Consider dataframe as a Dictionary of related Series objects."
   ]
  },
  {
   "cell_type": "code",
   "execution_count": 85,
   "id": "3fbf7236",
   "metadata": {},
   "outputs": [
    {
     "name": "stdout",
     "output_type": "stream",
     "text": [
      "              area       pop\n",
      "California  423967  38332521\n",
      "Texas       695662  26448193\n",
      "New York    141297  19651127\n",
      "Florida     170312  19552860\n",
      "Illinois    149995  12882135\n"
     ]
    }
   ],
   "source": [
    "# 1. Create a DF\n",
    "import pandas as pd\n",
    "\n",
    "# Define Series of area and population\n",
    "area = pd.Series({'California': 423967, 'Texas': 695662,\n",
    "                   'New York': 141297, 'Florida': 170312,\n",
    "                   'Illinois': 149995})\n",
    "\n",
    "pop = pd.Series({'California': 38332521, 'Texas': 26448193,\n",
    "                  'New York': 19651127, 'Florida': 19552860,\n",
    "                  'Illinois': 12882135})\n",
    "\n",
    "# Create a DF\n",
    "data = pd.DataFrame({'area':area, 'pop':pop})\n",
    "\n",
    "print(data)"
   ]
  },
  {
   "cell_type": "code",
   "execution_count": 86,
   "id": "40e47ae2",
   "metadata": {},
   "outputs": [
    {
     "name": "stdout",
     "output_type": "stream",
     "text": [
      "California    423967\n",
      "Texas         695662\n",
      "New York      141297\n",
      "Florida       170312\n",
      "Illinois      149995\n",
      "Name: area, dtype: int64\n"
     ]
    }
   ],
   "source": [
    "# 2. (a) Access column as using dict keys\n",
    "print(data['area'])"
   ]
  },
  {
   "cell_type": "code",
   "execution_count": 87,
   "id": "8a7df771",
   "metadata": {},
   "outputs": [
    {
     "name": "stdout",
     "output_type": "stream",
     "text": [
      "California    423967\n",
      "Texas         695662\n",
      "New York      141297\n",
      "Florida       170312\n",
      "Illinois      149995\n",
      "Name: area, dtype: int64\n"
     ]
    }
   ],
   "source": [
    "# (b). Access column with attribute-style\n",
    "print(data.area)"
   ]
  },
  {
   "cell_type": "code",
   "execution_count": 88,
   "id": "91a87db3",
   "metadata": {},
   "outputs": [],
   "source": [
    "# Attribute style and dict-style both access same object\n",
    "assert data.area is data['area']"
   ]
  },
  {
   "cell_type": "markdown",
   "id": "2aac3bcb",
   "metadata": {},
   "source": [
    "**NOTE: Accessing columns using attribute style is a shorthand useful. But it only works with string column names. Also, if the name of column is same as any dataframe method, it will not work!**"
   ]
  },
  {
   "cell_type": "code",
   "execution_count": 89,
   "id": "e8140648",
   "metadata": {},
   "outputs": [],
   "source": [
    "# Example of uisng attribute style if column name is same as any method\n",
    "assert data.pop is not data['pop']"
   ]
  },
  {
   "cell_type": "markdown",
   "id": "79f03e79",
   "metadata": {},
   "source": [
    "  While creating a new column using dict-style, the following syntax performs elemnt-by-elelemnt arithmatic between Series objects."
   ]
  },
  {
   "cell_type": "code",
   "execution_count": 90,
   "id": "cc2fa42e",
   "metadata": {},
   "outputs": [
    {
     "name": "stdout",
     "output_type": "stream",
     "text": [
      "              area       pop     density\n",
      "California  423967  38332521   90.413926\n",
      "Texas       695662  26448193   38.018740\n",
      "New York    141297  19651127  139.076746\n",
      "Florida     170312  19552860  114.806121\n",
      "Illinois    149995  12882135   85.883763\n"
     ]
    }
   ],
   "source": [
    "# (c) Creating a new column using dict-style syntax\n",
    "data['density'] = data['pop']/data['area']\n",
    "print(data)"
   ]
  },
  {
   "cell_type": "markdown",
   "id": "847f86e3",
   "metadata": {},
   "source": [
    "### Access DF as a 2D array\n",
    "- Various 2D array like operations can be performed on a DF."
   ]
  },
  {
   "cell_type": "code",
   "execution_count": 91,
   "id": "889e8d6b",
   "metadata": {},
   "outputs": [
    {
     "name": "stdout",
     "output_type": "stream",
     "text": [
      "[[4.23967000e+05 3.83325210e+07 9.04139261e+01]\n",
      " [6.95662000e+05 2.64481930e+07 3.80187404e+01]\n",
      " [1.41297000e+05 1.96511270e+07 1.39076746e+02]\n",
      " [1.70312000e+05 1.95528600e+07 1.14806121e+02]\n",
      " [1.49995000e+05 1.28821350e+07 8.58837628e+01]]\n"
     ]
    }
   ],
   "source": [
    "# 1. Access rows with values attribute\n",
    "print(data.values)"
   ]
  },
  {
   "cell_type": "code",
   "execution_count": 92,
   "id": "5d128000",
   "metadata": {},
   "outputs": [
    {
     "name": "stdout",
     "output_type": "stream",
     "text": [
      "           California         Texas      New York       Florida      Illinois\n",
      "area     4.239670e+05  6.956620e+05  1.412970e+05  1.703120e+05  1.499950e+05\n",
      "pop      3.833252e+07  2.644819e+07  1.965113e+07  1.955286e+07  1.288214e+07\n",
      "density  9.041393e+01  3.801874e+01  1.390767e+02  1.148061e+02  8.588376e+01\n"
     ]
    }
   ],
   "source": [
    "# Transpose data\n",
    "print(data.T)"
   ]
  },
  {
   "cell_type": "code",
   "execution_count": 93,
   "id": "741c374a",
   "metadata": {},
   "outputs": [
    {
     "name": "stdout",
     "output_type": "stream",
     "text": [
      "[4.23967000e+05 3.83325210e+07 9.04139261e+01]\n"
     ]
    }
   ],
   "source": [
    "# To access a row\n",
    "print(data.values[0])"
   ]
  },
  {
   "cell_type": "markdown",
   "id": "af78aa80",
   "metadata": {},
   "source": [
    "- We cannot do data[0] to access a row directly, because indexing is done in dict style.\n",
    "- data['col_name'] is used to access a column."
   ]
  },
  {
   "cell_type": "code",
   "execution_count": 94,
   "id": "f1fb3227",
   "metadata": {},
   "outputs": [
    {
     "name": "stdout",
     "output_type": "stream",
     "text": [
      "California    423967\n",
      "Texas         695662\n",
      "New York      141297\n",
      "Florida       170312\n",
      "Illinois      149995\n",
      "Name: area, dtype: int64\n"
     ]
    }
   ],
   "source": [
    "# To access a column\n",
    "print(data['area'])"
   ]
  },
  {
   "cell_type": "markdown",
   "id": "b4c1d7c0",
   "metadata": {},
   "source": [
    "Therefore, loc, iloc, and ix, like in Series object indexing, we use in DF indexing as well.\n"
   ]
  },
  {
   "cell_type": "markdown",
   "id": "c47ebd38",
   "metadata": {},
   "source": [
    "### Indexers: loc, iloc"
   ]
  },
  {
   "cell_type": "code",
   "execution_count": 95,
   "id": "36c9da48",
   "metadata": {},
   "outputs": [
    {
     "data": {
      "text/html": [
       "<div>\n",
       "<style scoped>\n",
       "    .dataframe tbody tr th:only-of-type {\n",
       "        vertical-align: middle;\n",
       "    }\n",
       "\n",
       "    .dataframe tbody tr th {\n",
       "        vertical-align: top;\n",
       "    }\n",
       "\n",
       "    .dataframe thead th {\n",
       "        text-align: right;\n",
       "    }\n",
       "</style>\n",
       "<table border=\"1\" class=\"dataframe\">\n",
       "  <thead>\n",
       "    <tr style=\"text-align: right;\">\n",
       "      <th></th>\n",
       "      <th>index</th>\n",
       "      <th>area</th>\n",
       "      <th>pop</th>\n",
       "      <th>density</th>\n",
       "    </tr>\n",
       "  </thead>\n",
       "  <tbody>\n",
       "    <tr>\n",
       "      <th>0</th>\n",
       "      <td>California</td>\n",
       "      <td>423967</td>\n",
       "      <td>38332521</td>\n",
       "      <td>90.413926</td>\n",
       "    </tr>\n",
       "    <tr>\n",
       "      <th>1</th>\n",
       "      <td>Texas</td>\n",
       "      <td>695662</td>\n",
       "      <td>26448193</td>\n",
       "      <td>38.018740</td>\n",
       "    </tr>\n",
       "    <tr>\n",
       "      <th>2</th>\n",
       "      <td>New York</td>\n",
       "      <td>141297</td>\n",
       "      <td>19651127</td>\n",
       "      <td>139.076746</td>\n",
       "    </tr>\n",
       "    <tr>\n",
       "      <th>3</th>\n",
       "      <td>Florida</td>\n",
       "      <td>170312</td>\n",
       "      <td>19552860</td>\n",
       "      <td>114.806121</td>\n",
       "    </tr>\n",
       "    <tr>\n",
       "      <th>4</th>\n",
       "      <td>Illinois</td>\n",
       "      <td>149995</td>\n",
       "      <td>12882135</td>\n",
       "      <td>85.883763</td>\n",
       "    </tr>\n",
       "  </tbody>\n",
       "</table>\n",
       "</div>"
      ],
      "text/plain": [
       "        index    area       pop     density\n",
       "0  California  423967  38332521   90.413926\n",
       "1       Texas  695662  26448193   38.018740\n",
       "2    New York  141297  19651127  139.076746\n",
       "3     Florida  170312  19552860  114.806121\n",
       "4    Illinois  149995  12882135   85.883763"
      ]
     },
     "execution_count": 95,
     "metadata": {},
     "output_type": "execute_result"
    }
   ],
   "source": [
    "# Access using implicit index\n",
    "data.reset_index()"
   ]
  },
  {
   "cell_type": "code",
   "execution_count": 96,
   "id": "bdc61494",
   "metadata": {},
   "outputs": [
    {
     "data": {
      "text/html": [
       "<div>\n",
       "<style scoped>\n",
       "    .dataframe tbody tr th:only-of-type {\n",
       "        vertical-align: middle;\n",
       "    }\n",
       "\n",
       "    .dataframe tbody tr th {\n",
       "        vertical-align: top;\n",
       "    }\n",
       "\n",
       "    .dataframe thead th {\n",
       "        text-align: right;\n",
       "    }\n",
       "</style>\n",
       "<table border=\"1\" class=\"dataframe\">\n",
       "  <thead>\n",
       "    <tr style=\"text-align: right;\">\n",
       "      <th></th>\n",
       "      <th>area</th>\n",
       "      <th>pop</th>\n",
       "      <th>density</th>\n",
       "    </tr>\n",
       "  </thead>\n",
       "  <tbody>\n",
       "    <tr>\n",
       "      <th>California</th>\n",
       "      <td>423967</td>\n",
       "      <td>38332521</td>\n",
       "      <td>90.413926</td>\n",
       "    </tr>\n",
       "    <tr>\n",
       "      <th>Texas</th>\n",
       "      <td>695662</td>\n",
       "      <td>26448193</td>\n",
       "      <td>38.018740</td>\n",
       "    </tr>\n",
       "  </tbody>\n",
       "</table>\n",
       "</div>"
      ],
      "text/plain": [
       "              area       pop    density\n",
       "California  423967  38332521  90.413926\n",
       "Texas       695662  26448193  38.018740"
      ]
     },
     "execution_count": 96,
     "metadata": {},
     "output_type": "execute_result"
    }
   ],
   "source": [
    "data.iloc[0:2, : ]   # Last index is not included"
   ]
  },
  {
   "cell_type": "code",
   "execution_count": 97,
   "id": "61b698b3",
   "metadata": {},
   "outputs": [
    {
     "data": {
      "text/html": [
       "<div>\n",
       "<style scoped>\n",
       "    .dataframe tbody tr th:only-of-type {\n",
       "        vertical-align: middle;\n",
       "    }\n",
       "\n",
       "    .dataframe tbody tr th {\n",
       "        vertical-align: top;\n",
       "    }\n",
       "\n",
       "    .dataframe thead th {\n",
       "        text-align: right;\n",
       "    }\n",
       "</style>\n",
       "<table border=\"1\" class=\"dataframe\">\n",
       "  <thead>\n",
       "    <tr style=\"text-align: right;\">\n",
       "      <th></th>\n",
       "      <th>area</th>\n",
       "      <th>pop</th>\n",
       "      <th>density</th>\n",
       "    </tr>\n",
       "  </thead>\n",
       "  <tbody>\n",
       "    <tr>\n",
       "      <th>California</th>\n",
       "      <td>423967</td>\n",
       "      <td>38332521</td>\n",
       "      <td>90.413926</td>\n",
       "    </tr>\n",
       "    <tr>\n",
       "      <th>Texas</th>\n",
       "      <td>695662</td>\n",
       "      <td>26448193</td>\n",
       "      <td>38.018740</td>\n",
       "    </tr>\n",
       "    <tr>\n",
       "      <th>New York</th>\n",
       "      <td>141297</td>\n",
       "      <td>19651127</td>\n",
       "      <td>139.076746</td>\n",
       "    </tr>\n",
       "    <tr>\n",
       "      <th>Florida</th>\n",
       "      <td>170312</td>\n",
       "      <td>19552860</td>\n",
       "      <td>114.806121</td>\n",
       "    </tr>\n",
       "  </tbody>\n",
       "</table>\n",
       "</div>"
      ],
      "text/plain": [
       "              area       pop     density\n",
       "California  423967  38332521   90.413926\n",
       "Texas       695662  26448193   38.018740\n",
       "New York    141297  19651127  139.076746\n",
       "Florida     170312  19552860  114.806121"
      ]
     },
     "execution_count": 97,
     "metadata": {},
     "output_type": "execute_result"
    }
   ],
   "source": [
    "data.loc['California':'Florida', :]  # Includes last index also"
   ]
  },
  {
   "cell_type": "markdown",
   "id": "0f79607e",
   "metadata": {},
   "source": [
    "### Masking and fancy indexing"
   ]
  },
  {
   "cell_type": "code",
   "execution_count": 109,
   "id": "357f4d83",
   "metadata": {},
   "outputs": [
    {
     "data": {
      "text/html": [
       "<div>\n",
       "<style scoped>\n",
       "    .dataframe tbody tr th:only-of-type {\n",
       "        vertical-align: middle;\n",
       "    }\n",
       "\n",
       "    .dataframe tbody tr th {\n",
       "        vertical-align: top;\n",
       "    }\n",
       "\n",
       "    .dataframe thead th {\n",
       "        text-align: right;\n",
       "    }\n",
       "</style>\n",
       "<table border=\"1\" class=\"dataframe\">\n",
       "  <thead>\n",
       "    <tr style=\"text-align: right;\">\n",
       "      <th></th>\n",
       "      <th>pop</th>\n",
       "      <th>density</th>\n",
       "    </tr>\n",
       "  </thead>\n",
       "  <tbody>\n",
       "    <tr>\n",
       "      <th>New York</th>\n",
       "      <td>19651127</td>\n",
       "      <td>139.076746</td>\n",
       "    </tr>\n",
       "    <tr>\n",
       "      <th>Florida</th>\n",
       "      <td>19552860</td>\n",
       "      <td>114.806121</td>\n",
       "    </tr>\n",
       "  </tbody>\n",
       "</table>\n",
       "</div>"
      ],
      "text/plain": [
       "               pop     density\n",
       "New York  19651127  139.076746\n",
       "Florida   19552860  114.806121"
      ]
     },
     "execution_count": 109,
     "metadata": {},
     "output_type": "execute_result"
    }
   ],
   "source": [
    "# Fancy Indexing\n",
    "data.loc[data.density>100, ['pop','density']]  # Using boolean Expression to select rows"
   ]
  },
  {
   "cell_type": "code",
   "execution_count": 108,
   "id": "13bfd019",
   "metadata": {},
   "outputs": [
    {
     "data": {
      "text/html": [
       "<div>\n",
       "<style scoped>\n",
       "    .dataframe tbody tr th:only-of-type {\n",
       "        vertical-align: middle;\n",
       "    }\n",
       "\n",
       "    .dataframe tbody tr th {\n",
       "        vertical-align: top;\n",
       "    }\n",
       "\n",
       "    .dataframe thead th {\n",
       "        text-align: right;\n",
       "    }\n",
       "</style>\n",
       "<table border=\"1\" class=\"dataframe\">\n",
       "  <thead>\n",
       "    <tr style=\"text-align: right;\">\n",
       "      <th></th>\n",
       "      <th>pop</th>\n",
       "      <th>density</th>\n",
       "    </tr>\n",
       "  </thead>\n",
       "  <tbody>\n",
       "    <tr>\n",
       "      <th>Texas</th>\n",
       "      <td>26448193</td>\n",
       "      <td>38.018740</td>\n",
       "    </tr>\n",
       "    <tr>\n",
       "      <th>New York</th>\n",
       "      <td>19651127</td>\n",
       "      <td>139.076746</td>\n",
       "    </tr>\n",
       "  </tbody>\n",
       "</table>\n",
       "</div>"
      ],
      "text/plain": [
       "               pop     density\n",
       "Texas     26448193   38.018740\n",
       "New York  19651127  139.076746"
      ]
     },
     "execution_count": 108,
     "metadata": {},
     "output_type": "execute_result"
    }
   ],
   "source": [
    "# Masking\n",
    "data.iloc[[1,2], [1,2]]  # Using list to select rows and cols"
   ]
  },
  {
   "cell_type": "code",
   "execution_count": 110,
   "id": "47b6fd14",
   "metadata": {},
   "outputs": [
    {
     "data": {
      "text/html": [
       "<div>\n",
       "<style scoped>\n",
       "    .dataframe tbody tr th:only-of-type {\n",
       "        vertical-align: middle;\n",
       "    }\n",
       "\n",
       "    .dataframe tbody tr th {\n",
       "        vertical-align: top;\n",
       "    }\n",
       "\n",
       "    .dataframe thead th {\n",
       "        text-align: right;\n",
       "    }\n",
       "</style>\n",
       "<table border=\"1\" class=\"dataframe\">\n",
       "  <thead>\n",
       "    <tr style=\"text-align: right;\">\n",
       "      <th></th>\n",
       "      <th>area</th>\n",
       "      <th>pop</th>\n",
       "      <th>density</th>\n",
       "    </tr>\n",
       "  </thead>\n",
       "  <tbody>\n",
       "    <tr>\n",
       "      <th>California</th>\n",
       "      <td>423967</td>\n",
       "      <td>38332521</td>\n",
       "      <td>90.413926</td>\n",
       "    </tr>\n",
       "    <tr>\n",
       "      <th>Texas</th>\n",
       "      <td>695662</td>\n",
       "      <td>26448193</td>\n",
       "      <td>38.018740</td>\n",
       "    </tr>\n",
       "    <tr>\n",
       "      <th>New York</th>\n",
       "      <td>141297</td>\n",
       "      <td>19651127</td>\n",
       "      <td>139.076746</td>\n",
       "    </tr>\n",
       "    <tr>\n",
       "      <th>Florida</th>\n",
       "      <td>170312</td>\n",
       "      <td>19552860</td>\n",
       "      <td>114.806121</td>\n",
       "    </tr>\n",
       "    <tr>\n",
       "      <th>Illinois</th>\n",
       "      <td>149995</td>\n",
       "      <td>12882135</td>\n",
       "      <td>85.883763</td>\n",
       "    </tr>\n",
       "  </tbody>\n",
       "</table>\n",
       "</div>"
      ],
      "text/plain": [
       "              area       pop     density\n",
       "California  423967  38332521   90.413926\n",
       "Texas       695662  26448193   38.018740\n",
       "New York    141297  19651127  139.076746\n",
       "Florida     170312  19552860  114.806121\n",
       "Illinois    149995  12882135   85.883763"
      ]
     },
     "execution_count": 110,
     "metadata": {},
     "output_type": "execute_result"
    }
   ],
   "source": [
    "# Modify values using iloc/loc\n",
    "\n",
    "data"
   ]
  },
  {
   "cell_type": "code",
   "execution_count": 111,
   "id": "455fa039",
   "metadata": {},
   "outputs": [],
   "source": [
    "data.iloc[0, 2] = 0.0"
   ]
  },
  {
   "cell_type": "code",
   "execution_count": 112,
   "id": "c400c69c",
   "metadata": {},
   "outputs": [
    {
     "data": {
      "text/html": [
       "<div>\n",
       "<style scoped>\n",
       "    .dataframe tbody tr th:only-of-type {\n",
       "        vertical-align: middle;\n",
       "    }\n",
       "\n",
       "    .dataframe tbody tr th {\n",
       "        vertical-align: top;\n",
       "    }\n",
       "\n",
       "    .dataframe thead th {\n",
       "        text-align: right;\n",
       "    }\n",
       "</style>\n",
       "<table border=\"1\" class=\"dataframe\">\n",
       "  <thead>\n",
       "    <tr style=\"text-align: right;\">\n",
       "      <th></th>\n",
       "      <th>area</th>\n",
       "      <th>pop</th>\n",
       "      <th>density</th>\n",
       "    </tr>\n",
       "  </thead>\n",
       "  <tbody>\n",
       "    <tr>\n",
       "      <th>California</th>\n",
       "      <td>423967</td>\n",
       "      <td>38332521</td>\n",
       "      <td>0.000000</td>\n",
       "    </tr>\n",
       "    <tr>\n",
       "      <th>Texas</th>\n",
       "      <td>695662</td>\n",
       "      <td>26448193</td>\n",
       "      <td>38.018740</td>\n",
       "    </tr>\n",
       "    <tr>\n",
       "      <th>New York</th>\n",
       "      <td>141297</td>\n",
       "      <td>19651127</td>\n",
       "      <td>139.076746</td>\n",
       "    </tr>\n",
       "    <tr>\n",
       "      <th>Florida</th>\n",
       "      <td>170312</td>\n",
       "      <td>19552860</td>\n",
       "      <td>114.806121</td>\n",
       "    </tr>\n",
       "    <tr>\n",
       "      <th>Illinois</th>\n",
       "      <td>149995</td>\n",
       "      <td>12882135</td>\n",
       "      <td>85.883763</td>\n",
       "    </tr>\n",
       "  </tbody>\n",
       "</table>\n",
       "</div>"
      ],
      "text/plain": [
       "              area       pop     density\n",
       "California  423967  38332521    0.000000\n",
       "Texas       695662  26448193   38.018740\n",
       "New York    141297  19651127  139.076746\n",
       "Florida     170312  19552860  114.806121\n",
       "Illinois    149995  12882135   85.883763"
      ]
     },
     "execution_count": 112,
     "metadata": {},
     "output_type": "execute_result"
    }
   ],
   "source": [
    "data"
   ]
  },
  {
   "cell_type": "markdown",
   "id": "d687ae9d",
   "metadata": {},
   "source": [
    "### Additional Indexing Conventions\n",
    "**1. While indexing refers to columns, slicing refers to rows.**"
   ]
  },
  {
   "cell_type": "code",
   "execution_count": 117,
   "id": "bb65c83b",
   "metadata": {},
   "outputs": [
    {
     "data": {
      "text/plain": [
       "California    423967\n",
       "Texas         695662\n",
       "New York      141297\n",
       "Florida       170312\n",
       "Illinois      149995\n",
       "Name: area, dtype: int64"
      ]
     },
     "execution_count": 117,
     "metadata": {},
     "output_type": "execute_result"
    }
   ],
   "source": [
    "# Example\n",
    "data['area']  # Indexing refers column"
   ]
  },
  {
   "cell_type": "code",
   "execution_count": 119,
   "id": "9f6459b8",
   "metadata": {},
   "outputs": [
    {
     "data": {
      "text/html": [
       "<div>\n",
       "<style scoped>\n",
       "    .dataframe tbody tr th:only-of-type {\n",
       "        vertical-align: middle;\n",
       "    }\n",
       "\n",
       "    .dataframe tbody tr th {\n",
       "        vertical-align: top;\n",
       "    }\n",
       "\n",
       "    .dataframe thead th {\n",
       "        text-align: right;\n",
       "    }\n",
       "</style>\n",
       "<table border=\"1\" class=\"dataframe\">\n",
       "  <thead>\n",
       "    <tr style=\"text-align: right;\">\n",
       "      <th></th>\n",
       "      <th>area</th>\n",
       "      <th>pop</th>\n",
       "      <th>density</th>\n",
       "    </tr>\n",
       "  </thead>\n",
       "  <tbody>\n",
       "    <tr>\n",
       "      <th>California</th>\n",
       "      <td>423967</td>\n",
       "      <td>38332521</td>\n",
       "      <td>0.000000</td>\n",
       "    </tr>\n",
       "    <tr>\n",
       "      <th>Texas</th>\n",
       "      <td>695662</td>\n",
       "      <td>26448193</td>\n",
       "      <td>38.018740</td>\n",
       "    </tr>\n",
       "    <tr>\n",
       "      <th>New York</th>\n",
       "      <td>141297</td>\n",
       "      <td>19651127</td>\n",
       "      <td>139.076746</td>\n",
       "    </tr>\n",
       "  </tbody>\n",
       "</table>\n",
       "</div>"
      ],
      "text/plain": [
       "              area       pop     density\n",
       "California  423967  38332521    0.000000\n",
       "Texas       695662  26448193   38.018740\n",
       "New York    141297  19651127  139.076746"
      ]
     },
     "execution_count": 119,
     "metadata": {},
     "output_type": "execute_result"
    }
   ],
   "source": [
    "data['California':'New York'] # SLicing refers rows"
   ]
  },
  {
   "cell_type": "markdown",
   "id": "903a8c20",
   "metadata": {},
   "source": [
    "**2.Slicing rows can also be referd with numbers (implicit index).**"
   ]
  },
  {
   "cell_type": "code",
   "execution_count": 122,
   "id": "287e13bf",
   "metadata": {},
   "outputs": [
    {
     "data": {
      "text/html": [
       "<div>\n",
       "<style scoped>\n",
       "    .dataframe tbody tr th:only-of-type {\n",
       "        vertical-align: middle;\n",
       "    }\n",
       "\n",
       "    .dataframe tbody tr th {\n",
       "        vertical-align: top;\n",
       "    }\n",
       "\n",
       "    .dataframe thead th {\n",
       "        text-align: right;\n",
       "    }\n",
       "</style>\n",
       "<table border=\"1\" class=\"dataframe\">\n",
       "  <thead>\n",
       "    <tr style=\"text-align: right;\">\n",
       "      <th></th>\n",
       "      <th>area</th>\n",
       "      <th>pop</th>\n",
       "      <th>density</th>\n",
       "    </tr>\n",
       "  </thead>\n",
       "  <tbody>\n",
       "    <tr>\n",
       "      <th>California</th>\n",
       "      <td>423967</td>\n",
       "      <td>38332521</td>\n",
       "      <td>0.000000</td>\n",
       "    </tr>\n",
       "    <tr>\n",
       "      <th>Texas</th>\n",
       "      <td>695662</td>\n",
       "      <td>26448193</td>\n",
       "      <td>38.018740</td>\n",
       "    </tr>\n",
       "    <tr>\n",
       "      <th>New York</th>\n",
       "      <td>141297</td>\n",
       "      <td>19651127</td>\n",
       "      <td>139.076746</td>\n",
       "    </tr>\n",
       "  </tbody>\n",
       "</table>\n",
       "</div>"
      ],
      "text/plain": [
       "              area       pop     density\n",
       "California  423967  38332521    0.000000\n",
       "Texas       695662  26448193   38.018740\n",
       "New York    141297  19651127  139.076746"
      ]
     },
     "execution_count": 122,
     "metadata": {},
     "output_type": "execute_result"
    }
   ],
   "source": [
    "data[0:3]"
   ]
  },
  {
   "cell_type": "markdown",
   "id": "82e5ea3c",
   "metadata": {},
   "source": [
    "**3. Direct masking operation also signifies a row-operation.**"
   ]
  },
  {
   "cell_type": "code",
   "execution_count": 127,
   "id": "e181cacc",
   "metadata": {},
   "outputs": [
    {
     "data": {
      "text/html": [
       "<div>\n",
       "<style scoped>\n",
       "    .dataframe tbody tr th:only-of-type {\n",
       "        vertical-align: middle;\n",
       "    }\n",
       "\n",
       "    .dataframe tbody tr th {\n",
       "        vertical-align: top;\n",
       "    }\n",
       "\n",
       "    .dataframe thead th {\n",
       "        text-align: right;\n",
       "    }\n",
       "</style>\n",
       "<table border=\"1\" class=\"dataframe\">\n",
       "  <thead>\n",
       "    <tr style=\"text-align: right;\">\n",
       "      <th></th>\n",
       "      <th>area</th>\n",
       "      <th>pop</th>\n",
       "      <th>density</th>\n",
       "    </tr>\n",
       "  </thead>\n",
       "  <tbody>\n",
       "    <tr>\n",
       "      <th>New York</th>\n",
       "      <td>141297</td>\n",
       "      <td>19651127</td>\n",
       "      <td>139.076746</td>\n",
       "    </tr>\n",
       "    <tr>\n",
       "      <th>Florida</th>\n",
       "      <td>170312</td>\n",
       "      <td>19552860</td>\n",
       "      <td>114.806121</td>\n",
       "    </tr>\n",
       "  </tbody>\n",
       "</table>\n",
       "</div>"
      ],
      "text/plain": [
       "            area       pop     density\n",
       "New York  141297  19651127  139.076746\n",
       "Florida   170312  19552860  114.806121"
      ]
     },
     "execution_count": 127,
     "metadata": {},
     "output_type": "execute_result"
    }
   ],
   "source": [
    "data[data['density']>100] \n",
    "\n",
    "#or\n",
    "\n",
    "data[data.density>100]"
   ]
  }
 ],
 "metadata": {
  "kernelspec": {
   "display_name": "Python 3 (ipykernel)",
   "language": "python",
   "name": "python3"
  },
  "language_info": {
   "codemirror_mode": {
    "name": "ipython",
    "version": 3
   },
   "file_extension": ".py",
   "mimetype": "text/x-python",
   "name": "python",
   "nbconvert_exporter": "python",
   "pygments_lexer": "ipython3",
   "version": "3.12.5"
  }
 },
 "nbformat": 4,
 "nbformat_minor": 5
}
